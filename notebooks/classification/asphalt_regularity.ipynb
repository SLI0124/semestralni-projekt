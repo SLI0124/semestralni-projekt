{
 "cells": [
  {
   "cell_type": "markdown",
   "id": "5c0658e5",
   "metadata": {},
   "source": [
    "# Úvod\n",
    "\n",
    "Dataset AsphaltRegularity obsahuje data z akcelerometru chytrého telefonu umístěného ve vozidle. Jde o dataset zachycující stav asfaltu na vozovkách, který byl vytvořen pomocí aplikace Asfault, což je autory vyrobená aplikace. Expert řídil vozidlo, zatímco aplikace zaznamenávala časová razítka, akcelerační síly (X,Y,Z), zeměpisnou šířku, délku a rychlost.\n",
    "\n",
    "Pro klasifikační úlohu se používají akcelerační síly převedené na jednorozměrnou časovou řadu reprezentující velikost zrychlení. Vzorkovací frekvence byla 100 Hz s mírnou tolerancí (95-105 pozorování za sekundu).\n",
    "\n",
    "Data byla sbírána v brazilských městech pomocí vozu Hyundai i30 a dvou různých zařízení Samsung. Pro ověření správnosti klasifikace aplikace také zaznamenávala video.\n",
    "\n",
    "Dataset obsahuje dvě třídy:\n",
    "- **Pravidelný (Regular)**: vozovka je pravidelná s minimálními změnami pohodlí řidiče (762 případů)\n",
    "- **Zhoršený (Deteriorated)**: vozovka obsahuje nepravidelnosti způsobující vibrace snižující pohodlí řidiče (740 případů)\n",
    "\n",
    "Celkem 1502 případů s proměnnou délkou (66-4201 pozorování). Data jsou náhodně rozdělena na trénovací a testovací část v poměru 50/50.\n",
    "\n",
    "Nejlepší dosažená přesnost byla 96,48% pomocí měření vzdálenosti LCSS v kombinaci s Complexity Invariant Distance (CID-LCSS).\n"
   ]
  },
  {
   "cell_type": "markdown",
   "id": "cf933e6e",
   "metadata": {},
   "source": [
    "# Načtení všech potřebných knihoven\n"
   ]
  },
  {
   "cell_type": "code",
   "id": "3a3c964c",
   "metadata": {
    "ExecuteTime": {
     "end_time": "2025-05-12T11:10:02.204950Z",
     "start_time": "2025-05-12T11:09:59.654516Z"
    }
   },
   "source": [
    "import os\n",
    "import zipfile\n",
    "import copy\n",
    "from collections import defaultdict\n",
    "import random\n",
    "\n",
    "import requests\n",
    "import pandas as pd\n",
    "import matplotlib.pyplot as plt\n",
    "from scipy.io import arff\n",
    "import seaborn as sns\n",
    "import numpy as np\n",
    "from tqdm import tqdm\n",
    "\n",
    "import torch\n",
    "import torch.nn as nn\n",
    "import torch.nn.functional as F\n",
    "from torch.utils.data import DataLoader, TensorDataset\n",
    "import torchinfo\n",
    "\n",
    "from sklearn.tree import DecisionTreeClassifier\n",
    "from sklearn.ensemble import RandomForestClassifier, GradientBoostingClassifier\n",
    "from sklearn.metrics import classification_report, confusion_matrix"
   ],
   "outputs": [],
   "execution_count": 1
  },
  {
   "cell_type": "markdown",
   "id": "6094ef60",
   "metadata": {},
   "source": [
    "# Nastavení stejného seedu pro reprodukovatelnost\n"
   ]
  },
  {
   "cell_type": "code",
   "id": "39ca30d9",
   "metadata": {
    "ExecuteTime": {
     "end_time": "2025-05-12T11:10:02.217830Z",
     "start_time": "2025-05-12T11:10:02.210134Z"
    }
   },
   "source": [
    "seed = 42\n",
    "random.seed(seed)\n",
    "os.environ['PYTHONHASHSEED'] = str(seed)\n",
    "np.random.seed(seed)\n",
    "torch.manual_seed(seed)\n",
    "torch.cuda.manual_seed(seed)\n",
    "torch.cuda.manual_seed_all(seed)\n",
    "\n",
    "torch.backends.cudnn.deterministic = True\n",
    "torch.backends.cudnn.benchmark = False"
   ],
   "outputs": [],
   "execution_count": 2
  },
  {
   "cell_type": "markdown",
   "id": "f6d6087b",
   "metadata": {},
   "source": [
    "# Kontrola, zda je GPU dostupné\n"
   ]
  },
  {
   "cell_type": "code",
   "id": "df75ceee",
   "metadata": {
    "ExecuteTime": {
     "end_time": "2025-05-12T11:10:02.428398Z",
     "start_time": "2025-05-12T11:10:02.398733Z"
    }
   },
   "source": [
    "if torch.cuda.is_available():\n",
    "    device = torch.device(\"cuda\")\n",
    "    print(f\"GPU: {torch.cuda.get_device_name(0)}\")\n",
    "else:\n",
    "    device = torch.device(\"cpu\")\n",
    "    print(\"CPU\")"
   ],
   "outputs": [
    {
     "name": "stdout",
     "output_type": "stream",
     "text": [
      "GPU: NVIDIA GeForce RTX 2070\n"
     ]
    }
   ],
   "execution_count": 3
  },
  {
   "cell_type": "markdown",
   "id": "5507ff7a",
   "metadata": {},
   "source": [
    "# Načtení dat\n"
   ]
  },
  {
   "cell_type": "markdown",
   "id": "b77498e3",
   "metadata": {},
   "source": [
    "## Stažení a extrakce dat\n"
   ]
  },
  {
   "cell_type": "code",
   "id": "2537516a",
   "metadata": {
    "ExecuteTime": {
     "end_time": "2025-05-12T11:10:02.440940Z",
     "start_time": "2025-05-12T11:10:02.437819Z"
    }
   },
   "source": [
    "dataset_path = \"../../datasets/AsphaltRegularity/\"\n",
    "url = \"https://www.timeseriesclassification.com/aeon-toolkit/AsphaltRegularity.zip\"\n",
    "zip_file_name = \"AsphaltRegularity.zip\""
   ],
   "outputs": [],
   "execution_count": 4
  },
  {
   "cell_type": "code",
   "id": "e616bd5a",
   "metadata": {
    "ExecuteTime": {
     "end_time": "2025-05-12T11:10:02.473141Z",
     "start_time": "2025-05-12T11:10:02.468227Z"
    }
   },
   "source": [
    "if not os.path.exists(dataset_path):\n",
    "    os.makedirs(dataset_path)\n",
    "\n",
    "    print(f\"Downloading dataset from {url}...\")\n",
    "\n",
    "    response = requests.get(url, stream=True)\n",
    "    total_size = int(response.headers.get('content-length', 0))\n",
    "    block_size = 1024\n",
    "\n",
    "    zip_path = os.path.join(dataset_path, zip_file_name)\n",
    "    with open(zip_path, \"wb\") as f:\n",
    "        progress_bar = tqdm(total=total_size, unit='B', unit_scale=True, desc=\"Downloading\")\n",
    "        for data in response.iter_content(block_size):\n",
    "            f.write(data)\n",
    "            progress_bar.update(len(data))\n",
    "\n",
    "    print(\"Extracting files...\")\n",
    "    with zipfile.ZipFile(zip_path, \"r\") as zip_ref:\n",
    "        file_list = zip_ref.namelist()\n",
    "        for file in tqdm(file_list, desc=\"Extracting\"):\n",
    "            zip_ref.extract(file, dataset_path)\n",
    "\n",
    "    # Remove zip file\n",
    "    os.remove(zip_path)\n",
    "    print(\"Download and extraction complete!\")\n",
    "else:\n",
    "    print(f\"Dataset already exists at {dataset_path}\")"
   ],
   "outputs": [
    {
     "name": "stdout",
     "output_type": "stream",
     "text": [
      "Dataset already exists at ../../datasets/AsphaltRegularity/\n"
     ]
    }
   ],
   "execution_count": 5
  },
  {
   "cell_type": "markdown",
   "id": "842de006",
   "metadata": {},
   "source": [
    "## Načtení dat do pandas DataFrame\n"
   ]
  },
  {
   "cell_type": "code",
   "id": "e61182c7",
   "metadata": {
    "ExecuteTime": {
     "end_time": "2025-05-12T11:10:02.535126Z",
     "start_time": "2025-05-12T11:10:02.532472Z"
    }
   },
   "source": [
    "train_arff_path = \"../../datasets/AsphaltRegularity/AsphaltRegularity_eq_TRAIN.arff\"\n",
    "test_arff_path = \"../../datasets/AsphaltRegularity/AsphaltRegularity_eq_TEST.arff\""
   ],
   "outputs": [],
   "execution_count": 6
  },
  {
   "cell_type": "markdown",
   "id": "6218c17d",
   "metadata": {},
   "source": [
    "### Načtení ARFF souborů\n"
   ]
  },
  {
   "cell_type": "code",
   "id": "9add483e",
   "metadata": {
    "ExecuteTime": {
     "end_time": "2025-05-12T11:10:07.036593Z",
     "start_time": "2025-05-12T11:10:02.558222Z"
    }
   },
   "source": [
    "arff_train_file, _ = arff.loadarff(train_arff_path)\n",
    "arff_test_file, _ = arff.loadarff(test_arff_path)"
   ],
   "outputs": [],
   "execution_count": 7
  },
  {
   "cell_type": "code",
   "id": "0af58a0f",
   "metadata": {
    "ExecuteTime": {
     "end_time": "2025-05-12T11:10:07.100804Z",
     "start_time": "2025-05-12T11:10:07.041365Z"
    }
   },
   "source": [
    "df_train = pd.DataFrame(arff_train_file)\n",
    "df_test = pd.DataFrame(arff_test_file)"
   ],
   "outputs": [],
   "execution_count": 8
  },
  {
   "cell_type": "markdown",
   "id": "46d8f131",
   "metadata": {},
   "source": [
    "# Zobrazení dat\n"
   ]
  },
  {
   "cell_type": "markdown",
   "id": "cc822585",
   "metadata": {},
   "source": [
    "## Velikost dat\n"
   ]
  },
  {
   "cell_type": "code",
   "id": "e014057a",
   "metadata": {
    "ExecuteTime": {
     "end_time": "2025-05-12T11:10:15.725218Z",
     "start_time": "2025-05-12T11:10:15.720962Z"
    }
   },
   "source": [
    "print(f\"Train: {df_train.shape}\\nTest: {df_test.shape}\")"
   ],
   "outputs": [
    {
     "name": "stdout",
     "output_type": "stream",
     "text": [
      "Train: (751, 4202)\n",
      "Test: (751, 4202)\n"
     ]
    }
   ],
   "execution_count": 9
  },
  {
   "cell_type": "code",
   "id": "f3e3dc94",
   "metadata": {
    "ExecuteTime": {
     "end_time": "2025-05-12T11:10:24.245369Z",
     "start_time": "2025-05-12T11:10:24.161646Z"
    }
   },
   "source": [
    "df_train.info()"
   ],
   "outputs": [
    {
     "name": "stdout",
     "output_type": "stream",
     "text": [
      "<class 'pandas.core.frame.DataFrame'>\n",
      "RangeIndex: 751 entries, 0 to 750\n",
      "Columns: 4202 entries, TimeSeriesData_0 to ClassLabel\n",
      "dtypes: float64(4201), object(1)\n",
      "memory usage: 24.1+ MB\n"
     ]
    }
   ],
   "execution_count": 10
  },
  {
   "cell_type": "code",
   "id": "b1a4b983",
   "metadata": {
    "ExecuteTime": {
     "end_time": "2025-05-12T11:10:40.888420Z",
     "start_time": "2025-05-12T11:10:40.867488Z"
    }
   },
   "source": [
    "df_train.head()"
   ],
   "outputs": [
    {
     "data": {
      "text/plain": [
       "   TimeSeriesData_0  TimeSeriesData_1  TimeSeriesData_2  TimeSeriesData_3  \\\n",
       "0         -2.241999         -0.785337         -0.365548         -2.802555   \n",
       "1          3.368354         -5.432041         -0.910111          4.390032   \n",
       "2         -0.978333          0.463846          4.258012         -1.333937   \n",
       "3         -0.032305          1.615828         -1.149885          0.264362   \n",
       "4          2.001675          0.712353         -0.619624          0.740481   \n",
       "\n",
       "   TimeSeriesData_4  TimeSeriesData_5  TimeSeriesData_6  TimeSeriesData_7  \\\n",
       "0         -1.494757          3.136574         -3.481025          1.915506   \n",
       "1          6.531601          5.437391          3.240019          5.899653   \n",
       "2          0.540772         -0.181646          2.067823          0.672799   \n",
       "3          3.814583         -2.267159          4.430210         -0.415660   \n",
       "4          0.255051         -1.780449         -1.587002          0.891391   \n",
       "\n",
       "   TimeSeriesData_8  TimeSeriesData_9  ...  TimeSeriesData_4192  \\\n",
       "0          1.118814          1.455619  ...             0.019864   \n",
       "1          1.109411         -8.137400  ...            -0.125587   \n",
       "2         -1.916823          1.845216  ...             0.063595   \n",
       "3         -1.828454          1.192999  ...             0.026417   \n",
       "4         -0.074523         -0.443457  ...            -0.178102   \n",
       "\n",
       "   TimeSeriesData_4193  TimeSeriesData_4194  TimeSeriesData_4195  \\\n",
       "0            -0.048524            -0.013331            -0.041912   \n",
       "1            -0.078896            -0.044055            -0.086830   \n",
       "2             0.037612             0.120513             0.003256   \n",
       "3            -0.007708            -0.067567             0.006079   \n",
       "4            -0.158247            -0.169538            -0.117842   \n",
       "\n",
       "   TimeSeriesData_4196  TimeSeriesData_4197  TimeSeriesData_4198  \\\n",
       "0             0.037125             0.069414             0.039602   \n",
       "1            -0.186411            -0.139252             0.004982   \n",
       "2             0.078777             0.012366             0.099339   \n",
       "3            -0.048006            -0.017117            -0.034179   \n",
       "4            -0.184606            -0.163815            -0.148585   \n",
       "\n",
       "   TimeSeriesData_4199  TimeSeriesData_4200       ClassLabel  \n",
       "0            -0.030964             0.001677  b'deteriorated'  \n",
       "1            -0.074061            -0.203025  b'deteriorated'  \n",
       "2             0.102409             0.075092  b'deteriorated'  \n",
       "3            -0.035868            -0.044046  b'deteriorated'  \n",
       "4            -0.164225            -0.142853  b'deteriorated'  \n",
       "\n",
       "[5 rows x 4202 columns]"
      ],
      "text/html": [
       "<div>\n",
       "<style scoped>\n",
       "    .dataframe tbody tr th:only-of-type {\n",
       "        vertical-align: middle;\n",
       "    }\n",
       "\n",
       "    .dataframe tbody tr th {\n",
       "        vertical-align: top;\n",
       "    }\n",
       "\n",
       "    .dataframe thead th {\n",
       "        text-align: right;\n",
       "    }\n",
       "</style>\n",
       "<table border=\"1\" class=\"dataframe\">\n",
       "  <thead>\n",
       "    <tr style=\"text-align: right;\">\n",
       "      <th></th>\n",
       "      <th>TimeSeriesData_0</th>\n",
       "      <th>TimeSeriesData_1</th>\n",
       "      <th>TimeSeriesData_2</th>\n",
       "      <th>TimeSeriesData_3</th>\n",
       "      <th>TimeSeriesData_4</th>\n",
       "      <th>TimeSeriesData_5</th>\n",
       "      <th>TimeSeriesData_6</th>\n",
       "      <th>TimeSeriesData_7</th>\n",
       "      <th>TimeSeriesData_8</th>\n",
       "      <th>TimeSeriesData_9</th>\n",
       "      <th>...</th>\n",
       "      <th>TimeSeriesData_4192</th>\n",
       "      <th>TimeSeriesData_4193</th>\n",
       "      <th>TimeSeriesData_4194</th>\n",
       "      <th>TimeSeriesData_4195</th>\n",
       "      <th>TimeSeriesData_4196</th>\n",
       "      <th>TimeSeriesData_4197</th>\n",
       "      <th>TimeSeriesData_4198</th>\n",
       "      <th>TimeSeriesData_4199</th>\n",
       "      <th>TimeSeriesData_4200</th>\n",
       "      <th>ClassLabel</th>\n",
       "    </tr>\n",
       "  </thead>\n",
       "  <tbody>\n",
       "    <tr>\n",
       "      <th>0</th>\n",
       "      <td>-2.241999</td>\n",
       "      <td>-0.785337</td>\n",
       "      <td>-0.365548</td>\n",
       "      <td>-2.802555</td>\n",
       "      <td>-1.494757</td>\n",
       "      <td>3.136574</td>\n",
       "      <td>-3.481025</td>\n",
       "      <td>1.915506</td>\n",
       "      <td>1.118814</td>\n",
       "      <td>1.455619</td>\n",
       "      <td>...</td>\n",
       "      <td>0.019864</td>\n",
       "      <td>-0.048524</td>\n",
       "      <td>-0.013331</td>\n",
       "      <td>-0.041912</td>\n",
       "      <td>0.037125</td>\n",
       "      <td>0.069414</td>\n",
       "      <td>0.039602</td>\n",
       "      <td>-0.030964</td>\n",
       "      <td>0.001677</td>\n",
       "      <td>b'deteriorated'</td>\n",
       "    </tr>\n",
       "    <tr>\n",
       "      <th>1</th>\n",
       "      <td>3.368354</td>\n",
       "      <td>-5.432041</td>\n",
       "      <td>-0.910111</td>\n",
       "      <td>4.390032</td>\n",
       "      <td>6.531601</td>\n",
       "      <td>5.437391</td>\n",
       "      <td>3.240019</td>\n",
       "      <td>5.899653</td>\n",
       "      <td>1.109411</td>\n",
       "      <td>-8.137400</td>\n",
       "      <td>...</td>\n",
       "      <td>-0.125587</td>\n",
       "      <td>-0.078896</td>\n",
       "      <td>-0.044055</td>\n",
       "      <td>-0.086830</td>\n",
       "      <td>-0.186411</td>\n",
       "      <td>-0.139252</td>\n",
       "      <td>0.004982</td>\n",
       "      <td>-0.074061</td>\n",
       "      <td>-0.203025</td>\n",
       "      <td>b'deteriorated'</td>\n",
       "    </tr>\n",
       "    <tr>\n",
       "      <th>2</th>\n",
       "      <td>-0.978333</td>\n",
       "      <td>0.463846</td>\n",
       "      <td>4.258012</td>\n",
       "      <td>-1.333937</td>\n",
       "      <td>0.540772</td>\n",
       "      <td>-0.181646</td>\n",
       "      <td>2.067823</td>\n",
       "      <td>0.672799</td>\n",
       "      <td>-1.916823</td>\n",
       "      <td>1.845216</td>\n",
       "      <td>...</td>\n",
       "      <td>0.063595</td>\n",
       "      <td>0.037612</td>\n",
       "      <td>0.120513</td>\n",
       "      <td>0.003256</td>\n",
       "      <td>0.078777</td>\n",
       "      <td>0.012366</td>\n",
       "      <td>0.099339</td>\n",
       "      <td>0.102409</td>\n",
       "      <td>0.075092</td>\n",
       "      <td>b'deteriorated'</td>\n",
       "    </tr>\n",
       "    <tr>\n",
       "      <th>3</th>\n",
       "      <td>-0.032305</td>\n",
       "      <td>1.615828</td>\n",
       "      <td>-1.149885</td>\n",
       "      <td>0.264362</td>\n",
       "      <td>3.814583</td>\n",
       "      <td>-2.267159</td>\n",
       "      <td>4.430210</td>\n",
       "      <td>-0.415660</td>\n",
       "      <td>-1.828454</td>\n",
       "      <td>1.192999</td>\n",
       "      <td>...</td>\n",
       "      <td>0.026417</td>\n",
       "      <td>-0.007708</td>\n",
       "      <td>-0.067567</td>\n",
       "      <td>0.006079</td>\n",
       "      <td>-0.048006</td>\n",
       "      <td>-0.017117</td>\n",
       "      <td>-0.034179</td>\n",
       "      <td>-0.035868</td>\n",
       "      <td>-0.044046</td>\n",
       "      <td>b'deteriorated'</td>\n",
       "    </tr>\n",
       "    <tr>\n",
       "      <th>4</th>\n",
       "      <td>2.001675</td>\n",
       "      <td>0.712353</td>\n",
       "      <td>-0.619624</td>\n",
       "      <td>0.740481</td>\n",
       "      <td>0.255051</td>\n",
       "      <td>-1.780449</td>\n",
       "      <td>-1.587002</td>\n",
       "      <td>0.891391</td>\n",
       "      <td>-0.074523</td>\n",
       "      <td>-0.443457</td>\n",
       "      <td>...</td>\n",
       "      <td>-0.178102</td>\n",
       "      <td>-0.158247</td>\n",
       "      <td>-0.169538</td>\n",
       "      <td>-0.117842</td>\n",
       "      <td>-0.184606</td>\n",
       "      <td>-0.163815</td>\n",
       "      <td>-0.148585</td>\n",
       "      <td>-0.164225</td>\n",
       "      <td>-0.142853</td>\n",
       "      <td>b'deteriorated'</td>\n",
       "    </tr>\n",
       "  </tbody>\n",
       "</table>\n",
       "<p>5 rows × 4202 columns</p>\n",
       "</div>"
      ]
     },
     "execution_count": 11,
     "metadata": {},
     "output_type": "execute_result"
    }
   ],
   "execution_count": 11
  },
  {
   "cell_type": "markdown",
   "id": "a86d6388",
   "metadata": {},
   "source": [
    "## Převod cílového atributu na číselný\n"
   ]
  },
  {
   "cell_type": "code",
   "id": "3d62e0e9",
   "metadata": {
    "ExecuteTime": {
     "end_time": "2025-05-12T11:10:40.908384Z",
     "start_time": "2025-05-12T11:10:40.904615Z"
    }
   },
   "source": [
    "print(type(df_train['ClassLabel']))\n",
    "print(df_train['ClassLabel'].unique())"
   ],
   "outputs": [
    {
     "name": "stdout",
     "output_type": "stream",
     "text": [
      "<class 'pandas.core.series.Series'>\n",
      "[b'deteriorated' b'regular']\n"
     ]
    }
   ],
   "execution_count": 12
  },
  {
   "cell_type": "markdown",
   "id": "88a148fa",
   "metadata": {},
   "source": [
    "Vidíme, že cílový atribut je uložen jako bytový řetezec. Přemapujeme jej na UTF-8 a poté na číselný typ.\n",
    "\n",
    "- **1** je pro regulérní vzorek\n",
    "- **2** je pro anomálii, nebo nějaký neobvyklý vzorek\n"
   ]
  },
  {
   "cell_type": "code",
   "id": "ac8e6959",
   "metadata": {
    "ExecuteTime": {
     "end_time": "2025-05-12T11:10:41.534858Z",
     "start_time": "2025-05-12T11:10:41.531595Z"
    }
   },
   "source": [
    "label_map = {'regular': 0, 'deteriorated': 1}"
   ],
   "outputs": [],
   "execution_count": 13
  },
  {
   "cell_type": "code",
   "id": "e8238fd4",
   "metadata": {
    "ExecuteTime": {
     "end_time": "2025-05-12T11:10:41.560196Z",
     "start_time": "2025-05-12T11:10:41.551876Z"
    }
   },
   "source": [
    "df_train['ClassLabel'] = df_train['ClassLabel'].str.decode('utf-8').map(label_map)\n",
    "df_test['ClassLabel'] = df_test['ClassLabel'].str.decode('utf-8').map(label_map)"
   ],
   "outputs": [],
   "execution_count": 14
  },
  {
   "cell_type": "code",
   "id": "0df417eb",
   "metadata": {
    "ExecuteTime": {
     "end_time": "2025-05-12T11:10:41.571376Z",
     "start_time": "2025-05-12T11:10:41.567617Z"
    }
   },
   "source": [
    "print(type(df_train['ClassLabel']))\n",
    "print(df_train['ClassLabel'].unique())"
   ],
   "outputs": [
    {
     "name": "stdout",
     "output_type": "stream",
     "text": [
      "<class 'pandas.core.series.Series'>\n",
      "[1 0]\n"
     ]
    }
   ],
   "execution_count": 15
  },
  {
   "cell_type": "markdown",
   "id": "b6210297",
   "metadata": {},
   "source": [
    "## Medián\n"
   ]
  },
  {
   "cell_type": "code",
   "id": "bb3b7447",
   "metadata": {
    "ExecuteTime": {
     "end_time": "2025-05-12T11:10:41.662787Z",
     "start_time": "2025-05-12T11:10:41.610835Z"
    }
   },
   "source": [
    "df_train.groupby('ClassLabel').mean()"
   ],
   "outputs": [
    {
     "data": {
      "text/plain": [
       "            TimeSeriesData_0  TimeSeriesData_1  TimeSeriesData_2  \\\n",
       "ClassLabel                                                         \n",
       "0                  -0.001752          0.011296         -0.012886   \n",
       "1                  -0.027415         -0.070214          0.132940   \n",
       "\n",
       "            TimeSeriesData_3  TimeSeriesData_4  TimeSeriesData_5  \\\n",
       "ClassLabel                                                         \n",
       "0                   0.088999         -0.020456         -0.009314   \n",
       "1                   0.076305         -0.327827         -0.055647   \n",
       "\n",
       "            TimeSeriesData_6  TimeSeriesData_7  TimeSeriesData_8  \\\n",
       "ClassLabel                                                         \n",
       "0                   0.045338          0.026659          0.031348   \n",
       "1                  -0.082599         -0.204254          0.076857   \n",
       "\n",
       "            TimeSeriesData_9  ...  TimeSeriesData_4191  TimeSeriesData_4192  \\\n",
       "ClassLabel                    ...                                             \n",
       "0                  -0.038573  ...             0.002908             0.001089   \n",
       "1                   0.014910  ...             0.015954             0.012128   \n",
       "\n",
       "            TimeSeriesData_4193  TimeSeriesData_4194  TimeSeriesData_4195  \\\n",
       "ClassLabel                                                                  \n",
       "0                      0.002621             0.001638             0.001841   \n",
       "1                      0.009455             0.015083             0.021950   \n",
       "\n",
       "            TimeSeriesData_4196  TimeSeriesData_4197  TimeSeriesData_4198  \\\n",
       "ClassLabel                                                                  \n",
       "0                      0.002786             0.000678             0.001247   \n",
       "1                      0.025877             0.035556             0.040318   \n",
       "\n",
       "            TimeSeriesData_4199  TimeSeriesData_4200  \n",
       "ClassLabel                                            \n",
       "0                      0.002232             0.003013  \n",
       "1                      0.035821             0.038892  \n",
       "\n",
       "[2 rows x 4201 columns]"
      ],
      "text/html": [
       "<div>\n",
       "<style scoped>\n",
       "    .dataframe tbody tr th:only-of-type {\n",
       "        vertical-align: middle;\n",
       "    }\n",
       "\n",
       "    .dataframe tbody tr th {\n",
       "        vertical-align: top;\n",
       "    }\n",
       "\n",
       "    .dataframe thead th {\n",
       "        text-align: right;\n",
       "    }\n",
       "</style>\n",
       "<table border=\"1\" class=\"dataframe\">\n",
       "  <thead>\n",
       "    <tr style=\"text-align: right;\">\n",
       "      <th></th>\n",
       "      <th>TimeSeriesData_0</th>\n",
       "      <th>TimeSeriesData_1</th>\n",
       "      <th>TimeSeriesData_2</th>\n",
       "      <th>TimeSeriesData_3</th>\n",
       "      <th>TimeSeriesData_4</th>\n",
       "      <th>TimeSeriesData_5</th>\n",
       "      <th>TimeSeriesData_6</th>\n",
       "      <th>TimeSeriesData_7</th>\n",
       "      <th>TimeSeriesData_8</th>\n",
       "      <th>TimeSeriesData_9</th>\n",
       "      <th>...</th>\n",
       "      <th>TimeSeriesData_4191</th>\n",
       "      <th>TimeSeriesData_4192</th>\n",
       "      <th>TimeSeriesData_4193</th>\n",
       "      <th>TimeSeriesData_4194</th>\n",
       "      <th>TimeSeriesData_4195</th>\n",
       "      <th>TimeSeriesData_4196</th>\n",
       "      <th>TimeSeriesData_4197</th>\n",
       "      <th>TimeSeriesData_4198</th>\n",
       "      <th>TimeSeriesData_4199</th>\n",
       "      <th>TimeSeriesData_4200</th>\n",
       "    </tr>\n",
       "    <tr>\n",
       "      <th>ClassLabel</th>\n",
       "      <th></th>\n",
       "      <th></th>\n",
       "      <th></th>\n",
       "      <th></th>\n",
       "      <th></th>\n",
       "      <th></th>\n",
       "      <th></th>\n",
       "      <th></th>\n",
       "      <th></th>\n",
       "      <th></th>\n",
       "      <th></th>\n",
       "      <th></th>\n",
       "      <th></th>\n",
       "      <th></th>\n",
       "      <th></th>\n",
       "      <th></th>\n",
       "      <th></th>\n",
       "      <th></th>\n",
       "      <th></th>\n",
       "      <th></th>\n",
       "      <th></th>\n",
       "    </tr>\n",
       "  </thead>\n",
       "  <tbody>\n",
       "    <tr>\n",
       "      <th>0</th>\n",
       "      <td>-0.001752</td>\n",
       "      <td>0.011296</td>\n",
       "      <td>-0.012886</td>\n",
       "      <td>0.088999</td>\n",
       "      <td>-0.020456</td>\n",
       "      <td>-0.009314</td>\n",
       "      <td>0.045338</td>\n",
       "      <td>0.026659</td>\n",
       "      <td>0.031348</td>\n",
       "      <td>-0.038573</td>\n",
       "      <td>...</td>\n",
       "      <td>0.002908</td>\n",
       "      <td>0.001089</td>\n",
       "      <td>0.002621</td>\n",
       "      <td>0.001638</td>\n",
       "      <td>0.001841</td>\n",
       "      <td>0.002786</td>\n",
       "      <td>0.000678</td>\n",
       "      <td>0.001247</td>\n",
       "      <td>0.002232</td>\n",
       "      <td>0.003013</td>\n",
       "    </tr>\n",
       "    <tr>\n",
       "      <th>1</th>\n",
       "      <td>-0.027415</td>\n",
       "      <td>-0.070214</td>\n",
       "      <td>0.132940</td>\n",
       "      <td>0.076305</td>\n",
       "      <td>-0.327827</td>\n",
       "      <td>-0.055647</td>\n",
       "      <td>-0.082599</td>\n",
       "      <td>-0.204254</td>\n",
       "      <td>0.076857</td>\n",
       "      <td>0.014910</td>\n",
       "      <td>...</td>\n",
       "      <td>0.015954</td>\n",
       "      <td>0.012128</td>\n",
       "      <td>0.009455</td>\n",
       "      <td>0.015083</td>\n",
       "      <td>0.021950</td>\n",
       "      <td>0.025877</td>\n",
       "      <td>0.035556</td>\n",
       "      <td>0.040318</td>\n",
       "      <td>0.035821</td>\n",
       "      <td>0.038892</td>\n",
       "    </tr>\n",
       "  </tbody>\n",
       "</table>\n",
       "<p>2 rows × 4201 columns</p>\n",
       "</div>"
      ]
     },
     "execution_count": 16,
     "metadata": {},
     "output_type": "execute_result"
    }
   ],
   "execution_count": 16
  },
  {
   "cell_type": "markdown",
   "id": "44c4723c",
   "metadata": {},
   "source": [
    "## Směrodatná odchylka\n"
   ]
  },
  {
   "cell_type": "code",
   "id": "eddaf822",
   "metadata": {
    "ExecuteTime": {
     "end_time": "2025-05-12T11:10:41.727721Z",
     "start_time": "2025-05-12T11:10:41.675890Z"
    }
   },
   "source": [
    "df_train.groupby('ClassLabel').std()"
   ],
   "outputs": [
    {
     "data": {
      "text/plain": [
       "            TimeSeriesData_0  TimeSeriesData_1  TimeSeriesData_2  \\\n",
       "ClassLabel                                                         \n",
       "0                   1.116912          1.086053          1.155697   \n",
       "1                   2.279998          2.089236          2.503882   \n",
       "\n",
       "            TimeSeriesData_3  TimeSeriesData_4  TimeSeriesData_5  \\\n",
       "ClassLabel                                                         \n",
       "0                   1.256541          1.051079          1.024839   \n",
       "1                   2.428686          2.255934          2.308267   \n",
       "\n",
       "            TimeSeriesData_6  TimeSeriesData_7  TimeSeriesData_8  \\\n",
       "ClassLabel                                                         \n",
       "0                   1.111509          1.183096          1.021179   \n",
       "1                   2.263341          2.377692          2.454118   \n",
       "\n",
       "            TimeSeriesData_9  ...  TimeSeriesData_4191  TimeSeriesData_4192  \\\n",
       "ClassLabel                    ...                                             \n",
       "0                   1.087705  ...             0.104520             0.104960   \n",
       "1                   2.356283  ...             0.160579             0.181603   \n",
       "\n",
       "            TimeSeriesData_4193  TimeSeriesData_4194  TimeSeriesData_4195  \\\n",
       "ClassLabel                                                                  \n",
       "0                      0.106296             0.105585             0.105736   \n",
       "1                      0.177661             0.157776             0.157476   \n",
       "\n",
       "            TimeSeriesData_4196  TimeSeriesData_4197  TimeSeriesData_4198  \\\n",
       "ClassLabel                                                                  \n",
       "0                      0.103574             0.103213             0.104575   \n",
       "1                      0.194605             0.407114             0.417073   \n",
       "\n",
       "            TimeSeriesData_4199  TimeSeriesData_4200  \n",
       "ClassLabel                                            \n",
       "0                      0.103889             0.104154  \n",
       "1                      0.416058             0.396539  \n",
       "\n",
       "[2 rows x 4201 columns]"
      ],
      "text/html": [
       "<div>\n",
       "<style scoped>\n",
       "    .dataframe tbody tr th:only-of-type {\n",
       "        vertical-align: middle;\n",
       "    }\n",
       "\n",
       "    .dataframe tbody tr th {\n",
       "        vertical-align: top;\n",
       "    }\n",
       "\n",
       "    .dataframe thead th {\n",
       "        text-align: right;\n",
       "    }\n",
       "</style>\n",
       "<table border=\"1\" class=\"dataframe\">\n",
       "  <thead>\n",
       "    <tr style=\"text-align: right;\">\n",
       "      <th></th>\n",
       "      <th>TimeSeriesData_0</th>\n",
       "      <th>TimeSeriesData_1</th>\n",
       "      <th>TimeSeriesData_2</th>\n",
       "      <th>TimeSeriesData_3</th>\n",
       "      <th>TimeSeriesData_4</th>\n",
       "      <th>TimeSeriesData_5</th>\n",
       "      <th>TimeSeriesData_6</th>\n",
       "      <th>TimeSeriesData_7</th>\n",
       "      <th>TimeSeriesData_8</th>\n",
       "      <th>TimeSeriesData_9</th>\n",
       "      <th>...</th>\n",
       "      <th>TimeSeriesData_4191</th>\n",
       "      <th>TimeSeriesData_4192</th>\n",
       "      <th>TimeSeriesData_4193</th>\n",
       "      <th>TimeSeriesData_4194</th>\n",
       "      <th>TimeSeriesData_4195</th>\n",
       "      <th>TimeSeriesData_4196</th>\n",
       "      <th>TimeSeriesData_4197</th>\n",
       "      <th>TimeSeriesData_4198</th>\n",
       "      <th>TimeSeriesData_4199</th>\n",
       "      <th>TimeSeriesData_4200</th>\n",
       "    </tr>\n",
       "    <tr>\n",
       "      <th>ClassLabel</th>\n",
       "      <th></th>\n",
       "      <th></th>\n",
       "      <th></th>\n",
       "      <th></th>\n",
       "      <th></th>\n",
       "      <th></th>\n",
       "      <th></th>\n",
       "      <th></th>\n",
       "      <th></th>\n",
       "      <th></th>\n",
       "      <th></th>\n",
       "      <th></th>\n",
       "      <th></th>\n",
       "      <th></th>\n",
       "      <th></th>\n",
       "      <th></th>\n",
       "      <th></th>\n",
       "      <th></th>\n",
       "      <th></th>\n",
       "      <th></th>\n",
       "      <th></th>\n",
       "    </tr>\n",
       "  </thead>\n",
       "  <tbody>\n",
       "    <tr>\n",
       "      <th>0</th>\n",
       "      <td>1.116912</td>\n",
       "      <td>1.086053</td>\n",
       "      <td>1.155697</td>\n",
       "      <td>1.256541</td>\n",
       "      <td>1.051079</td>\n",
       "      <td>1.024839</td>\n",
       "      <td>1.111509</td>\n",
       "      <td>1.183096</td>\n",
       "      <td>1.021179</td>\n",
       "      <td>1.087705</td>\n",
       "      <td>...</td>\n",
       "      <td>0.104520</td>\n",
       "      <td>0.104960</td>\n",
       "      <td>0.106296</td>\n",
       "      <td>0.105585</td>\n",
       "      <td>0.105736</td>\n",
       "      <td>0.103574</td>\n",
       "      <td>0.103213</td>\n",
       "      <td>0.104575</td>\n",
       "      <td>0.103889</td>\n",
       "      <td>0.104154</td>\n",
       "    </tr>\n",
       "    <tr>\n",
       "      <th>1</th>\n",
       "      <td>2.279998</td>\n",
       "      <td>2.089236</td>\n",
       "      <td>2.503882</td>\n",
       "      <td>2.428686</td>\n",
       "      <td>2.255934</td>\n",
       "      <td>2.308267</td>\n",
       "      <td>2.263341</td>\n",
       "      <td>2.377692</td>\n",
       "      <td>2.454118</td>\n",
       "      <td>2.356283</td>\n",
       "      <td>...</td>\n",
       "      <td>0.160579</td>\n",
       "      <td>0.181603</td>\n",
       "      <td>0.177661</td>\n",
       "      <td>0.157776</td>\n",
       "      <td>0.157476</td>\n",
       "      <td>0.194605</td>\n",
       "      <td>0.407114</td>\n",
       "      <td>0.417073</td>\n",
       "      <td>0.416058</td>\n",
       "      <td>0.396539</td>\n",
       "    </tr>\n",
       "  </tbody>\n",
       "</table>\n",
       "<p>2 rows × 4201 columns</p>\n",
       "</div>"
      ]
     },
     "execution_count": 17,
     "metadata": {},
     "output_type": "execute_result"
    }
   ],
   "execution_count": 17
  },
  {
   "cell_type": "markdown",
   "id": "d5c680d5",
   "metadata": {},
   "source": [
    "# Rovnováha cílových tříd\n"
   ]
  },
  {
   "cell_type": "markdown",
   "id": "beaff7e2",
   "metadata": {},
   "source": [
    "## Trénovací množina\n"
   ]
  },
  {
   "cell_type": "code",
   "id": "038905d1",
   "metadata": {
    "ExecuteTime": {
     "end_time": "2025-05-12T11:10:41.922294Z",
     "start_time": "2025-05-12T11:10:41.912552Z"
    }
   },
   "source": [
    "df_train.get('ClassLabel').value_counts()"
   ],
   "outputs": [
    {
     "data": {
      "text/plain": [
       "ClassLabel\n",
       "0    381\n",
       "1    370\n",
       "Name: count, dtype: int64"
      ]
     },
     "execution_count": 18,
     "metadata": {},
     "output_type": "execute_result"
    }
   ],
   "execution_count": 18
  },
  {
   "cell_type": "markdown",
   "id": "f607caf7",
   "metadata": {},
   "source": [
    "## Testovací množina\n"
   ]
  },
  {
   "cell_type": "code",
   "id": "1968cfe3",
   "metadata": {
    "ExecuteTime": {
     "end_time": "2025-05-12T11:10:45.992323Z",
     "start_time": "2025-05-12T11:10:45.985154Z"
    }
   },
   "source": [
    "df_test.get('ClassLabel').value_counts()"
   ],
   "outputs": [
    {
     "data": {
      "text/plain": [
       "ClassLabel\n",
       "0    381\n",
       "1    370\n",
       "Name: count, dtype: int64"
      ]
     },
     "execution_count": 19,
     "metadata": {},
     "output_type": "execute_result"
    }
   ],
   "execution_count": 19
  },
  {
   "cell_type": "markdown",
   "id": "ce9c1540",
   "metadata": {},
   "source": [
    "# Vizualizace dat\n"
   ]
  },
  {
   "cell_type": "code",
   "id": "2a49abd1",
   "metadata": {
    "ExecuteTime": {
     "end_time": "2025-05-12T11:10:46.361586Z",
     "start_time": "2025-05-12T11:10:46.089149Z"
    }
   },
   "source": [
    "plt.figure(figsize=(18, 8))\n",
    "for idx in range(10):\n",
    "    plt.plot(df_train.iloc[idx, :])\n",
    "plt.xticks([])\n",
    "plt.show()"
   ],
   "outputs": [
    {
     "data": {
      "text/plain": [
       "<Figure size 1800x800 with 1 Axes>"
      ],
      "image/png": "[encoded data removed]"
     },
     "metadata": {},
     "output_type": "display_data"
    }
   ],
   "execution_count": 20
  },
  {
   "cell_type": "markdown",
   "id": "03b75eb5",
   "metadata": {},
   "source": [
    "## Data s cílovým atributem _0_\n"
   ]
  },
  {
   "cell_type": "code",
   "id": "214fdff9",
   "metadata": {
    "ExecuteTime": {
     "end_time": "2025-05-12T11:10:49.406476Z",
     "start_time": "2025-05-12T11:10:49.138814Z"
    }
   },
   "source": [
    "plt.figure(figsize=(18, 8))\n",
    "negative_indices = df_test[df_test.get(\"ClassLabel\") == 0].index[:10]\n",
    "for idx in negative_indices:\n",
    "    plt.plot(df_test.iloc[idx, :-1])\n",
    "plt.title(\"Vzorky třídy 0\")\n",
    "plt.xticks([])\n",
    "plt.ylabel(\"Hodnota\")\n",
    "plt.show()"
   ],
   "outputs": [
    {
     "data": {
      "text/plain": [
       "<Figure size 1800x800 with 1 Axes>"
      ],
      "image/png": "[encoded data removed]"
     },
     "metadata": {},
     "output_type": "display_data"
    }
   ],
   "execution_count": 21
  },
  {
   "cell_type": "markdown",
   "id": "70e2ee42",
   "metadata": {},
   "source": [
    "## Data s cílovým atributem _1_\n"
   ]
  },
  {
   "cell_type": "code",
   "id": "131e8db7",
   "metadata": {
    "ExecuteTime": {
     "end_time": "2025-05-12T11:10:52.774880Z",
     "start_time": "2025-05-12T11:10:52.491502Z"
    }
   },
   "source": [
    "plt.figure(figsize=(18, 8))\n",
    "negative_indices = df_test[df_test.get(\"ClassLabel\") == 1].index[:10]\n",
    "for idx in negative_indices:\n",
    "    plt.plot(df_test.iloc[idx, :-1])\n",
    "plt.title(\"Vzorky třídy 1\")\n",
    "plt.xticks([])\n",
    "plt.ylabel(\"Hodnota\")\n",
    "plt.show()"
   ],
   "outputs": [
    {
     "data": {
      "text/plain": [
       "<Figure size 1800x800 with 1 Axes>"
      ],
      "image/png": "[encoded data removed]"
     },
     "metadata": {},
     "output_type": "display_data"
    }
   ],
   "execution_count": 22
  },
  {
   "cell_type": "markdown",
   "id": "0e2478a7",
   "metadata": {},
   "source": [
    "# Příprava data\n"
   ]
  },
  {
   "cell_type": "code",
   "id": "d7b19176",
   "metadata": {
    "ExecuteTime": {
     "end_time": "2025-05-12T11:10:53.013057Z",
     "start_time": "2025-05-12T11:10:52.982532Z"
    }
   },
   "source": [
    "X_train = df_train.drop(columns='ClassLabel').values\n",
    "Y_train = df_train['ClassLabel'].values\n",
    "X_test = df_test.drop(columns='ClassLabel').values\n",
    "Y_test = df_test['ClassLabel'].values"
   ],
   "outputs": [],
   "execution_count": 23
  },
  {
   "cell_type": "code",
   "id": "07bd4813",
   "metadata": {
    "ExecuteTime": {
     "end_time": "2025-05-12T11:11:01.753166Z",
     "start_time": "2025-05-12T11:11:01.749073Z"
    }
   },
   "source": [
    "print(\"Unique values in Y_train:\", np.unique(Y_train))\n",
    "print(\"Unique values in Y_test:\", np.unique(Y_test))"
   ],
   "outputs": [
    {
     "name": "stdout",
     "output_type": "stream",
     "text": [
      "Unique values in Y_train: [0 1]\n",
      "Unique values in Y_test: [0 1]\n"
     ]
    }
   ],
   "execution_count": 24
  },
  {
   "cell_type": "markdown",
   "id": "41145413",
   "metadata": {},
   "source": [
    "# Klasifikace pomocí strojového učení\n"
   ]
  },
  {
   "cell_type": "markdown",
   "id": "3f503970",
   "metadata": {},
   "source": [
    "## Decision Tree\n"
   ]
  },
  {
   "cell_type": "code",
   "id": "7bbde942",
   "metadata": {
    "ExecuteTime": {
     "end_time": "2025-05-12T11:11:03.569263Z",
     "start_time": "2025-05-12T11:11:01.773310Z"
    }
   },
   "source": [
    "dt = DecisionTreeClassifier(random_state=seed)\n",
    "dt.fit(X_train, Y_train)"
   ],
   "outputs": [
    {
     "data": {
      "text/plain": [
       "DecisionTreeClassifier(random_state=42)"
      ],
      "text/html": [
       "<style>#sk-container-id-1 {\n",
       "  /* Definition of color scheme common for light and dark mode */\n",
       "  --sklearn-color-text: #000;\n",
       "  --sklearn-color-text-muted: #666;\n",
       "  --sklearn-color-line: gray;\n",
       "  /* Definition of color scheme for unfitted estimators */\n",
       "  --sklearn-color-unfitted-level-0: #fff5e6;\n",
       "  --sklearn-color-unfitted-level-1: #f6e4d2;\n",
       "  --sklearn-color-unfitted-level-2: #ffe0b3;\n",
       "  --sklearn-color-unfitted-level-3: chocolate;\n",
       "  /* Definition of color scheme for fitted estimators */\n",
       "  --sklearn-color-fitted-level-0: #f0f8ff;\n",
       "  --sklearn-color-fitted-level-1: #d4ebff;\n",
       "  --sklearn-color-fitted-level-2: #b3dbfd;\n",
       "  --sklearn-color-fitted-level-3: cornflowerblue;\n",
       "\n",
       "  /* Specific color for light theme */\n",
       "  --sklearn-color-text-on-default-background: var(--sg-text-color, var(--theme-code-foreground, var(--jp-content-font-color1, black)));\n",
       "  --sklearn-color-background: var(--sg-background-color, var(--theme-background, var(--jp-layout-color0, white)));\n",
       "  --sklearn-color-border-box: var(--sg-text-color, var(--theme-code-foreground, var(--jp-content-font-color1, black)));\n",
       "  --sklearn-color-icon: #696969;\n",
       "\n",
       "  @media (prefers-color-scheme: dark) {\n",
       "    /* Redefinition of color scheme for dark theme */\n",
       "    --sklearn-color-text-on-default-background: var(--sg-text-color, var(--theme-code-foreground, var(--jp-content-font-color1, white)));\n",
       "    --sklearn-color-background: var(--sg-background-color, var(--theme-background, var(--jp-layout-color0, #111)));\n",
       "    --sklearn-color-border-box: var(--sg-text-color, var(--theme-code-foreground, var(--jp-content-font-color1, white)));\n",
       "    --sklearn-color-icon: #878787;\n",
       "  }\n",
       "}\n",
       "\n",
       "#sk-container-id-1 {\n",
       "  color: var(--sklearn-color-text);\n",
       "}\n",
       "\n",
       "#sk-container-id-1 pre {\n",
       "  padding: 0;\n",
       "}\n",
       "\n",
       "#sk-container-id-1 input.sk-hidden--visually {\n",
       "  border: 0;\n",
       "  clip: rect(1px 1px 1px 1px);\n",
       "  clip: rect(1px, 1px, 1px, 1px);\n",
       "  height: 1px;\n",
       "  margin: -1px;\n",
       "  overflow: hidden;\n",
       "  padding: 0;\n",
       "  position: absolute;\n",
       "  width: 1px;\n",
       "}\n",
       "\n",
       "#sk-container-id-1 div.sk-dashed-wrapped {\n",
       "  border: 1px dashed var(--sklearn-color-line);\n",
       "  margin: 0 0.4em 0.5em 0.4em;\n",
       "  box-sizing: border-box;\n",
       "  padding-bottom: 0.4em;\n",
       "  background-color: var(--sklearn-color-background);\n",
       "}\n",
       "\n",
       "#sk-container-id-1 div.sk-container {\n",
       "  /* jupyter's `normalize.less` sets `[hidden] { display: none; }`\n",
       "     but bootstrap.min.css set `[hidden] { display: none !important; }`\n",
       "     so we also need the `!important` here to be able to override the\n",
       "     default hidden behavior on the sphinx rendered scikit-learn.org.\n",
       "     See: https://github.com/scikit-learn/scikit-learn/issues/21755 */\n",
       "  display: inline-block !important;\n",
       "  position: relative;\n",
       "}\n",
       "\n",
       "#sk-container-id-1 div.sk-text-repr-fallback {\n",
       "  display: none;\n",
       "}\n",
       "\n",
       "div.sk-parallel-item,\n",
       "div.sk-serial,\n",
       "div.sk-item {\n",
       "  /* draw centered vertical line to link estimators */\n",
       "  background-image: linear-gradient(var(--sklearn-color-text-on-default-background), var(--sklearn-color-text-on-default-background));\n",
       "  background-size: 2px 100%;\n",
       "  background-repeat: no-repeat;\n",
       "  background-position: center center;\n",
       "}\n",
       "\n",
       "/* Parallel-specific style estimator block */\n",
       "\n",
       "#sk-container-id-1 div.sk-parallel-item::after {\n",
       "  content: \"\";\n",
       "  width: 100%;\n",
       "  border-bottom: 2px solid var(--sklearn-color-text-on-default-background);\n",
       "  flex-grow: 1;\n",
       "}\n",
       "\n",
       "#sk-container-id-1 div.sk-parallel {\n",
       "  display: flex;\n",
       "  align-items: stretch;\n",
       "  justify-content: center;\n",
       "  background-color: var(--sklearn-color-background);\n",
       "  position: relative;\n",
       "}\n",
       "\n",
       "#sk-container-id-1 div.sk-parallel-item {\n",
       "  display: flex;\n",
       "  flex-direction: column;\n",
       "}\n",
       "\n",
       "#sk-container-id-1 div.sk-parallel-item:first-child::after {\n",
       "  align-self: flex-end;\n",
       "  width: 50%;\n",
       "}\n",
       "\n",
       "#sk-container-id-1 div.sk-parallel-item:last-child::after {\n",
       "  align-self: flex-start;\n",
       "  width: 50%;\n",
       "}\n",
       "\n",
       "#sk-container-id-1 div.sk-parallel-item:only-child::after {\n",
       "  width: 0;\n",
       "}\n",
       "\n",
       "/* Serial-specific style estimator block */\n",
       "\n",
       "#sk-container-id-1 div.sk-serial {\n",
       "  display: flex;\n",
       "  flex-direction: column;\n",
       "  align-items: center;\n",
       "  background-color: var(--sklearn-color-background);\n",
       "  padding-right: 1em;\n",
       "  padding-left: 1em;\n",
       "}\n",
       "\n",
       "\n",
       "/* Toggleable style: style used for estimator/Pipeline/ColumnTransformer box that is\n",
       "clickable and can be expanded/collapsed.\n",
       "- Pipeline and ColumnTransformer use this feature and define the default style\n",
       "- Estimators will overwrite some part of the style using the `sk-estimator` class\n",
       "*/\n",
       "\n",
       "/* Pipeline and ColumnTransformer style (default) */\n",
       "\n",
       "#sk-container-id-1 div.sk-toggleable {\n",
       "  /* Default theme specific background. It is overwritten whether we have a\n",
       "  specific estimator or a Pipeline/ColumnTransformer */\n",
       "  background-color: var(--sklearn-color-background);\n",
       "}\n",
       "\n",
       "/* Toggleable label */\n",
       "#sk-container-id-1 label.sk-toggleable__label {\n",
       "  cursor: pointer;\n",
       "  display: flex;\n",
       "  width: 100%;\n",
       "  margin-bottom: 0;\n",
       "  padding: 0.5em;\n",
       "  box-sizing: border-box;\n",
       "  text-align: center;\n",
       "  align-items: start;\n",
       "  justify-content: space-between;\n",
       "  gap: 0.5em;\n",
       "}\n",
       "\n",
       "#sk-container-id-1 label.sk-toggleable__label .caption {\n",
       "  font-size: 0.6rem;\n",
       "  font-weight: lighter;\n",
       "  color: var(--sklearn-color-text-muted);\n",
       "}\n",
       "\n",
       "#sk-container-id-1 label.sk-toggleable__label-arrow:before {\n",
       "  /* Arrow on the left of the label */\n",
       "  content: \"▸\";\n",
       "  float: left;\n",
       "  margin-right: 0.25em;\n",
       "  color: var(--sklearn-color-icon);\n",
       "}\n",
       "\n",
       "#sk-container-id-1 label.sk-toggleable__label-arrow:hover:before {\n",
       "  color: var(--sklearn-color-text);\n",
       "}\n",
       "\n",
       "/* Toggleable content - dropdown */\n",
       "\n",
       "#sk-container-id-1 div.sk-toggleable__content {\n",
       "  max-height: 0;\n",
       "  max-width: 0;\n",
       "  overflow: hidden;\n",
       "  text-align: left;\n",
       "  /* unfitted */\n",
       "  background-color: var(--sklearn-color-unfitted-level-0);\n",
       "}\n",
       "\n",
       "#sk-container-id-1 div.sk-toggleable__content.fitted {\n",
       "  /* fitted */\n",
       "  background-color: var(--sklearn-color-fitted-level-0);\n",
       "}\n",
       "\n",
       "#sk-container-id-1 div.sk-toggleable__content pre {\n",
       "  margin: 0.2em;\n",
       "  border-radius: 0.25em;\n",
       "  color: var(--sklearn-color-text);\n",
       "  /* unfitted */\n",
       "  background-color: var(--sklearn-color-unfitted-level-0);\n",
       "}\n",
       "\n",
       "#sk-container-id-1 div.sk-toggleable__content.fitted pre {\n",
       "  /* unfitted */\n",
       "  background-color: var(--sklearn-color-fitted-level-0);\n",
       "}\n",
       "\n",
       "#sk-container-id-1 input.sk-toggleable__control:checked~div.sk-toggleable__content {\n",
       "  /* Expand drop-down */\n",
       "  max-height: 200px;\n",
       "  max-width: 100%;\n",
       "  overflow: auto;\n",
       "}\n",
       "\n",
       "#sk-container-id-1 input.sk-toggleable__control:checked~label.sk-toggleable__label-arrow:before {\n",
       "  content: \"▾\";\n",
       "}\n",
       "\n",
       "/* Pipeline/ColumnTransformer-specific style */\n",
       "\n",
       "#sk-container-id-1 div.sk-label input.sk-toggleable__control:checked~label.sk-toggleable__label {\n",
       "  color: var(--sklearn-color-text);\n",
       "  background-color: var(--sklearn-color-unfitted-level-2);\n",
       "}\n",
       "\n",
       "#sk-container-id-1 div.sk-label.fitted input.sk-toggleable__control:checked~label.sk-toggleable__label {\n",
       "  background-color: var(--sklearn-color-fitted-level-2);\n",
       "}\n",
       "\n",
       "/* Estimator-specific style */\n",
       "\n",
       "/* Colorize estimator box */\n",
       "#sk-container-id-1 div.sk-estimator input.sk-toggleable__control:checked~label.sk-toggleable__label {\n",
       "  /* unfitted */\n",
       "  background-color: var(--sklearn-color-unfitted-level-2);\n",
       "}\n",
       "\n",
       "#sk-container-id-1 div.sk-estimator.fitted input.sk-toggleable__control:checked~label.sk-toggleable__label {\n",
       "  /* fitted */\n",
       "  background-color: var(--sklearn-color-fitted-level-2);\n",
       "}\n",
       "\n",
       "#sk-container-id-1 div.sk-label label.sk-toggleable__label,\n",
       "#sk-container-id-1 div.sk-label label {\n",
       "  /* The background is the default theme color */\n",
       "  color: var(--sklearn-color-text-on-default-background);\n",
       "}\n",
       "\n",
       "/* On hover, darken the color of the background */\n",
       "#sk-container-id-1 div.sk-label:hover label.sk-toggleable__label {\n",
       "  color: var(--sklearn-color-text);\n",
       "  background-color: var(--sklearn-color-unfitted-level-2);\n",
       "}\n",
       "\n",
       "/* Label box, darken color on hover, fitted */\n",
       "#sk-container-id-1 div.sk-label.fitted:hover label.sk-toggleable__label.fitted {\n",
       "  color: var(--sklearn-color-text);\n",
       "  background-color: var(--sklearn-color-fitted-level-2);\n",
       "}\n",
       "\n",
       "/* Estimator label */\n",
       "\n",
       "#sk-container-id-1 div.sk-label label {\n",
       "  font-family: monospace;\n",
       "  font-weight: bold;\n",
       "  display: inline-block;\n",
       "  line-height: 1.2em;\n",
       "}\n",
       "\n",
       "#sk-container-id-1 div.sk-label-container {\n",
       "  text-align: center;\n",
       "}\n",
       "\n",
       "/* Estimator-specific */\n",
       "#sk-container-id-1 div.sk-estimator {\n",
       "  font-family: monospace;\n",
       "  border: 1px dotted var(--sklearn-color-border-box);\n",
       "  border-radius: 0.25em;\n",
       "  box-sizing: border-box;\n",
       "  margin-bottom: 0.5em;\n",
       "  /* unfitted */\n",
       "  background-color: var(--sklearn-color-unfitted-level-0);\n",
       "}\n",
       "\n",
       "#sk-container-id-1 div.sk-estimator.fitted {\n",
       "  /* fitted */\n",
       "  background-color: var(--sklearn-color-fitted-level-0);\n",
       "}\n",
       "\n",
       "/* on hover */\n",
       "#sk-container-id-1 div.sk-estimator:hover {\n",
       "  /* unfitted */\n",
       "  background-color: var(--sklearn-color-unfitted-level-2);\n",
       "}\n",
       "\n",
       "#sk-container-id-1 div.sk-estimator.fitted:hover {\n",
       "  /* fitted */\n",
       "  background-color: var(--sklearn-color-fitted-level-2);\n",
       "}\n",
       "\n",
       "/* Specification for estimator info (e.g. \"i\" and \"?\") */\n",
       "\n",
       "/* Common style for \"i\" and \"?\" */\n",
       "\n",
       ".sk-estimator-doc-link,\n",
       "a:link.sk-estimator-doc-link,\n",
       "a:visited.sk-estimator-doc-link {\n",
       "  float: right;\n",
       "  font-size: smaller;\n",
       "  line-height: 1em;\n",
       "  font-family: monospace;\n",
       "  background-color: var(--sklearn-color-background);\n",
       "  border-radius: 1em;\n",
       "  height: 1em;\n",
       "  width: 1em;\n",
       "  text-decoration: none !important;\n",
       "  margin-left: 0.5em;\n",
       "  text-align: center;\n",
       "  /* unfitted */\n",
       "  border: var(--sklearn-color-unfitted-level-1) 1pt solid;\n",
       "  color: var(--sklearn-color-unfitted-level-1);\n",
       "}\n",
       "\n",
       ".sk-estimator-doc-link.fitted,\n",
       "a:link.sk-estimator-doc-link.fitted,\n",
       "a:visited.sk-estimator-doc-link.fitted {\n",
       "  /* fitted */\n",
       "  border: var(--sklearn-color-fitted-level-1) 1pt solid;\n",
       "  color: var(--sklearn-color-fitted-level-1);\n",
       "}\n",
       "\n",
       "/* On hover */\n",
       "div.sk-estimator:hover .sk-estimator-doc-link:hover,\n",
       ".sk-estimator-doc-link:hover,\n",
       "div.sk-label-container:hover .sk-estimator-doc-link:hover,\n",
       ".sk-estimator-doc-link:hover {\n",
       "  /* unfitted */\n",
       "  background-color: var(--sklearn-color-unfitted-level-3);\n",
       "  color: var(--sklearn-color-background);\n",
       "  text-decoration: none;\n",
       "}\n",
       "\n",
       "div.sk-estimator.fitted:hover .sk-estimator-doc-link.fitted:hover,\n",
       ".sk-estimator-doc-link.fitted:hover,\n",
       "div.sk-label-container:hover .sk-estimator-doc-link.fitted:hover,\n",
       ".sk-estimator-doc-link.fitted:hover {\n",
       "  /* fitted */\n",
       "  background-color: var(--sklearn-color-fitted-level-3);\n",
       "  color: var(--sklearn-color-background);\n",
       "  text-decoration: none;\n",
       "}\n",
       "\n",
       "/* Span, style for the box shown on hovering the info icon */\n",
       ".sk-estimator-doc-link span {\n",
       "  display: none;\n",
       "  z-index: 9999;\n",
       "  position: relative;\n",
       "  font-weight: normal;\n",
       "  right: .2ex;\n",
       "  padding: .5ex;\n",
       "  margin: .5ex;\n",
       "  width: min-content;\n",
       "  min-width: 20ex;\n",
       "  max-width: 50ex;\n",
       "  color: var(--sklearn-color-text);\n",
       "  box-shadow: 2pt 2pt 4pt #999;\n",
       "  /* unfitted */\n",
       "  background: var(--sklearn-color-unfitted-level-0);\n",
       "  border: .5pt solid var(--sklearn-color-unfitted-level-3);\n",
       "}\n",
       "\n",
       ".sk-estimator-doc-link.fitted span {\n",
       "  /* fitted */\n",
       "  background: var(--sklearn-color-fitted-level-0);\n",
       "  border: var(--sklearn-color-fitted-level-3);\n",
       "}\n",
       "\n",
       ".sk-estimator-doc-link:hover span {\n",
       "  display: block;\n",
       "}\n",
       "\n",
       "/* \"?\"-specific style due to the `<a>` HTML tag */\n",
       "\n",
       "#sk-container-id-1 a.estimator_doc_link {\n",
       "  float: right;\n",
       "  font-size: 1rem;\n",
       "  line-height: 1em;\n",
       "  font-family: monospace;\n",
       "  background-color: var(--sklearn-color-background);\n",
       "  border-radius: 1rem;\n",
       "  height: 1rem;\n",
       "  width: 1rem;\n",
       "  text-decoration: none;\n",
       "  /* unfitted */\n",
       "  color: var(--sklearn-color-unfitted-level-1);\n",
       "  border: var(--sklearn-color-unfitted-level-1) 1pt solid;\n",
       "}\n",
       "\n",
       "#sk-container-id-1 a.estimator_doc_link.fitted {\n",
       "  /* fitted */\n",
       "  border: var(--sklearn-color-fitted-level-1) 1pt solid;\n",
       "  color: var(--sklearn-color-fitted-level-1);\n",
       "}\n",
       "\n",
       "/* On hover */\n",
       "#sk-container-id-1 a.estimator_doc_link:hover {\n",
       "  /* unfitted */\n",
       "  background-color: var(--sklearn-color-unfitted-level-3);\n",
       "  color: var(--sklearn-color-background);\n",
       "  text-decoration: none;\n",
       "}\n",
       "\n",
       "#sk-container-id-1 a.estimator_doc_link.fitted:hover {\n",
       "  /* fitted */\n",
       "  background-color: var(--sklearn-color-fitted-level-3);\n",
       "}\n",
       "</style><div id=\"sk-container-id-1\" class=\"sk-top-container\"><div class=\"sk-text-repr-fallback\"><pre>DecisionTreeClassifier(random_state=42)</pre><b>In a Jupyter environment, please rerun this cell to show the HTML representation or trust the notebook. <br />On GitHub, the HTML representation is unable to render, please try loading this page with nbviewer.org.</b></div><div class=\"sk-container\" hidden><div class=\"sk-item\"><div class=\"sk-estimator fitted sk-toggleable\"><input class=\"sk-toggleable__control sk-hidden--visually\" id=\"sk-estimator-id-1\" type=\"checkbox\" checked><label for=\"sk-estimator-id-1\" class=\"sk-toggleable__label fitted sk-toggleable__label-arrow\"><div><div>DecisionTreeClassifier</div></div><div><a class=\"sk-estimator-doc-link fitted\" rel=\"noreferrer\" target=\"_blank\" href=\"https://scikit-learn.org/1.6/modules/generated/sklearn.tree.DecisionTreeClassifier.html\">?<span>Documentation for DecisionTreeClassifier</span></a><span class=\"sk-estimator-doc-link fitted\">i<span>Fitted</span></span></div></label><div class=\"sk-toggleable__content fitted\"><pre>DecisionTreeClassifier(random_state=42)</pre></div> </div></div></div></div>"
      ]
     },
     "execution_count": 25,
     "metadata": {},
     "output_type": "execute_result"
    }
   ],
   "execution_count": 25
  },
  {
   "cell_type": "code",
   "id": "0500f87b",
   "metadata": {
    "ExecuteTime": {
     "end_time": "2025-05-12T11:11:12.855543Z",
     "start_time": "2025-05-12T11:11:12.837945Z"
    }
   },
   "source": [
    "y_test_predictions_dt = dt.predict(X_test)\n",
    "print(classification_report(Y_test, y_test_predictions_dt))"
   ],
   "outputs": [
    {
     "name": "stdout",
     "output_type": "stream",
     "text": [
      "              precision    recall  f1-score   support\n",
      "\n",
      "           0       0.88      0.86      0.87       381\n",
      "           1       0.85      0.88      0.87       370\n",
      "\n",
      "    accuracy                           0.87       751\n",
      "   macro avg       0.87      0.87      0.87       751\n",
      "weighted avg       0.87      0.87      0.87       751\n",
      "\n"
     ]
    }
   ],
   "execution_count": 26
  },
  {
   "cell_type": "markdown",
   "id": "b193dbe2",
   "metadata": {},
   "source": [
    "## Random Forest\n"
   ]
  },
  {
   "cell_type": "code",
   "id": "379d8774",
   "metadata": {
    "ExecuteTime": {
     "end_time": "2025-05-12T11:11:23.999502Z",
     "start_time": "2025-05-12T11:11:21.268106Z"
    }
   },
   "source": [
    "rf = RandomForestClassifier(random_state=seed)\n",
    "rf.fit(X_train, Y_train)"
   ],
   "outputs": [
    {
     "data": {
      "text/plain": [
       "RandomForestClassifier(random_state=42)"
      ],
      "text/html": [
       "<style>#sk-container-id-2 {\n",
       "  /* Definition of color scheme common for light and dark mode */\n",
       "  --sklearn-color-text: #000;\n",
       "  --sklearn-color-text-muted: #666;\n",
       "  --sklearn-color-line: gray;\n",
       "  /* Definition of color scheme for unfitted estimators */\n",
       "  --sklearn-color-unfitted-level-0: #fff5e6;\n",
       "  --sklearn-color-unfitted-level-1: #f6e4d2;\n",
       "  --sklearn-color-unfitted-level-2: #ffe0b3;\n",
       "  --sklearn-color-unfitted-level-3: chocolate;\n",
       "  /* Definition of color scheme for fitted estimators */\n",
       "  --sklearn-color-fitted-level-0: #f0f8ff;\n",
       "  --sklearn-color-fitted-level-1: #d4ebff;\n",
       "  --sklearn-color-fitted-level-2: #b3dbfd;\n",
       "  --sklearn-color-fitted-level-3: cornflowerblue;\n",
       "\n",
       "  /* Specific color for light theme */\n",
       "  --sklearn-color-text-on-default-background: var(--sg-text-color, var(--theme-code-foreground, var(--jp-content-font-color1, black)));\n",
       "  --sklearn-color-background: var(--sg-background-color, var(--theme-background, var(--jp-layout-color0, white)));\n",
       "  --sklearn-color-border-box: var(--sg-text-color, var(--theme-code-foreground, var(--jp-content-font-color1, black)));\n",
       "  --sklearn-color-icon: #696969;\n",
       "\n",
       "  @media (prefers-color-scheme: dark) {\n",
       "    /* Redefinition of color scheme for dark theme */\n",
       "    --sklearn-color-text-on-default-background: var(--sg-text-color, var(--theme-code-foreground, var(--jp-content-font-color1, white)));\n",
       "    --sklearn-color-background: var(--sg-background-color, var(--theme-background, var(--jp-layout-color0, #111)));\n",
       "    --sklearn-color-border-box: var(--sg-text-color, var(--theme-code-foreground, var(--jp-content-font-color1, white)));\n",
       "    --sklearn-color-icon: #878787;\n",
       "  }\n",
       "}\n",
       "\n",
       "#sk-container-id-2 {\n",
       "  color: var(--sklearn-color-text);\n",
       "}\n",
       "\n",
       "#sk-container-id-2 pre {\n",
       "  padding: 0;\n",
       "}\n",
       "\n",
       "#sk-container-id-2 input.sk-hidden--visually {\n",
       "  border: 0;\n",
       "  clip: rect(1px 1px 1px 1px);\n",
       "  clip: rect(1px, 1px, 1px, 1px);\n",
       "  height: 1px;\n",
       "  margin: -1px;\n",
       "  overflow: hidden;\n",
       "  padding: 0;\n",
       "  position: absolute;\n",
       "  width: 1px;\n",
       "}\n",
       "\n",
       "#sk-container-id-2 div.sk-dashed-wrapped {\n",
       "  border: 1px dashed var(--sklearn-color-line);\n",
       "  margin: 0 0.4em 0.5em 0.4em;\n",
       "  box-sizing: border-box;\n",
       "  padding-bottom: 0.4em;\n",
       "  background-color: var(--sklearn-color-background);\n",
       "}\n",
       "\n",
       "#sk-container-id-2 div.sk-container {\n",
       "  /* jupyter's `normalize.less` sets `[hidden] { display: none; }`\n",
       "     but bootstrap.min.css set `[hidden] { display: none !important; }`\n",
       "     so we also need the `!important` here to be able to override the\n",
       "     default hidden behavior on the sphinx rendered scikit-learn.org.\n",
       "     See: https://github.com/scikit-learn/scikit-learn/issues/21755 */\n",
       "  display: inline-block !important;\n",
       "  position: relative;\n",
       "}\n",
       "\n",
       "#sk-container-id-2 div.sk-text-repr-fallback {\n",
       "  display: none;\n",
       "}\n",
       "\n",
       "div.sk-parallel-item,\n",
       "div.sk-serial,\n",
       "div.sk-item {\n",
       "  /* draw centered vertical line to link estimators */\n",
       "  background-image: linear-gradient(var(--sklearn-color-text-on-default-background), var(--sklearn-color-text-on-default-background));\n",
       "  background-size: 2px 100%;\n",
       "  background-repeat: no-repeat;\n",
       "  background-position: center center;\n",
       "}\n",
       "\n",
       "/* Parallel-specific style estimator block */\n",
       "\n",
       "#sk-container-id-2 div.sk-parallel-item::after {\n",
       "  content: \"\";\n",
       "  width: 100%;\n",
       "  border-bottom: 2px solid var(--sklearn-color-text-on-default-background);\n",
       "  flex-grow: 1;\n",
       "}\n",
       "\n",
       "#sk-container-id-2 div.sk-parallel {\n",
       "  display: flex;\n",
       "  align-items: stretch;\n",
       "  justify-content: center;\n",
       "  background-color: var(--sklearn-color-background);\n",
       "  position: relative;\n",
       "}\n",
       "\n",
       "#sk-container-id-2 div.sk-parallel-item {\n",
       "  display: flex;\n",
       "  flex-direction: column;\n",
       "}\n",
       "\n",
       "#sk-container-id-2 div.sk-parallel-item:first-child::after {\n",
       "  align-self: flex-end;\n",
       "  width: 50%;\n",
       "}\n",
       "\n",
       "#sk-container-id-2 div.sk-parallel-item:last-child::after {\n",
       "  align-self: flex-start;\n",
       "  width: 50%;\n",
       "}\n",
       "\n",
       "#sk-container-id-2 div.sk-parallel-item:only-child::after {\n",
       "  width: 0;\n",
       "}\n",
       "\n",
       "/* Serial-specific style estimator block */\n",
       "\n",
       "#sk-container-id-2 div.sk-serial {\n",
       "  display: flex;\n",
       "  flex-direction: column;\n",
       "  align-items: center;\n",
       "  background-color: var(--sklearn-color-background);\n",
       "  padding-right: 1em;\n",
       "  padding-left: 1em;\n",
       "}\n",
       "\n",
       "\n",
       "/* Toggleable style: style used for estimator/Pipeline/ColumnTransformer box that is\n",
       "clickable and can be expanded/collapsed.\n",
       "- Pipeline and ColumnTransformer use this feature and define the default style\n",
       "- Estimators will overwrite some part of the style using the `sk-estimator` class\n",
       "*/\n",
       "\n",
       "/* Pipeline and ColumnTransformer style (default) */\n",
       "\n",
       "#sk-container-id-2 div.sk-toggleable {\n",
       "  /* Default theme specific background. It is overwritten whether we have a\n",
       "  specific estimator or a Pipeline/ColumnTransformer */\n",
       "  background-color: var(--sklearn-color-background);\n",
       "}\n",
       "\n",
       "/* Toggleable label */\n",
       "#sk-container-id-2 label.sk-toggleable__label {\n",
       "  cursor: pointer;\n",
       "  display: flex;\n",
       "  width: 100%;\n",
       "  margin-bottom: 0;\n",
       "  padding: 0.5em;\n",
       "  box-sizing: border-box;\n",
       "  text-align: center;\n",
       "  align-items: start;\n",
       "  justify-content: space-between;\n",
       "  gap: 0.5em;\n",
       "}\n",
       "\n",
       "#sk-container-id-2 label.sk-toggleable__label .caption {\n",
       "  font-size: 0.6rem;\n",
       "  font-weight: lighter;\n",
       "  color: var(--sklearn-color-text-muted);\n",
       "}\n",
       "\n",
       "#sk-container-id-2 label.sk-toggleable__label-arrow:before {\n",
       "  /* Arrow on the left of the label */\n",
       "  content: \"▸\";\n",
       "  float: left;\n",
       "  margin-right: 0.25em;\n",
       "  color: var(--sklearn-color-icon);\n",
       "}\n",
       "\n",
       "#sk-container-id-2 label.sk-toggleable__label-arrow:hover:before {\n",
       "  color: var(--sklearn-color-text);\n",
       "}\n",
       "\n",
       "/* Toggleable content - dropdown */\n",
       "\n",
       "#sk-container-id-2 div.sk-toggleable__content {\n",
       "  max-height: 0;\n",
       "  max-width: 0;\n",
       "  overflow: hidden;\n",
       "  text-align: left;\n",
       "  /* unfitted */\n",
       "  background-color: var(--sklearn-color-unfitted-level-0);\n",
       "}\n",
       "\n",
       "#sk-container-id-2 div.sk-toggleable__content.fitted {\n",
       "  /* fitted */\n",
       "  background-color: var(--sklearn-color-fitted-level-0);\n",
       "}\n",
       "\n",
       "#sk-container-id-2 div.sk-toggleable__content pre {\n",
       "  margin: 0.2em;\n",
       "  border-radius: 0.25em;\n",
       "  color: var(--sklearn-color-text);\n",
       "  /* unfitted */\n",
       "  background-color: var(--sklearn-color-unfitted-level-0);\n",
       "}\n",
       "\n",
       "#sk-container-id-2 div.sk-toggleable__content.fitted pre {\n",
       "  /* unfitted */\n",
       "  background-color: var(--sklearn-color-fitted-level-0);\n",
       "}\n",
       "\n",
       "#sk-container-id-2 input.sk-toggleable__control:checked~div.sk-toggleable__content {\n",
       "  /* Expand drop-down */\n",
       "  max-height: 200px;\n",
       "  max-width: 100%;\n",
       "  overflow: auto;\n",
       "}\n",
       "\n",
       "#sk-container-id-2 input.sk-toggleable__control:checked~label.sk-toggleable__label-arrow:before {\n",
       "  content: \"▾\";\n",
       "}\n",
       "\n",
       "/* Pipeline/ColumnTransformer-specific style */\n",
       "\n",
       "#sk-container-id-2 div.sk-label input.sk-toggleable__control:checked~label.sk-toggleable__label {\n",
       "  color: var(--sklearn-color-text);\n",
       "  background-color: var(--sklearn-color-unfitted-level-2);\n",
       "}\n",
       "\n",
       "#sk-container-id-2 div.sk-label.fitted input.sk-toggleable__control:checked~label.sk-toggleable__label {\n",
       "  background-color: var(--sklearn-color-fitted-level-2);\n",
       "}\n",
       "\n",
       "/* Estimator-specific style */\n",
       "\n",
       "/* Colorize estimator box */\n",
       "#sk-container-id-2 div.sk-estimator input.sk-toggleable__control:checked~label.sk-toggleable__label {\n",
       "  /* unfitted */\n",
       "  background-color: var(--sklearn-color-unfitted-level-2);\n",
       "}\n",
       "\n",
       "#sk-container-id-2 div.sk-estimator.fitted input.sk-toggleable__control:checked~label.sk-toggleable__label {\n",
       "  /* fitted */\n",
       "  background-color: var(--sklearn-color-fitted-level-2);\n",
       "}\n",
       "\n",
       "#sk-container-id-2 div.sk-label label.sk-toggleable__label,\n",
       "#sk-container-id-2 div.sk-label label {\n",
       "  /* The background is the default theme color */\n",
       "  color: var(--sklearn-color-text-on-default-background);\n",
       "}\n",
       "\n",
       "/* On hover, darken the color of the background */\n",
       "#sk-container-id-2 div.sk-label:hover label.sk-toggleable__label {\n",
       "  color: var(--sklearn-color-text);\n",
       "  background-color: var(--sklearn-color-unfitted-level-2);\n",
       "}\n",
       "\n",
       "/* Label box, darken color on hover, fitted */\n",
       "#sk-container-id-2 div.sk-label.fitted:hover label.sk-toggleable__label.fitted {\n",
       "  color: var(--sklearn-color-text);\n",
       "  background-color: var(--sklearn-color-fitted-level-2);\n",
       "}\n",
       "\n",
       "/* Estimator label */\n",
       "\n",
       "#sk-container-id-2 div.sk-label label {\n",
       "  font-family: monospace;\n",
       "  font-weight: bold;\n",
       "  display: inline-block;\n",
       "  line-height: 1.2em;\n",
       "}\n",
       "\n",
       "#sk-container-id-2 div.sk-label-container {\n",
       "  text-align: center;\n",
       "}\n",
       "\n",
       "/* Estimator-specific */\n",
       "#sk-container-id-2 div.sk-estimator {\n",
       "  font-family: monospace;\n",
       "  border: 1px dotted var(--sklearn-color-border-box);\n",
       "  border-radius: 0.25em;\n",
       "  box-sizing: border-box;\n",
       "  margin-bottom: 0.5em;\n",
       "  /* unfitted */\n",
       "  background-color: var(--sklearn-color-unfitted-level-0);\n",
       "}\n",
       "\n",
       "#sk-container-id-2 div.sk-estimator.fitted {\n",
       "  /* fitted */\n",
       "  background-color: var(--sklearn-color-fitted-level-0);\n",
       "}\n",
       "\n",
       "/* on hover */\n",
       "#sk-container-id-2 div.sk-estimator:hover {\n",
       "  /* unfitted */\n",
       "  background-color: var(--sklearn-color-unfitted-level-2);\n",
       "}\n",
       "\n",
       "#sk-container-id-2 div.sk-estimator.fitted:hover {\n",
       "  /* fitted */\n",
       "  background-color: var(--sklearn-color-fitted-level-2);\n",
       "}\n",
       "\n",
       "/* Specification for estimator info (e.g. \"i\" and \"?\") */\n",
       "\n",
       "/* Common style for \"i\" and \"?\" */\n",
       "\n",
       ".sk-estimator-doc-link,\n",
       "a:link.sk-estimator-doc-link,\n",
       "a:visited.sk-estimator-doc-link {\n",
       "  float: right;\n",
       "  font-size: smaller;\n",
       "  line-height: 1em;\n",
       "  font-family: monospace;\n",
       "  background-color: var(--sklearn-color-background);\n",
       "  border-radius: 1em;\n",
       "  height: 1em;\n",
       "  width: 1em;\n",
       "  text-decoration: none !important;\n",
       "  margin-left: 0.5em;\n",
       "  text-align: center;\n",
       "  /* unfitted */\n",
       "  border: var(--sklearn-color-unfitted-level-1) 1pt solid;\n",
       "  color: var(--sklearn-color-unfitted-level-1);\n",
       "}\n",
       "\n",
       ".sk-estimator-doc-link.fitted,\n",
       "a:link.sk-estimator-doc-link.fitted,\n",
       "a:visited.sk-estimator-doc-link.fitted {\n",
       "  /* fitted */\n",
       "  border: var(--sklearn-color-fitted-level-1) 1pt solid;\n",
       "  color: var(--sklearn-color-fitted-level-1);\n",
       "}\n",
       "\n",
       "/* On hover */\n",
       "div.sk-estimator:hover .sk-estimator-doc-link:hover,\n",
       ".sk-estimator-doc-link:hover,\n",
       "div.sk-label-container:hover .sk-estimator-doc-link:hover,\n",
       ".sk-estimator-doc-link:hover {\n",
       "  /* unfitted */\n",
       "  background-color: var(--sklearn-color-unfitted-level-3);\n",
       "  color: var(--sklearn-color-background);\n",
       "  text-decoration: none;\n",
       "}\n",
       "\n",
       "div.sk-estimator.fitted:hover .sk-estimator-doc-link.fitted:hover,\n",
       ".sk-estimator-doc-link.fitted:hover,\n",
       "div.sk-label-container:hover .sk-estimator-doc-link.fitted:hover,\n",
       ".sk-estimator-doc-link.fitted:hover {\n",
       "  /* fitted */\n",
       "  background-color: var(--sklearn-color-fitted-level-3);\n",
       "  color: var(--sklearn-color-background);\n",
       "  text-decoration: none;\n",
       "}\n",
       "\n",
       "/* Span, style for the box shown on hovering the info icon */\n",
       ".sk-estimator-doc-link span {\n",
       "  display: none;\n",
       "  z-index: 9999;\n",
       "  position: relative;\n",
       "  font-weight: normal;\n",
       "  right: .2ex;\n",
       "  padding: .5ex;\n",
       "  margin: .5ex;\n",
       "  width: min-content;\n",
       "  min-width: 20ex;\n",
       "  max-width: 50ex;\n",
       "  color: var(--sklearn-color-text);\n",
       "  box-shadow: 2pt 2pt 4pt #999;\n",
       "  /* unfitted */\n",
       "  background: var(--sklearn-color-unfitted-level-0);\n",
       "  border: .5pt solid var(--sklearn-color-unfitted-level-3);\n",
       "}\n",
       "\n",
       ".sk-estimator-doc-link.fitted span {\n",
       "  /* fitted */\n",
       "  background: var(--sklearn-color-fitted-level-0);\n",
       "  border: var(--sklearn-color-fitted-level-3);\n",
       "}\n",
       "\n",
       ".sk-estimator-doc-link:hover span {\n",
       "  display: block;\n",
       "}\n",
       "\n",
       "/* \"?\"-specific style due to the `<a>` HTML tag */\n",
       "\n",
       "#sk-container-id-2 a.estimator_doc_link {\n",
       "  float: right;\n",
       "  font-size: 1rem;\n",
       "  line-height: 1em;\n",
       "  font-family: monospace;\n",
       "  background-color: var(--sklearn-color-background);\n",
       "  border-radius: 1rem;\n",
       "  height: 1rem;\n",
       "  width: 1rem;\n",
       "  text-decoration: none;\n",
       "  /* unfitted */\n",
       "  color: var(--sklearn-color-unfitted-level-1);\n",
       "  border: var(--sklearn-color-unfitted-level-1) 1pt solid;\n",
       "}\n",
       "\n",
       "#sk-container-id-2 a.estimator_doc_link.fitted {\n",
       "  /* fitted */\n",
       "  border: var(--sklearn-color-fitted-level-1) 1pt solid;\n",
       "  color: var(--sklearn-color-fitted-level-1);\n",
       "}\n",
       "\n",
       "/* On hover */\n",
       "#sk-container-id-2 a.estimator_doc_link:hover {\n",
       "  /* unfitted */\n",
       "  background-color: var(--sklearn-color-unfitted-level-3);\n",
       "  color: var(--sklearn-color-background);\n",
       "  text-decoration: none;\n",
       "}\n",
       "\n",
       "#sk-container-id-2 a.estimator_doc_link.fitted:hover {\n",
       "  /* fitted */\n",
       "  background-color: var(--sklearn-color-fitted-level-3);\n",
       "}\n",
       "</style><div id=\"sk-container-id-2\" class=\"sk-top-container\"><div class=\"sk-text-repr-fallback\"><pre>RandomForestClassifier(random_state=42)</pre><b>In a Jupyter environment, please rerun this cell to show the HTML representation or trust the notebook. <br />On GitHub, the HTML representation is unable to render, please try loading this page with nbviewer.org.</b></div><div class=\"sk-container\" hidden><div class=\"sk-item\"><div class=\"sk-estimator fitted sk-toggleable\"><input class=\"sk-toggleable__control sk-hidden--visually\" id=\"sk-estimator-id-2\" type=\"checkbox\" checked><label for=\"sk-estimator-id-2\" class=\"sk-toggleable__label fitted sk-toggleable__label-arrow\"><div><div>RandomForestClassifier</div></div><div><a class=\"sk-estimator-doc-link fitted\" rel=\"noreferrer\" target=\"_blank\" href=\"https://scikit-learn.org/1.6/modules/generated/sklearn.ensemble.RandomForestClassifier.html\">?<span>Documentation for RandomForestClassifier</span></a><span class=\"sk-estimator-doc-link fitted\">i<span>Fitted</span></span></div></label><div class=\"sk-toggleable__content fitted\"><pre>RandomForestClassifier(random_state=42)</pre></div> </div></div></div></div>"
      ]
     },
     "execution_count": 27,
     "metadata": {},
     "output_type": "execute_result"
    }
   ],
   "execution_count": 27
  },
  {
   "cell_type": "code",
   "id": "d92032b2",
   "metadata": {
    "ExecuteTime": {
     "end_time": "2025-05-12T11:11:32.465627Z",
     "start_time": "2025-05-12T11:11:32.436328Z"
    }
   },
   "source": [
    "y_test_predictions_rf = rf.predict(X_test)\n",
    "print(classification_report(Y_test, y_test_predictions_rf))"
   ],
   "outputs": [
    {
     "name": "stdout",
     "output_type": "stream",
     "text": [
      "              precision    recall  f1-score   support\n",
      "\n",
      "           0       0.94      0.88      0.91       381\n",
      "           1       0.89      0.95      0.92       370\n",
      "\n",
      "    accuracy                           0.91       751\n",
      "   macro avg       0.92      0.92      0.91       751\n",
      "weighted avg       0.92      0.91      0.91       751\n",
      "\n"
     ]
    }
   ],
   "execution_count": 28
  },
  {
   "cell_type": "markdown",
   "id": "45b60fe8",
   "metadata": {},
   "source": [
    "## Gradient Boosting\n"
   ]
  },
  {
   "cell_type": "code",
   "id": "0ba2b6fa",
   "metadata": {
    "ExecuteTime": {
     "end_time": "2025-05-12T11:13:16.914748Z",
     "start_time": "2025-05-12T11:11:40.847177Z"
    }
   },
   "source": [
    "gb = GradientBoostingClassifier(random_state=seed)\n",
    "gb.fit(X_train, Y_train)"
   ],
   "outputs": [
    {
     "data": {
      "text/plain": [
       "GradientBoostingClassifier(random_state=42)"
      ],
      "text/html": [
       "<style>#sk-container-id-3 {\n",
       "  /* Definition of color scheme common for light and dark mode */\n",
       "  --sklearn-color-text: #000;\n",
       "  --sklearn-color-text-muted: #666;\n",
       "  --sklearn-color-line: gray;\n",
       "  /* Definition of color scheme for unfitted estimators */\n",
       "  --sklearn-color-unfitted-level-0: #fff5e6;\n",
       "  --sklearn-color-unfitted-level-1: #f6e4d2;\n",
       "  --sklearn-color-unfitted-level-2: #ffe0b3;\n",
       "  --sklearn-color-unfitted-level-3: chocolate;\n",
       "  /* Definition of color scheme for fitted estimators */\n",
       "  --sklearn-color-fitted-level-0: #f0f8ff;\n",
       "  --sklearn-color-fitted-level-1: #d4ebff;\n",
       "  --sklearn-color-fitted-level-2: #b3dbfd;\n",
       "  --sklearn-color-fitted-level-3: cornflowerblue;\n",
       "\n",
       "  /* Specific color for light theme */\n",
       "  --sklearn-color-text-on-default-background: var(--sg-text-color, var(--theme-code-foreground, var(--jp-content-font-color1, black)));\n",
       "  --sklearn-color-background: var(--sg-background-color, var(--theme-background, var(--jp-layout-color0, white)));\n",
       "  --sklearn-color-border-box: var(--sg-text-color, var(--theme-code-foreground, var(--jp-content-font-color1, black)));\n",
       "  --sklearn-color-icon: #696969;\n",
       "\n",
       "  @media (prefers-color-scheme: dark) {\n",
       "    /* Redefinition of color scheme for dark theme */\n",
       "    --sklearn-color-text-on-default-background: var(--sg-text-color, var(--theme-code-foreground, var(--jp-content-font-color1, white)));\n",
       "    --sklearn-color-background: var(--sg-background-color, var(--theme-background, var(--jp-layout-color0, #111)));\n",
       "    --sklearn-color-border-box: var(--sg-text-color, var(--theme-code-foreground, var(--jp-content-font-color1, white)));\n",
       "    --sklearn-color-icon: #878787;\n",
       "  }\n",
       "}\n",
       "\n",
       "#sk-container-id-3 {\n",
       "  color: var(--sklearn-color-text);\n",
       "}\n",
       "\n",
       "#sk-container-id-3 pre {\n",
       "  padding: 0;\n",
       "}\n",
       "\n",
       "#sk-container-id-3 input.sk-hidden--visually {\n",
       "  border: 0;\n",
       "  clip: rect(1px 1px 1px 1px);\n",
       "  clip: rect(1px, 1px, 1px, 1px);\n",
       "  height: 1px;\n",
       "  margin: -1px;\n",
       "  overflow: hidden;\n",
       "  padding: 0;\n",
       "  position: absolute;\n",
       "  width: 1px;\n",
       "}\n",
       "\n",
       "#sk-container-id-3 div.sk-dashed-wrapped {\n",
       "  border: 1px dashed var(--sklearn-color-line);\n",
       "  margin: 0 0.4em 0.5em 0.4em;\n",
       "  box-sizing: border-box;\n",
       "  padding-bottom: 0.4em;\n",
       "  background-color: var(--sklearn-color-background);\n",
       "}\n",
       "\n",
       "#sk-container-id-3 div.sk-container {\n",
       "  /* jupyter's `normalize.less` sets `[hidden] { display: none; }`\n",
       "     but bootstrap.min.css set `[hidden] { display: none !important; }`\n",
       "     so we also need the `!important` here to be able to override the\n",
       "     default hidden behavior on the sphinx rendered scikit-learn.org.\n",
       "     See: https://github.com/scikit-learn/scikit-learn/issues/21755 */\n",
       "  display: inline-block !important;\n",
       "  position: relative;\n",
       "}\n",
       "\n",
       "#sk-container-id-3 div.sk-text-repr-fallback {\n",
       "  display: none;\n",
       "}\n",
       "\n",
       "div.sk-parallel-item,\n",
       "div.sk-serial,\n",
       "div.sk-item {\n",
       "  /* draw centered vertical line to link estimators */\n",
       "  background-image: linear-gradient(var(--sklearn-color-text-on-default-background), var(--sklearn-color-text-on-default-background));\n",
       "  background-size: 2px 100%;\n",
       "  background-repeat: no-repeat;\n",
       "  background-position: center center;\n",
       "}\n",
       "\n",
       "/* Parallel-specific style estimator block */\n",
       "\n",
       "#sk-container-id-3 div.sk-parallel-item::after {\n",
       "  content: \"\";\n",
       "  width: 100%;\n",
       "  border-bottom: 2px solid var(--sklearn-color-text-on-default-background);\n",
       "  flex-grow: 1;\n",
       "}\n",
       "\n",
       "#sk-container-id-3 div.sk-parallel {\n",
       "  display: flex;\n",
       "  align-items: stretch;\n",
       "  justify-content: center;\n",
       "  background-color: var(--sklearn-color-background);\n",
       "  position: relative;\n",
       "}\n",
       "\n",
       "#sk-container-id-3 div.sk-parallel-item {\n",
       "  display: flex;\n",
       "  flex-direction: column;\n",
       "}\n",
       "\n",
       "#sk-container-id-3 div.sk-parallel-item:first-child::after {\n",
       "  align-self: flex-end;\n",
       "  width: 50%;\n",
       "}\n",
       "\n",
       "#sk-container-id-3 div.sk-parallel-item:last-child::after {\n",
       "  align-self: flex-start;\n",
       "  width: 50%;\n",
       "}\n",
       "\n",
       "#sk-container-id-3 div.sk-parallel-item:only-child::after {\n",
       "  width: 0;\n",
       "}\n",
       "\n",
       "/* Serial-specific style estimator block */\n",
       "\n",
       "#sk-container-id-3 div.sk-serial {\n",
       "  display: flex;\n",
       "  flex-direction: column;\n",
       "  align-items: center;\n",
       "  background-color: var(--sklearn-color-background);\n",
       "  padding-right: 1em;\n",
       "  padding-left: 1em;\n",
       "}\n",
       "\n",
       "\n",
       "/* Toggleable style: style used for estimator/Pipeline/ColumnTransformer box that is\n",
       "clickable and can be expanded/collapsed.\n",
       "- Pipeline and ColumnTransformer use this feature and define the default style\n",
       "- Estimators will overwrite some part of the style using the `sk-estimator` class\n",
       "*/\n",
       "\n",
       "/* Pipeline and ColumnTransformer style (default) */\n",
       "\n",
       "#sk-container-id-3 div.sk-toggleable {\n",
       "  /* Default theme specific background. It is overwritten whether we have a\n",
       "  specific estimator or a Pipeline/ColumnTransformer */\n",
       "  background-color: var(--sklearn-color-background);\n",
       "}\n",
       "\n",
       "/* Toggleable label */\n",
       "#sk-container-id-3 label.sk-toggleable__label {\n",
       "  cursor: pointer;\n",
       "  display: flex;\n",
       "  width: 100%;\n",
       "  margin-bottom: 0;\n",
       "  padding: 0.5em;\n",
       "  box-sizing: border-box;\n",
       "  text-align: center;\n",
       "  align-items: start;\n",
       "  justify-content: space-between;\n",
       "  gap: 0.5em;\n",
       "}\n",
       "\n",
       "#sk-container-id-3 label.sk-toggleable__label .caption {\n",
       "  font-size: 0.6rem;\n",
       "  font-weight: lighter;\n",
       "  color: var(--sklearn-color-text-muted);\n",
       "}\n",
       "\n",
       "#sk-container-id-3 label.sk-toggleable__label-arrow:before {\n",
       "  /* Arrow on the left of the label */\n",
       "  content: \"▸\";\n",
       "  float: left;\n",
       "  margin-right: 0.25em;\n",
       "  color: var(--sklearn-color-icon);\n",
       "}\n",
       "\n",
       "#sk-container-id-3 label.sk-toggleable__label-arrow:hover:before {\n",
       "  color: var(--sklearn-color-text);\n",
       "}\n",
       "\n",
       "/* Toggleable content - dropdown */\n",
       "\n",
       "#sk-container-id-3 div.sk-toggleable__content {\n",
       "  max-height: 0;\n",
       "  max-width: 0;\n",
       "  overflow: hidden;\n",
       "  text-align: left;\n",
       "  /* unfitted */\n",
       "  background-color: var(--sklearn-color-unfitted-level-0);\n",
       "}\n",
       "\n",
       "#sk-container-id-3 div.sk-toggleable__content.fitted {\n",
       "  /* fitted */\n",
       "  background-color: var(--sklearn-color-fitted-level-0);\n",
       "}\n",
       "\n",
       "#sk-container-id-3 div.sk-toggleable__content pre {\n",
       "  margin: 0.2em;\n",
       "  border-radius: 0.25em;\n",
       "  color: var(--sklearn-color-text);\n",
       "  /* unfitted */\n",
       "  background-color: var(--sklearn-color-unfitted-level-0);\n",
       "}\n",
       "\n",
       "#sk-container-id-3 div.sk-toggleable__content.fitted pre {\n",
       "  /* unfitted */\n",
       "  background-color: var(--sklearn-color-fitted-level-0);\n",
       "}\n",
       "\n",
       "#sk-container-id-3 input.sk-toggleable__control:checked~div.sk-toggleable__content {\n",
       "  /* Expand drop-down */\n",
       "  max-height: 200px;\n",
       "  max-width: 100%;\n",
       "  overflow: auto;\n",
       "}\n",
       "\n",
       "#sk-container-id-3 input.sk-toggleable__control:checked~label.sk-toggleable__label-arrow:before {\n",
       "  content: \"▾\";\n",
       "}\n",
       "\n",
       "/* Pipeline/ColumnTransformer-specific style */\n",
       "\n",
       "#sk-container-id-3 div.sk-label input.sk-toggleable__control:checked~label.sk-toggleable__label {\n",
       "  color: var(--sklearn-color-text);\n",
       "  background-color: var(--sklearn-color-unfitted-level-2);\n",
       "}\n",
       "\n",
       "#sk-container-id-3 div.sk-label.fitted input.sk-toggleable__control:checked~label.sk-toggleable__label {\n",
       "  background-color: var(--sklearn-color-fitted-level-2);\n",
       "}\n",
       "\n",
       "/* Estimator-specific style */\n",
       "\n",
       "/* Colorize estimator box */\n",
       "#sk-container-id-3 div.sk-estimator input.sk-toggleable__control:checked~label.sk-toggleable__label {\n",
       "  /* unfitted */\n",
       "  background-color: var(--sklearn-color-unfitted-level-2);\n",
       "}\n",
       "\n",
       "#sk-container-id-3 div.sk-estimator.fitted input.sk-toggleable__control:checked~label.sk-toggleable__label {\n",
       "  /* fitted */\n",
       "  background-color: var(--sklearn-color-fitted-level-2);\n",
       "}\n",
       "\n",
       "#sk-container-id-3 div.sk-label label.sk-toggleable__label,\n",
       "#sk-container-id-3 div.sk-label label {\n",
       "  /* The background is the default theme color */\n",
       "  color: var(--sklearn-color-text-on-default-background);\n",
       "}\n",
       "\n",
       "/* On hover, darken the color of the background */\n",
       "#sk-container-id-3 div.sk-label:hover label.sk-toggleable__label {\n",
       "  color: var(--sklearn-color-text);\n",
       "  background-color: var(--sklearn-color-unfitted-level-2);\n",
       "}\n",
       "\n",
       "/* Label box, darken color on hover, fitted */\n",
       "#sk-container-id-3 div.sk-label.fitted:hover label.sk-toggleable__label.fitted {\n",
       "  color: var(--sklearn-color-text);\n",
       "  background-color: var(--sklearn-color-fitted-level-2);\n",
       "}\n",
       "\n",
       "/* Estimator label */\n",
       "\n",
       "#sk-container-id-3 div.sk-label label {\n",
       "  font-family: monospace;\n",
       "  font-weight: bold;\n",
       "  display: inline-block;\n",
       "  line-height: 1.2em;\n",
       "}\n",
       "\n",
       "#sk-container-id-3 div.sk-label-container {\n",
       "  text-align: center;\n",
       "}\n",
       "\n",
       "/* Estimator-specific */\n",
       "#sk-container-id-3 div.sk-estimator {\n",
       "  font-family: monospace;\n",
       "  border: 1px dotted var(--sklearn-color-border-box);\n",
       "  border-radius: 0.25em;\n",
       "  box-sizing: border-box;\n",
       "  margin-bottom: 0.5em;\n",
       "  /* unfitted */\n",
       "  background-color: var(--sklearn-color-unfitted-level-0);\n",
       "}\n",
       "\n",
       "#sk-container-id-3 div.sk-estimator.fitted {\n",
       "  /* fitted */\n",
       "  background-color: var(--sklearn-color-fitted-level-0);\n",
       "}\n",
       "\n",
       "/* on hover */\n",
       "#sk-container-id-3 div.sk-estimator:hover {\n",
       "  /* unfitted */\n",
       "  background-color: var(--sklearn-color-unfitted-level-2);\n",
       "}\n",
       "\n",
       "#sk-container-id-3 div.sk-estimator.fitted:hover {\n",
       "  /* fitted */\n",
       "  background-color: var(--sklearn-color-fitted-level-2);\n",
       "}\n",
       "\n",
       "/* Specification for estimator info (e.g. \"i\" and \"?\") */\n",
       "\n",
       "/* Common style for \"i\" and \"?\" */\n",
       "\n",
       ".sk-estimator-doc-link,\n",
       "a:link.sk-estimator-doc-link,\n",
       "a:visited.sk-estimator-doc-link {\n",
       "  float: right;\n",
       "  font-size: smaller;\n",
       "  line-height: 1em;\n",
       "  font-family: monospace;\n",
       "  background-color: var(--sklearn-color-background);\n",
       "  border-radius: 1em;\n",
       "  height: 1em;\n",
       "  width: 1em;\n",
       "  text-decoration: none !important;\n",
       "  margin-left: 0.5em;\n",
       "  text-align: center;\n",
       "  /* unfitted */\n",
       "  border: var(--sklearn-color-unfitted-level-1) 1pt solid;\n",
       "  color: var(--sklearn-color-unfitted-level-1);\n",
       "}\n",
       "\n",
       ".sk-estimator-doc-link.fitted,\n",
       "a:link.sk-estimator-doc-link.fitted,\n",
       "a:visited.sk-estimator-doc-link.fitted {\n",
       "  /* fitted */\n",
       "  border: var(--sklearn-color-fitted-level-1) 1pt solid;\n",
       "  color: var(--sklearn-color-fitted-level-1);\n",
       "}\n",
       "\n",
       "/* On hover */\n",
       "div.sk-estimator:hover .sk-estimator-doc-link:hover,\n",
       ".sk-estimator-doc-link:hover,\n",
       "div.sk-label-container:hover .sk-estimator-doc-link:hover,\n",
       ".sk-estimator-doc-link:hover {\n",
       "  /* unfitted */\n",
       "  background-color: var(--sklearn-color-unfitted-level-3);\n",
       "  color: var(--sklearn-color-background);\n",
       "  text-decoration: none;\n",
       "}\n",
       "\n",
       "div.sk-estimator.fitted:hover .sk-estimator-doc-link.fitted:hover,\n",
       ".sk-estimator-doc-link.fitted:hover,\n",
       "div.sk-label-container:hover .sk-estimator-doc-link.fitted:hover,\n",
       ".sk-estimator-doc-link.fitted:hover {\n",
       "  /* fitted */\n",
       "  background-color: var(--sklearn-color-fitted-level-3);\n",
       "  color: var(--sklearn-color-background);\n",
       "  text-decoration: none;\n",
       "}\n",
       "\n",
       "/* Span, style for the box shown on hovering the info icon */\n",
       ".sk-estimator-doc-link span {\n",
       "  display: none;\n",
       "  z-index: 9999;\n",
       "  position: relative;\n",
       "  font-weight: normal;\n",
       "  right: .2ex;\n",
       "  padding: .5ex;\n",
       "  margin: .5ex;\n",
       "  width: min-content;\n",
       "  min-width: 20ex;\n",
       "  max-width: 50ex;\n",
       "  color: var(--sklearn-color-text);\n",
       "  box-shadow: 2pt 2pt 4pt #999;\n",
       "  /* unfitted */\n",
       "  background: var(--sklearn-color-unfitted-level-0);\n",
       "  border: .5pt solid var(--sklearn-color-unfitted-level-3);\n",
       "}\n",
       "\n",
       ".sk-estimator-doc-link.fitted span {\n",
       "  /* fitted */\n",
       "  background: var(--sklearn-color-fitted-level-0);\n",
       "  border: var(--sklearn-color-fitted-level-3);\n",
       "}\n",
       "\n",
       ".sk-estimator-doc-link:hover span {\n",
       "  display: block;\n",
       "}\n",
       "\n",
       "/* \"?\"-specific style due to the `<a>` HTML tag */\n",
       "\n",
       "#sk-container-id-3 a.estimator_doc_link {\n",
       "  float: right;\n",
       "  font-size: 1rem;\n",
       "  line-height: 1em;\n",
       "  font-family: monospace;\n",
       "  background-color: var(--sklearn-color-background);\n",
       "  border-radius: 1rem;\n",
       "  height: 1rem;\n",
       "  width: 1rem;\n",
       "  text-decoration: none;\n",
       "  /* unfitted */\n",
       "  color: var(--sklearn-color-unfitted-level-1);\n",
       "  border: var(--sklearn-color-unfitted-level-1) 1pt solid;\n",
       "}\n",
       "\n",
       "#sk-container-id-3 a.estimator_doc_link.fitted {\n",
       "  /* fitted */\n",
       "  border: var(--sklearn-color-fitted-level-1) 1pt solid;\n",
       "  color: var(--sklearn-color-fitted-level-1);\n",
       "}\n",
       "\n",
       "/* On hover */\n",
       "#sk-container-id-3 a.estimator_doc_link:hover {\n",
       "  /* unfitted */\n",
       "  background-color: var(--sklearn-color-unfitted-level-3);\n",
       "  color: var(--sklearn-color-background);\n",
       "  text-decoration: none;\n",
       "}\n",
       "\n",
       "#sk-container-id-3 a.estimator_doc_link.fitted:hover {\n",
       "  /* fitted */\n",
       "  background-color: var(--sklearn-color-fitted-level-3);\n",
       "}\n",
       "</style><div id=\"sk-container-id-3\" class=\"sk-top-container\"><div class=\"sk-text-repr-fallback\"><pre>GradientBoostingClassifier(random_state=42)</pre><b>In a Jupyter environment, please rerun this cell to show the HTML representation or trust the notebook. <br />On GitHub, the HTML representation is unable to render, please try loading this page with nbviewer.org.</b></div><div class=\"sk-container\" hidden><div class=\"sk-item\"><div class=\"sk-estimator fitted sk-toggleable\"><input class=\"sk-toggleable__control sk-hidden--visually\" id=\"sk-estimator-id-3\" type=\"checkbox\" checked><label for=\"sk-estimator-id-3\" class=\"sk-toggleable__label fitted sk-toggleable__label-arrow\"><div><div>GradientBoostingClassifier</div></div><div><a class=\"sk-estimator-doc-link fitted\" rel=\"noreferrer\" target=\"_blank\" href=\"https://scikit-learn.org/1.6/modules/generated/sklearn.ensemble.GradientBoostingClassifier.html\">?<span>Documentation for GradientBoostingClassifier</span></a><span class=\"sk-estimator-doc-link fitted\">i<span>Fitted</span></span></div></label><div class=\"sk-toggleable__content fitted\"><pre>GradientBoostingClassifier(random_state=42)</pre></div> </div></div></div></div>"
      ]
     },
     "execution_count": 29,
     "metadata": {},
     "output_type": "execute_result"
    }
   ],
   "execution_count": 29
  },
  {
   "cell_type": "code",
   "id": "723f87d8",
   "metadata": {
    "ExecuteTime": {
     "end_time": "2025-05-12T11:13:33.687454Z",
     "start_time": "2025-05-12T11:13:33.645088Z"
    }
   },
   "source": [
    "y_test_predictions_gb = gb.predict(X_test)\n",
    "print(classification_report(Y_test, y_test_predictions_gb))"
   ],
   "outputs": [
    {
     "name": "stdout",
     "output_type": "stream",
     "text": [
      "              precision    recall  f1-score   support\n",
      "\n",
      "           0       0.94      0.91      0.92       381\n",
      "           1       0.91      0.94      0.92       370\n",
      "\n",
      "    accuracy                           0.92       751\n",
      "   macro avg       0.92      0.92      0.92       751\n",
      "weighted avg       0.92      0.92      0.92       751\n",
      "\n"
     ]
    }
   ],
   "execution_count": 30
  },
  {
   "cell_type": "markdown",
   "id": "bba2d494",
   "metadata": {},
   "source": [
    "# Klasifikace pomocí neuronové sítě\n"
   ]
  },
  {
   "cell_type": "markdown",
   "id": "2a43cd3e",
   "metadata": {},
   "source": [
    "## Příprava dat pro trénování"
   ]
  },
  {
   "cell_type": "code",
   "id": "4cd62775",
   "metadata": {
    "ExecuteTime": {
     "end_time": "2025-05-12T11:13:33.705827Z",
     "start_time": "2025-05-12T11:13:33.693234Z"
    }
   },
   "source": [
    "X_train_tensor = torch.tensor(X_train, dtype=torch.float32)\n",
    "Y_train_tensor = torch.tensor(Y_train, dtype=torch.long)\n",
    "X_test_tensor = torch.tensor(X_test, dtype=torch.float32)\n",
    "Y_test_tensor = torch.tensor(Y_train, dtype=torch.long)"
   ],
   "outputs": [],
   "execution_count": 31
  },
  {
   "cell_type": "markdown",
   "id": "9081b34a",
   "metadata": {},
   "source": [
    "### Příprava dat pro konvoluční neuronové sítě\n",
    "\n",
    "V této buňce upravujeme tvar našich tenzorů tak, aby byly kompatibilní s konvolučními vrstvami (`Conv1d`).\n",
    "\n",
    "Konvoluční vrstvy v PyTorch očekávají vstupní data ve formátu:\n",
    "- **[batch_size, channels, sequence_length]**\n",
    "\n",
    "Naše současná data jsou ve formátu:\n",
    "- **[batch_size, sequence_length]**\n",
    "\n",
    "Přidáním dimenze kanálů pomocí metody `unsqueeze(1)` transformujeme naše data do požadovaného formátu. V našem případě používáme jednokanálová data (jako u jednorozměrného signálu), takže přidáváme kanál s hodnotou 1.\n",
    "\n",
    "Toto je běžný krok při zpracování časových řad pomocí konvolučních neuronových sítí, kde každá časová řada je reprezentována jako jednokanálový signál."
   ]
  },
  {
   "cell_type": "code",
   "id": "ec3e68a6",
   "metadata": {
    "ExecuteTime": {
     "end_time": "2025-05-12T11:13:42.178131Z",
     "start_time": "2025-05-12T11:13:42.175497Z"
    }
   },
   "source": [
    "X_train_tensor = X_train_tensor.unsqueeze(1)\n",
    "X_test_tensor = X_test_tensor.unsqueeze(1)"
   ],
   "outputs": [],
   "execution_count": 32
  },
  {
   "cell_type": "code",
   "id": "9e45476b",
   "metadata": {
    "ExecuteTime": {
     "end_time": "2025-05-12T11:13:50.698480Z",
     "start_time": "2025-05-12T11:13:50.695173Z"
    }
   },
   "source": [
    "train_dataset = TensorDataset(X_train_tensor, Y_train_tensor)\n",
    "test_dataset = TensorDataset(X_test_tensor, Y_test_tensor)"
   ],
   "outputs": [],
   "execution_count": 33
  },
  {
   "cell_type": "code",
   "id": "08dd249d",
   "metadata": {
    "ExecuteTime": {
     "end_time": "2025-05-12T11:14:07.633073Z",
     "start_time": "2025-05-12T11:14:07.629624Z"
    }
   },
   "source": [
    "print(X_train_tensor.shape)\n",
    "print(Y_train_tensor.shape)\n",
    "print(X_test_tensor.shape)\n",
    "print(Y_test_tensor.shape)"
   ],
   "outputs": [
    {
     "name": "stdout",
     "output_type": "stream",
     "text": [
      "torch.Size([751, 1, 4201])\n",
      "torch.Size([751])\n",
      "torch.Size([751, 1, 4201])\n",
      "torch.Size([751])\n"
     ]
    }
   ],
   "execution_count": 34
  },
  {
   "cell_type": "markdown",
   "id": "ce882365",
   "metadata": {},
   "source": [
    "#### Trénovací parametry"
   ]
  },
  {
   "cell_type": "code",
   "id": "f9e70b37",
   "metadata": {
    "ExecuteTime": {
     "end_time": "2025-05-12T11:14:07.670568Z",
     "start_time": "2025-05-12T11:14:07.666547Z"
    }
   },
   "source": [
    "batch_size = 64\n",
    "num_epochs = 50\n",
    "learning_rate = 0.001\n",
    "class_names = ['0', '1']\n",
    "num_classes = len(torch.unique(Y_train_tensor))"
   ],
   "outputs": [],
   "execution_count": 35
  },
  {
   "cell_type": "markdown",
   "id": "b18f1a86",
   "metadata": {},
   "source": [
    "#### DataLoader"
   ]
  },
  {
   "cell_type": "code",
   "id": "ac182ca4",
   "metadata": {
    "ExecuteTime": {
     "end_time": "2025-05-12T11:14:24.484903Z",
     "start_time": "2025-05-12T11:14:24.480917Z"
    }
   },
   "source": [
    "train_loader = DataLoader(train_dataset, batch_size=batch_size, shuffle=True)\n",
    "test_loader = DataLoader(test_dataset, batch_size=batch_size, shuffle=False)"
   ],
   "outputs": [],
   "execution_count": 36
  },
  {
   "cell_type": "markdown",
   "id": "05d107af",
   "metadata": {},
   "source": [
    "### Pomocné funkce"
   ]
  },
  {
   "cell_type": "markdown",
   "id": "b23d11b5",
   "metadata": {},
   "source": [
    "#### Funkce pro trénování modelu"
   ]
  },
  {
   "cell_type": "code",
   "id": "3b7cf467",
   "metadata": {
    "ExecuteTime": {
     "end_time": "2025-05-12T11:14:24.507710Z",
     "start_time": "2025-05-12T11:14:24.501392Z"
    }
   },
   "source": [
    "def train_model(model, train_loader, criterion, optimizer, num_epochs, device):\n",
    "    history = defaultdict(list)\n",
    "    best_model_wts = copy.deepcopy(model.state_dict())\n",
    "    best_acc = 0.0\n",
    "\n",
    "    # Print header\n",
    "    print(f\"{'Epoch':<7} | {'Train Loss':<12} | {'Train Acc':<10} | Improvement\")\n",
    "    print(\"-\" * 50)\n",
    "\n",
    "    for epoch in range(num_epochs):\n",
    "        model.train()\n",
    "        train_loss, train_correct = 0.0, 0\n",
    "        total_samples = 0\n",
    "\n",
    "        # Training phase\n",
    "        for inputs, labels in train_loader:\n",
    "            inputs, labels = inputs.to(device), labels.to(device)\n",
    "\n",
    "            optimizer.zero_grad()\n",
    "\n",
    "            outputs = model(inputs)\n",
    "            loss = criterion(outputs, labels)\n",
    "\n",
    "            loss.backward()\n",
    "            optimizer.step()\n",
    "\n",
    "            train_loss += loss.item() * inputs.size(0)\n",
    "            train_correct += (outputs.argmax(1) == labels).sum().item()\n",
    "            total_samples += inputs.size(0)\n",
    "\n",
    "        # Calculate metrics\n",
    "        epoch_loss = train_loss / total_samples\n",
    "        epoch_acc = train_correct / total_samples\n",
    "\n",
    "        # Store metrics\n",
    "        history['train_loss'].append(epoch_loss)\n",
    "        history['train_acc'].append(epoch_acc)\n",
    "\n",
    "        # Check for improvement\n",
    "        improvement = \"\"\n",
    "        if epoch_acc > best_acc:\n",
    "            improvement = \"✓\"\n",
    "            best_acc = epoch_acc\n",
    "            best_model_wts = copy.deepcopy(model.state_dict())\n",
    "\n",
    "        print(f\"{epoch + 1:>3}/{num_epochs:<3} | {epoch_loss:>10.4f} | {epoch_acc:>9.2%} | {improvement}\")\n",
    "\n",
    "    # Load best model weights\n",
    "    model.load_state_dict(best_model_wts)\n",
    "    print(f\"\\nTraining complete! Best accuracy: {best_acc:.2%}\")\n",
    "\n",
    "    return model, history"
   ],
   "outputs": [],
   "execution_count": 37
  },
  {
   "cell_type": "markdown",
   "id": "981b5f78",
   "metadata": {},
   "source": [
    "#### Funkce pro vykreslení trénování"
   ]
  },
  {
   "cell_type": "code",
   "id": "f2a91fcc",
   "metadata": {
    "ExecuteTime": {
     "end_time": "2025-05-12T11:14:32.922799Z",
     "start_time": "2025-05-12T11:14:32.918337Z"
    }
   },
   "source": [
    "def plot_training_history(history):\n",
    "    plt.figure(figsize=(12, 4))\n",
    "\n",
    "    # Plot loss\n",
    "    plt.subplot(1, 2, 1)\n",
    "    plt.plot(history['train_loss'], label='Trénovací ztráta')\n",
    "    plt.xlabel('Epocha')\n",
    "    plt.ylabel('Ztráta')\n",
    "    plt.legend()\n",
    "    plt.title('Ztráta během epoch')\n",
    "\n",
    "    # Plot accuracy\n",
    "    plt.subplot(1, 2, 2)\n",
    "    plt.plot(history['train_acc'], label='Trénovací přesnost')\n",
    "    plt.xlabel('Epocha')\n",
    "    plt.ylabel('Přesnost')\n",
    "    plt.legend()\n",
    "    plt.title('Přesnost během epoch')\n",
    "\n",
    "    plt.tight_layout()\n",
    "    plt.show()\n"
   ],
   "outputs": [],
   "execution_count": 38
  },
  {
   "cell_type": "markdown",
   "id": "866724d4",
   "metadata": {},
   "source": [
    "#### Funkce pro vyhodnocení modelu"
   ]
  },
  {
   "cell_type": "code",
   "id": "59e257f2",
   "metadata": {
    "ExecuteTime": {
     "end_time": "2025-05-12T11:14:49.611584Z",
     "start_time": "2025-05-12T11:14:49.605887Z"
    }
   },
   "source": [
    "def evaluate_model(model, test_loader, device, class_names=None):\n",
    "    model.eval()\n",
    "    all_labels = []\n",
    "    all_predictions = []\n",
    "\n",
    "    with torch.no_grad():\n",
    "        for inputs, labels in test_loader:\n",
    "            inputs, labels = inputs.to(device), labels.to(device)\n",
    "            outputs = model(inputs)\n",
    "            _, prediction = torch.max(outputs, 1)\n",
    "\n",
    "            all_labels.extend(labels.cpu().numpy())\n",
    "            all_predictions.extend(prediction.cpu().numpy())\n",
    "\n",
    "    # Calculate metrics\n",
    "    accuracy = (np.array(all_predictions) == np.array(all_labels)).mean()\n",
    "    report = classification_report(\n",
    "        all_labels,\n",
    "        all_predictions,\n",
    "        target_names=class_names,\n",
    "        digits=4,\n",
    "        zero_division=1,\n",
    "        output_dict=True\n",
    "    )\n",
    "\n",
    "    # Print results\n",
    "    print(f\"\\n{' Test Results ':=^40}\")\n",
    "    print(f\"Overall Accuracy: {accuracy:.2%}\\n\")\n",
    "    print(\"Classification Report:\")\n",
    "    print(classification_report(all_labels, all_predictions, target_names=class_names, digits=4, zero_division=1))\n",
    "\n",
    "    # Plot confusion matrix if class_names are provided\n",
    "    if class_names:\n",
    "        cm = confusion_matrix(all_labels, all_predictions)\n",
    "        plt.figure(figsize=(10, 8))\n",
    "        sns.heatmap(cm, annot=True, fmt='d', cmap='Blues',\n",
    "                    xticklabels=class_names, yticklabels=class_names, cbar=False)\n",
    "        plt.title('Matice záměny')\n",
    "        plt.xlabel('Predikce')\n",
    "        plt.ylabel('Skutečné hodnoty')\n",
    "        plt.tight_layout()\n",
    "        plt.show()\n",
    "\n",
    "    # Return metrics dictionary\n",
    "    metrics = {\n",
    "        'Accuracy': accuracy,\n",
    "        'Precision': report['weighted avg']['precision'],\n",
    "        'Recall': report['weighted avg']['recall'],\n",
    "        'F1-score': report['weighted avg']['f1-score']\n",
    "    }\n",
    "\n",
    "    return metrics"
   ],
   "outputs": [],
   "execution_count": 39
  },
  {
   "cell_type": "markdown",
   "id": "cac2aa54",
   "metadata": {},
   "source": [
    "## Trénování jednotlivých modelů"
   ]
  },
  {
   "cell_type": "markdown",
   "id": "09b4a9f0",
   "metadata": {},
   "source": [
    "### RNN"
   ]
  },
  {
   "cell_type": "code",
   "id": "5add31de",
   "metadata": {
    "ExecuteTime": {
     "end_time": "2025-05-12T11:14:49.631905Z",
     "start_time": "2025-05-12T11:14:49.618535Z"
    }
   },
   "source": [
    "class RNNModel(nn.Module):\n",
    "    def __init__(self, input_channels=1, num_classes=2):\n",
    "        super(RNNModel, self).__init__()\n",
    "\n",
    "        self.cnn = nn.Sequential(\n",
    "            # Block 1\n",
    "            nn.Conv1d(input_channels, 64, kernel_size=7, padding=3),\n",
    "            nn.BatchNorm1d(64),\n",
    "            nn.ReLU(),\n",
    "            nn.MaxPool1d(2),\n",
    "\n",
    "            # Block 2\n",
    "            nn.Conv1d(64, 128, kernel_size=5, padding=2),\n",
    "            nn.BatchNorm1d(128),\n",
    "            nn.ReLU(),\n",
    "            nn.MaxPool1d(2),\n",
    "\n",
    "            # Block 3\n",
    "            nn.Conv1d(128, 256, kernel_size=3, padding=1),\n",
    "            nn.BatchNorm1d(256),\n",
    "            nn.ReLU(),\n",
    "            nn.AdaptiveAvgPool1d(1)\n",
    "        )\n",
    "\n",
    "        # RNN Temporal Processor\n",
    "        self.rnn = nn.RNN(\n",
    "            input_size=256,\n",
    "            hidden_size=128,\n",
    "            num_layers=2,\n",
    "            batch_first=True,\n",
    "            nonlinearity='relu'\n",
    "        )\n",
    "\n",
    "        # Classifier Head with Sigmoid\n",
    "        self.classifier = nn.Sequential(\n",
    "            nn.Linear(128, 64),\n",
    "            nn.ReLU(),\n",
    "            nn.Dropout(0.5),\n",
    "            nn.Linear(64, num_classes),\n",
    "            nn.Sigmoid()\n",
    "        )\n",
    "\n",
    "    def forward(self, x):\n",
    "        # CNN Feature Extraction\n",
    "        cnn_features = self.cnn(x)\n",
    "        cnn_features = cnn_features.squeeze(-1)  # Remove the last dimension \n",
    "\n",
    "        # RNN Processing - add a sequence dimension\n",
    "        cnn_features = cnn_features.unsqueeze(1)  # [batch, 1, features]\n",
    "        h0 = torch.zeros(2, x.size(0), 128).to(x.device)  # 2 layers\n",
    "        rnn_out, _ = self.rnn(cnn_features, h0)\n",
    "        rnn_features = rnn_out[:, -1, :]  # Last timestep\n",
    "\n",
    "        # Classification\n",
    "        logits = self.classifier(rnn_features)\n",
    "        return logits"
   ],
   "outputs": [],
   "execution_count": 40
  },
  {
   "cell_type": "code",
   "id": "4be50841",
   "metadata": {
    "ExecuteTime": {
     "end_time": "2025-05-12T11:14:58.399454Z",
     "start_time": "2025-05-12T11:14:58.395730Z"
    }
   },
   "source": [
    "input_size = 1\n",
    "hidden_size = 64\n",
    "num_layers = 3\n",
    "dropout = 0.5"
   ],
   "outputs": [],
   "execution_count": 41
  },
  {
   "cell_type": "code",
   "id": "eec93df0",
   "metadata": {
    "ExecuteTime": {
     "end_time": "2025-05-12T11:15:16.962072Z",
     "start_time": "2025-05-12T11:15:16.669124Z"
    }
   },
   "source": [
    "model = RNNModel(input_size, num_classes).to(device)\n",
    "torchinfo.summary(model, input_size=(batch_size, input_size, X_train.shape[1]),\n",
    "                  col_names=[\"input_size\", \"output_size\", \"num_params\"])"
   ],
   "outputs": [
    {
     "data": {
      "text/plain": [
       "===================================================================================================================\n",
       "Layer (type:depth-idx)                   Input Shape               Output Shape              Param #\n",
       "===================================================================================================================\n",
       "RNNModel                                 [64, 1, 4201]             [64, 2]                   --\n",
       "├─Sequential: 1-1                        [64, 1, 4201]             [64, 256, 1]              --\n",
       "│    └─Conv1d: 2-1                       [64, 1, 4201]             [64, 64, 4201]            512\n",
       "│    └─BatchNorm1d: 2-2                  [64, 64, 4201]            [64, 64, 4201]            128\n",
       "│    └─ReLU: 2-3                         [64, 64, 4201]            [64, 64, 4201]            --\n",
       "│    └─MaxPool1d: 2-4                    [64, 64, 4201]            [64, 64, 2100]            --\n",
       "│    └─Conv1d: 2-5                       [64, 64, 2100]            [64, 128, 2100]           41,088\n",
       "│    └─BatchNorm1d: 2-6                  [64, 128, 2100]           [64, 128, 2100]           256\n",
       "│    └─ReLU: 2-7                         [64, 128, 2100]           [64, 128, 2100]           --\n",
       "│    └─MaxPool1d: 2-8                    [64, 128, 2100]           [64, 128, 1050]           --\n",
       "│    └─Conv1d: 2-9                       [64, 128, 1050]           [64, 256, 1050]           98,560\n",
       "│    └─BatchNorm1d: 2-10                 [64, 256, 1050]           [64, 256, 1050]           512\n",
       "│    └─ReLU: 2-11                        [64, 256, 1050]           [64, 256, 1050]           --\n",
       "│    └─AdaptiveAvgPool1d: 2-12           [64, 256, 1050]           [64, 256, 1]              --\n",
       "├─RNN: 1-2                               [64, 1, 256]              [64, 1, 128]              82,432\n",
       "├─Sequential: 1-3                        [64, 128]                 [64, 2]                   --\n",
       "│    └─Linear: 2-13                      [64, 128]                 [64, 64]                  8,256\n",
       "│    └─ReLU: 2-14                        [64, 64]                  [64, 64]                  --\n",
       "│    └─Dropout: 2-15                     [64, 64]                  [64, 64]                  --\n",
       "│    └─Linear: 2-16                      [64, 64]                  [64, 2]                   130\n",
       "│    └─Sigmoid: 2-17                     [64, 2]                   [64, 2]                   --\n",
       "===================================================================================================================\n",
       "Total params: 231,874\n",
       "Trainable params: 231,874\n",
       "Non-trainable params: 0\n",
       "Total mult-adds (Units.GIGABYTES): 12.29\n",
       "===================================================================================================================\n",
       "Input size (MB): 1.08\n",
       "Forward/backward pass size (MB): 825.92\n",
       "Params size (MB): 0.93\n",
       "Estimated Total Size (MB): 827.92\n",
       "==================================================================================================================="
      ]
     },
     "execution_count": 42,
     "metadata": {},
     "output_type": "execute_result"
    }
   ],
   "execution_count": 42
  },
  {
   "cell_type": "code",
   "id": "bda7008c",
   "metadata": {
    "ExecuteTime": {
     "end_time": "2025-05-12T11:15:18.103742Z",
     "start_time": "2025-05-12T11:15:16.970853Z"
    }
   },
   "source": [
    "criterion = nn.CrossEntropyLoss()\n",
    "optimizer = torch.optim.Adam(model.parameters(), lr=learning_rate)"
   ],
   "outputs": [],
   "execution_count": 43
  },
  {
   "cell_type": "code",
   "id": "e0353ecc",
   "metadata": {
    "ExecuteTime": {
     "end_time": "2025-05-12T11:15:52.277400Z",
     "start_time": "2025-05-12T11:15:28.127210Z"
    }
   },
   "source": [
    "rnn_model, rnn_history = train_model(model, train_loader, criterion, optimizer, num_epochs, device)"
   ],
   "outputs": [
    {
     "name": "stdout",
     "output_type": "stream",
     "text": [
      "Epoch   | Train Loss   | Train Acc  | Improvement\n",
      "--------------------------------------------------\n",
      "  1/50  |     0.6498 |    89.21% | ✓\n",
      "  2/50  |     0.4911 |    96.14% | ✓\n",
      "  3/50  |     0.3668 |    97.20% | ✓\n",
      "  4/50  |     0.3345 |    98.27% | ✓\n",
      "  5/50  |     0.3378 |    97.74% | \n",
      "  6/50  |     0.3253 |    98.80% | ✓\n",
      "  7/50  |     0.3297 |    98.54% | \n",
      "  8/50  |     0.3294 |    98.54% | \n",
      "  9/50  |     0.3276 |    98.54% | \n",
      " 10/50  |     0.3315 |    98.14% | \n",
      " 11/50  |     0.3282 |    98.27% | \n",
      " 12/50  |     0.3287 |    98.54% | \n",
      " 13/50  |     0.3242 |    99.20% | ✓\n",
      " 14/50  |     0.3270 |    98.80% | \n",
      " 15/50  |     0.3276 |    98.54% | \n",
      " 16/50  |     0.3322 |    98.00% | \n",
      " 17/50  |     0.3228 |    99.07% | \n",
      " 18/50  |     0.3252 |    98.67% | \n",
      " 19/50  |     0.3237 |    98.93% | \n",
      " 20/50  |     0.3204 |    99.33% | ✓\n",
      " 21/50  |     0.3214 |    99.20% | \n",
      " 22/50  |     0.3251 |    98.80% | \n",
      " 23/50  |     0.3264 |    98.54% | \n",
      " 24/50  |     0.3236 |    99.07% | \n",
      " 25/50  |     0.3287 |    98.54% | \n",
      " 26/50  |     0.3233 |    98.93% | \n",
      " 27/50  |     0.3213 |    99.20% | \n",
      " 28/50  |     0.3205 |    99.47% | ✓\n",
      " 29/50  |     0.3203 |    99.20% | \n",
      " 30/50  |     0.3271 |    98.54% | \n",
      " 31/50  |     0.3249 |    98.80% | \n",
      " 32/50  |     0.3217 |    99.07% | \n",
      " 33/50  |     0.3185 |    99.47% | \n",
      " 34/50  |     0.3274 |    98.67% | \n",
      " 35/50  |     0.3194 |    99.47% | \n",
      " 36/50  |     0.3239 |    98.93% | \n",
      " 37/50  |     0.3216 |    99.20% | \n",
      " 38/50  |     0.3240 |    98.93% | \n",
      " 39/50  |     0.3212 |    99.20% | \n",
      " 40/50  |     0.3232 |    99.07% | \n",
      " 41/50  |     0.3215 |    99.07% | \n",
      " 42/50  |     0.3198 |    99.33% | \n",
      " 43/50  |     0.3241 |    98.80% | \n",
      " 44/50  |     0.3205 |    99.20% | \n",
      " 45/50  |     0.3209 |    99.20% | \n",
      " 46/50  |     0.3174 |    99.60% | ✓\n",
      " 47/50  |     0.3205 |    99.20% | \n",
      " 48/50  |     0.3252 |    98.67% | \n",
      " 49/50  |     0.3179 |    99.60% | \n",
      " 50/50  |     0.3185 |    99.47% | \n",
      "\n",
      "Training complete! Best accuracy: 99.60%\n"
     ]
    }
   ],
   "execution_count": 44
  },
  {
   "cell_type": "code",
   "id": "10e376fc",
   "metadata": {
    "ExecuteTime": {
     "end_time": "2025-05-12T11:16:02.288943Z",
     "start_time": "2025-05-12T11:16:02.043993Z"
    }
   },
   "source": [
    "plot_training_history(rnn_history)"
   ],
   "outputs": [
    {
     "data": {
      "text/plain": [
       "<Figure size 1200x400 with 2 Axes>"
      ],
      "image/png": "[encoded data removed]"
     },
     "metadata": {},
     "output_type": "display_data"
    }
   ],
   "execution_count": 45
  },
  {
   "cell_type": "code",
   "id": "c68baf85",
   "metadata": {
    "ExecuteTime": {
     "end_time": "2025-05-12T11:16:12.446212Z",
     "start_time": "2025-05-12T11:16:11.979226Z"
    }
   },
   "source": [
    "rnn_metrics = evaluate_model(rnn_model, test_loader, device, class_names)"
   ],
   "outputs": [
    {
     "name": "stdout",
     "output_type": "stream",
     "text": [
      "\n",
      "============= Test Results =============\n",
      "Overall Accuracy: 99.20%\n",
      "\n",
      "Classification Report:\n",
      "              precision    recall  f1-score   support\n",
      "\n",
      "           0     0.9921    0.9921    0.9921       381\n",
      "           1     0.9919    0.9919    0.9919       370\n",
      "\n",
      "    accuracy                         0.9920       751\n",
      "   macro avg     0.9920    0.9920    0.9920       751\n",
      "weighted avg     0.9920    0.9920    0.9920       751\n",
      "\n"
     ]
    },
    {
     "data": {
      "text/plain": [
       "<Figure size 1000x800 with 1 Axes>"
      ],
      "image/png": "[encoded data removed]"
     },
     "metadata": {},
     "output_type": "display_data"
    }
   ],
   "execution_count": 46
  },
  {
   "cell_type": "markdown",
   "id": "7df45b45",
   "metadata": {},
   "source": [
    "### GRU"
   ]
  },
  {
   "metadata": {
    "ExecuteTime": {
     "end_time": "2025-05-12T11:16:32.966973Z",
     "start_time": "2025-05-12T11:16:32.960549Z"
    }
   },
   "cell_type": "code",
   "source": [
    "class GRUModel(nn.Module):\n",
    "    def __init__(self, input_size=1, hidden_size=256, num_layers=2, num_classes=2, dropout=0.3):\n",
    "        super(GRUModel, self).__init__()\n",
    "\n",
    "        # Save parameters as instance attributes\n",
    "        self.hidden_size = hidden_size\n",
    "        self.num_layers = num_layers\n",
    "\n",
    "        # 1. CNN Feature Extractor\n",
    "        self.cnn = nn.Sequential(\n",
    "            nn.Conv1d(input_size, 64, kernel_size=7, padding=3),\n",
    "            nn.BatchNorm1d(64),\n",
    "            nn.ReLU(),\n",
    "            nn.MaxPool1d(2),\n",
    "\n",
    "            nn.Conv1d(64, 128, kernel_size=5, padding=2),\n",
    "            nn.BatchNorm1d(128),\n",
    "            nn.ReLU(),\n",
    "            nn.MaxPool1d(2),\n",
    "\n",
    "            nn.Conv1d(128, hidden_size, kernel_size=3, padding=1),\n",
    "            nn.BatchNorm1d(hidden_size),\n",
    "            nn.ReLU(),\n",
    "            nn.AdaptiveAvgPool1d(1)\n",
    "        )\n",
    "\n",
    "        # 2. GRU Temporal Processor\n",
    "        self.gru = nn.GRU(\n",
    "            input_size=hidden_size,\n",
    "            hidden_size=hidden_size,\n",
    "            num_layers=num_layers,\n",
    "            batch_first=True,\n",
    "            dropout=dropout if num_layers > 1 else 0,\n",
    "        )\n",
    "\n",
    "        # 3. Enhanced Classifier with ReLU and Sigmoid\n",
    "        self.classifier = nn.Sequential(\n",
    "            nn.Dropout(dropout),\n",
    "            nn.Linear(hidden_size, hidden_size // 2),\n",
    "            nn.BatchNorm1d(hidden_size // 2),\n",
    "            nn.ReLU(),\n",
    "\n",
    "            nn.Linear(hidden_size // 2, num_classes),\n",
    "            nn.Sigmoid()\n",
    "        )\n",
    "\n",
    "    def forward(self, x):\n",
    "        # 1. CNN Feature Extraction\n",
    "        cnn_features = self.cnn(x)\n",
    "        cnn_features = cnn_features.squeeze(-1)  # Remove length dimension\n",
    "\n",
    "        # 2. Prepare for GRU (add sequence dimension back)\n",
    "        gru_input = cnn_features.unsqueeze(1)  # [batch, 1, hidden_size]\n",
    "\n",
    "        # 3. GRU Processing\n",
    "        h0 = torch.zeros(self.num_layers, x.size(0), self.hidden_size).to(x.device)\n",
    "        gru_out, _ = self.gru(gru_input, h0)\n",
    "        gru_out = gru_out[:, -1, :]  # Last timestep\n",
    "\n",
    "        # 4. Classification\n",
    "        logits = self.classifier(gru_out)\n",
    "        return logits"
   ],
   "id": "f59364b2b7fb4ccd",
   "outputs": [],
   "execution_count": 47
  },
  {
   "metadata": {
    "ExecuteTime": {
     "end_time": "2025-05-12T11:16:33.194611Z",
     "start_time": "2025-05-12T11:16:32.974257Z"
    }
   },
   "cell_type": "code",
   "source": [
    "model = GRUModel(input_size, hidden_size, num_layers, num_classes, dropout).to(device)\n",
    "torchinfo.summary(model, input_size=(batch_size, input_size, X_train.shape[1]),\n",
    "                  col_names=[\"input_size\", \"output_size\", \"num_params\"])"
   ],
   "id": "59cb2a365f520309",
   "outputs": [
    {
     "data": {
      "text/plain": [
       "===================================================================================================================\n",
       "Layer (type:depth-idx)                   Input Shape               Output Shape              Param #\n",
       "===================================================================================================================\n",
       "GRUModel                                 [64, 1, 4201]             [64, 2]                   --\n",
       "├─Sequential: 1-1                        [64, 1, 4201]             [64, 64, 1]               --\n",
       "│    └─Conv1d: 2-1                       [64, 1, 4201]             [64, 64, 4201]            512\n",
       "│    └─BatchNorm1d: 2-2                  [64, 64, 4201]            [64, 64, 4201]            128\n",
       "│    └─ReLU: 2-3                         [64, 64, 4201]            [64, 64, 4201]            --\n",
       "│    └─MaxPool1d: 2-4                    [64, 64, 4201]            [64, 64, 2100]            --\n",
       "│    └─Conv1d: 2-5                       [64, 64, 2100]            [64, 128, 2100]           41,088\n",
       "│    └─BatchNorm1d: 2-6                  [64, 128, 2100]           [64, 128, 2100]           256\n",
       "│    └─ReLU: 2-7                         [64, 128, 2100]           [64, 128, 2100]           --\n",
       "│    └─MaxPool1d: 2-8                    [64, 128, 2100]           [64, 128, 1050]           --\n",
       "│    └─Conv1d: 2-9                       [64, 128, 1050]           [64, 64, 1050]            24,640\n",
       "│    └─BatchNorm1d: 2-10                 [64, 64, 1050]            [64, 64, 1050]            128\n",
       "│    └─ReLU: 2-11                        [64, 64, 1050]            [64, 64, 1050]            --\n",
       "│    └─AdaptiveAvgPool1d: 2-12           [64, 64, 1050]            [64, 64, 1]               --\n",
       "├─GRU: 1-2                               [64, 1, 64]               [64, 1, 64]               74,880\n",
       "├─Sequential: 1-3                        [64, 64]                  [64, 2]                   --\n",
       "│    └─Dropout: 2-13                     [64, 64]                  [64, 64]                  --\n",
       "│    └─Linear: 2-14                      [64, 64]                  [64, 32]                  2,080\n",
       "│    └─BatchNorm1d: 2-15                 [64, 32]                  [64, 32]                  64\n",
       "│    └─ReLU: 2-16                        [64, 32]                  [64, 32]                  --\n",
       "│    └─Linear: 2-17                      [64, 32]                  [64, 2]                   66\n",
       "│    └─Sigmoid: 2-18                     [64, 2]                   [64, 2]                   --\n",
       "===================================================================================================================\n",
       "Total params: 143,842\n",
       "Trainable params: 143,842\n",
       "Non-trainable params: 0\n",
       "Total mult-adds (Units.GIGABYTES): 7.32\n",
       "===================================================================================================================\n",
       "Input size (MB): 1.08\n",
       "Forward/backward pass size (MB): 619.45\n",
       "Params size (MB): 0.58\n",
       "Estimated Total Size (MB): 621.10\n",
       "==================================================================================================================="
      ]
     },
     "execution_count": 48,
     "metadata": {},
     "output_type": "execute_result"
    }
   ],
   "execution_count": 48
  },
  {
   "metadata": {
    "ExecuteTime": {
     "end_time": "2025-05-12T11:16:43.873298Z",
     "start_time": "2025-05-12T11:16:43.868485Z"
    }
   },
   "cell_type": "code",
   "source": [
    "criterion = nn.CrossEntropyLoss()\n",
    "optimizer = torch.optim.Adam(model.parameters(), lr=learning_rate)"
   ],
   "id": "b7aaa7c3c82431d8",
   "outputs": [],
   "execution_count": 49
  },
  {
   "metadata": {
    "ExecuteTime": {
     "end_time": "2025-05-12T11:17:23.068216Z",
     "start_time": "2025-05-12T11:17:04.154043Z"
    }
   },
   "cell_type": "code",
   "source": "gru_model, gru_history = train_model(model, train_loader, criterion, optimizer, num_epochs, device)",
   "id": "44f076f2bd644885",
   "outputs": [
    {
     "name": "stdout",
     "output_type": "stream",
     "text": [
      "Epoch   | Train Loss   | Train Acc  | Improvement\n",
      "--------------------------------------------------\n",
      "  1/50  |     0.6653 |    66.98% | ✓\n",
      "  2/50  |     0.5918 |    89.21% | ✓\n",
      "  3/50  |     0.5297 |    95.87% | ✓\n",
      "  4/50  |     0.4914 |    96.54% | ✓\n",
      "  5/50  |     0.4562 |    97.07% | ✓\n",
      "  6/50  |     0.4312 |    98.00% | ✓\n",
      "  7/50  |     0.4126 |    98.54% | ✓\n",
      "  8/50  |     0.3956 |    98.67% | ✓\n",
      "  9/50  |     0.3826 |    98.80% | ✓\n",
      " 10/50  |     0.3729 |    98.80% | \n",
      " 11/50  |     0.3665 |    98.54% | \n",
      " 12/50  |     0.3581 |    98.93% | ✓\n",
      " 13/50  |     0.3603 |    98.14% | \n",
      " 14/50  |     0.3517 |    98.93% | \n",
      " 15/50  |     0.3501 |    98.67% | \n",
      " 16/50  |     0.3455 |    98.67% | \n",
      " 17/50  |     0.3415 |    99.07% | ✓\n",
      " 18/50  |     0.3375 |    99.20% | ✓\n",
      " 19/50  |     0.3403 |    98.80% | \n",
      " 20/50  |     0.3382 |    98.80% | \n",
      " 21/50  |     0.3446 |    97.87% | \n",
      " 22/50  |     0.3361 |    98.93% | \n",
      " 23/50  |     0.3324 |    99.47% | ✓\n",
      " 24/50  |     0.3345 |    98.93% | \n",
      " 25/50  |     0.3329 |    98.93% | \n",
      " 26/50  |     0.3277 |    99.60% | ✓\n",
      " 27/50  |     0.3299 |    99.33% | \n",
      " 28/50  |     0.3349 |    98.54% | \n",
      " 29/50  |     0.3276 |    99.20% | \n",
      " 30/50  |     0.3285 |    99.20% | \n",
      " 31/50  |     0.3244 |    99.60% | \n",
      " 32/50  |     0.3241 |    99.60% | \n",
      " 33/50  |     0.3225 |    99.73% | ✓\n",
      " 34/50  |     0.3229 |    99.47% | \n",
      " 35/50  |     0.3290 |    98.80% | \n",
      " 36/50  |     0.3264 |    98.93% | \n",
      " 37/50  |     0.3284 |    99.07% | \n",
      " 38/50  |     0.3241 |    99.33% | \n",
      " 39/50  |     0.3268 |    99.07% | \n",
      " 40/50  |     0.3257 |    99.20% | \n",
      " 41/50  |     0.3212 |    99.60% | \n",
      " 42/50  |     0.3215 |    99.47% | \n",
      " 43/50  |     0.3202 |    99.73% | \n",
      " 44/50  |     0.3246 |    99.07% | \n",
      " 45/50  |     0.3289 |    98.67% | \n",
      " 46/50  |     0.3230 |    99.47% | \n",
      " 47/50  |     0.3224 |    99.20% | \n",
      " 48/50  |     0.3244 |    99.33% | \n",
      " 49/50  |     0.3206 |    99.47% | \n",
      " 50/50  |     0.3234 |    99.20% | \n",
      "\n",
      "Training complete! Best accuracy: 99.73%\n"
     ]
    }
   ],
   "execution_count": 50
  },
  {
   "metadata": {
    "ExecuteTime": {
     "end_time": "2025-05-12T11:17:23.331091Z",
     "start_time": "2025-05-12T11:17:23.074967Z"
    }
   },
   "cell_type": "code",
   "source": "plot_training_history(gru_history)",
   "id": "7df28bd8487a2fb7",
   "outputs": [
    {
     "data": {
      "text/plain": [
       "<Figure size 1200x400 with 2 Axes>"
      ],
      "image/png": "[encoded data removed]"
     },
     "metadata": {},
     "output_type": "display_data"
    }
   ],
   "execution_count": 51
  },
  {
   "metadata": {
    "ExecuteTime": {
     "end_time": "2025-05-12T11:21:39.259621Z",
     "start_time": "2025-05-12T11:21:38.816778Z"
    }
   },
   "cell_type": "code",
   "source": "gru_metrics = evaluate_model(gru_model, test_loader, device, class_names)",
   "id": "ae9c2a4ccd2ca1b",
   "outputs": [
    {
     "name": "stdout",
     "output_type": "stream",
     "text": [
      "\n",
      "============= Test Results =============\n",
      "Overall Accuracy: 98.40%\n",
      "\n",
      "Classification Report:\n",
      "              precision    recall  f1-score   support\n",
      "\n",
      "           0     0.9719    0.9974    0.9845       381\n",
      "           1     0.9972    0.9703    0.9836       370\n",
      "\n",
      "    accuracy                         0.9840       751\n",
      "   macro avg     0.9845    0.9838    0.9840       751\n",
      "weighted avg     0.9844    0.9840    0.9840       751\n",
      "\n"
     ]
    },
    {
     "data": {
      "text/plain": [
       "<Figure size 1000x800 with 1 Axes>"
      ],
      "image/png": "[encoded data removed]"
     },
     "metadata": {},
     "output_type": "display_data"
    }
   ],
   "execution_count": 73
  },
  {
   "metadata": {},
   "cell_type": "markdown",
   "source": "### LSTM",
   "id": "13229eab2b97d8d1"
  },
  {
   "metadata": {
    "ExecuteTime": {
     "end_time": "2025-05-12T11:17:33.304283Z",
     "start_time": "2025-05-12T11:17:33.296979Z"
    }
   },
   "cell_type": "code",
   "source": [
    "class LSTMModel(nn.Module):\n",
    "    def __init__(self, input_size=1, hidden_size=256, num_layers=2, num_classes=2, dropout=0.3):\n",
    "        super(LSTMModel, self).__init__()\n",
    "\n",
    "        # Save parameters as instance attributes\n",
    "        self.hidden_size = hidden_size\n",
    "        self.num_layers = num_layers\n",
    "\n",
    "        # 1. CNN Feature Extractor\n",
    "        self.cnn = nn.Sequential(\n",
    "            nn.Conv1d(input_size, 64, kernel_size=7, padding=3),\n",
    "            nn.BatchNorm1d(64),\n",
    "            nn.ReLU(),\n",
    "            nn.MaxPool1d(2),\n",
    "\n",
    "            nn.Conv1d(64, 128, kernel_size=5, padding=2),\n",
    "            nn.BatchNorm1d(128),\n",
    "            nn.ReLU(),\n",
    "            nn.MaxPool1d(2),\n",
    "\n",
    "            nn.Conv1d(128, hidden_size, kernel_size=3, padding=1),\n",
    "            nn.BatchNorm1d(hidden_size),\n",
    "            nn.ReLU(),\n",
    "            nn.AdaptiveAvgPool1d(1)\n",
    "        )\n",
    "\n",
    "        # 2. LSTM Processor\n",
    "        self.lstm = nn.LSTM(\n",
    "            input_size=hidden_size,\n",
    "            hidden_size=hidden_size,\n",
    "            num_layers=num_layers,\n",
    "            batch_first=True,\n",
    "            dropout=dropout if num_layers > 1 else 0,\n",
    "        )\n",
    "\n",
    "        # 3. Enhanced Classifier with ReLU and Sigmoid\n",
    "        self.classifier = nn.Sequential(\n",
    "            nn.Dropout(dropout),\n",
    "            nn.Linear(hidden_size, hidden_size // 2),\n",
    "            nn.BatchNorm1d(hidden_size // 2),\n",
    "            nn.ReLU(),\n",
    "            nn.Linear(hidden_size // 2, num_classes),\n",
    "            nn.Sigmoid()  # Added Sigmoid activation\n",
    "        )\n",
    "\n",
    "    def forward(self, x):\n",
    "        # 1. CNN Feature Extraction\n",
    "        cnn_features = self.cnn(x)\n",
    "        cnn_features = cnn_features.squeeze(-1)  # Remove length dimension\n",
    "\n",
    "        # 2. Prepare for LSTM (add sequence dimension back)\n",
    "        lstm_input = cnn_features.unsqueeze(1)  # [batch, 1, hidden_size]\n",
    "\n",
    "        # 3. LSTM Processing\n",
    "        h0 = torch.zeros(self.num_layers, x.size(0), self.hidden_size).to(x.device)\n",
    "        c0 = torch.zeros(self.num_layers, x.size(0), self.hidden_size).to(x.device)\n",
    "        lstm_out, _ = self.lstm(lstm_input, (h0, c0))\n",
    "        lstm_out = lstm_out[:, -1, :]  # Last timestep\n",
    "\n",
    "        # 4. Classification\n",
    "        logits = self.classifier(lstm_out)\n",
    "        return logits"
   ],
   "id": "2015fc6653097c28",
   "outputs": [],
   "execution_count": 52
  },
  {
   "metadata": {
    "ExecuteTime": {
     "end_time": "2025-05-12T11:17:43.487034Z",
     "start_time": "2025-05-12T11:17:43.286055Z"
    }
   },
   "cell_type": "code",
   "source": [
    "model = LSTMModel(input_size, hidden_size, num_layers, num_classes, dropout).to(device)\n",
    "torchinfo.summary(model, input_size=(batch_size, input_size, X_train.shape[1]),\n",
    "                  col_names=[\"input_size\", \"output_size\", \"num_params\"])"
   ],
   "id": "9515a07dcfe12652",
   "outputs": [
    {
     "data": {
      "text/plain": [
       "===================================================================================================================\n",
       "Layer (type:depth-idx)                   Input Shape               Output Shape              Param #\n",
       "===================================================================================================================\n",
       "LSTMModel                                [64, 1, 4201]             [64, 2]                   --\n",
       "├─Sequential: 1-1                        [64, 1, 4201]             [64, 64, 1]               --\n",
       "│    └─Conv1d: 2-1                       [64, 1, 4201]             [64, 64, 4201]            512\n",
       "│    └─BatchNorm1d: 2-2                  [64, 64, 4201]            [64, 64, 4201]            128\n",
       "│    └─ReLU: 2-3                         [64, 64, 4201]            [64, 64, 4201]            --\n",
       "│    └─MaxPool1d: 2-4                    [64, 64, 4201]            [64, 64, 2100]            --\n",
       "│    └─Conv1d: 2-5                       [64, 64, 2100]            [64, 128, 2100]           41,088\n",
       "│    └─BatchNorm1d: 2-6                  [64, 128, 2100]           [64, 128, 2100]           256\n",
       "│    └─ReLU: 2-7                         [64, 128, 2100]           [64, 128, 2100]           --\n",
       "│    └─MaxPool1d: 2-8                    [64, 128, 2100]           [64, 128, 1050]           --\n",
       "│    └─Conv1d: 2-9                       [64, 128, 1050]           [64, 64, 1050]            24,640\n",
       "│    └─BatchNorm1d: 2-10                 [64, 64, 1050]            [64, 64, 1050]            128\n",
       "│    └─ReLU: 2-11                        [64, 64, 1050]            [64, 64, 1050]            --\n",
       "│    └─AdaptiveAvgPool1d: 2-12           [64, 64, 1050]            [64, 64, 1]               --\n",
       "├─LSTM: 1-2                              [64, 1, 64]               [64, 1, 64]               99,840\n",
       "├─Sequential: 1-3                        [64, 64]                  [64, 2]                   --\n",
       "│    └─Dropout: 2-13                     [64, 64]                  [64, 64]                  --\n",
       "│    └─Linear: 2-14                      [64, 64]                  [64, 32]                  2,080\n",
       "│    └─BatchNorm1d: 2-15                 [64, 32]                  [64, 32]                  64\n",
       "│    └─ReLU: 2-16                        [64, 32]                  [64, 32]                  --\n",
       "│    └─Linear: 2-17                      [64, 32]                  [64, 2]                   66\n",
       "│    └─Sigmoid: 2-18                     [64, 2]                   [64, 2]                   --\n",
       "===================================================================================================================\n",
       "Total params: 168,802\n",
       "Trainable params: 168,802\n",
       "Non-trainable params: 0\n",
       "Total mult-adds (Units.GIGABYTES): 7.32\n",
       "===================================================================================================================\n",
       "Input size (MB): 1.08\n",
       "Forward/backward pass size (MB): 619.45\n",
       "Params size (MB): 0.68\n",
       "Estimated Total Size (MB): 621.20\n",
       "==================================================================================================================="
      ]
     },
     "execution_count": 53,
     "metadata": {},
     "output_type": "execute_result"
    }
   ],
   "execution_count": 53
  },
  {
   "metadata": {
    "ExecuteTime": {
     "end_time": "2025-05-12T11:17:53.054492Z",
     "start_time": "2025-05-12T11:17:53.051290Z"
    }
   },
   "cell_type": "code",
   "source": [
    "criterion = nn.CrossEntropyLoss()\n",
    "optimizer = torch.optim.Adam(model.parameters(), lr=learning_rate)"
   ],
   "id": "f87a7e0d4680e907",
   "outputs": [],
   "execution_count": 54
  },
  {
   "metadata": {
    "ExecuteTime": {
     "end_time": "2025-05-12T11:18:31.000804Z",
     "start_time": "2025-05-12T11:18:12.038666Z"
    }
   },
   "cell_type": "code",
   "source": "lstm_model, lstm_history = train_model(model, train_loader, criterion, optimizer, num_epochs, device)",
   "id": "91257f1847722c43",
   "outputs": [
    {
     "name": "stdout",
     "output_type": "stream",
     "text": [
      "Epoch   | Train Loss   | Train Acc  | Improvement\n",
      "--------------------------------------------------\n",
      "  1/50  |     0.6867 |    56.86% | ✓\n",
      "  2/50  |     0.6436 |    77.10% | ✓\n",
      "  3/50  |     0.5580 |    93.21% | ✓\n",
      "  4/50  |     0.5046 |    96.01% | ✓\n",
      "  5/50  |     0.4626 |    97.47% | ✓\n",
      "  6/50  |     0.4358 |    97.60% | ✓\n",
      "  7/50  |     0.4150 |    97.74% | ✓\n",
      "  8/50  |     0.3944 |    98.40% | ✓\n",
      "  9/50  |     0.3832 |    98.93% | ✓\n",
      " 10/50  |     0.3742 |    98.27% | \n",
      " 11/50  |     0.3676 |    98.40% | \n",
      " 12/50  |     0.3650 |    98.14% | \n",
      " 13/50  |     0.3551 |    98.54% | \n",
      " 14/50  |     0.3526 |    98.80% | \n",
      " 15/50  |     0.3519 |    98.40% | \n",
      " 16/50  |     0.3463 |    98.80% | \n",
      " 17/50  |     0.3408 |    99.20% | ✓\n",
      " 18/50  |     0.3449 |    98.40% | \n",
      " 19/50  |     0.3423 |    98.40% | \n",
      " 20/50  |     0.3375 |    98.93% | \n",
      " 21/50  |     0.3329 |    99.47% | ✓\n",
      " 22/50  |     0.3363 |    98.93% | \n",
      " 23/50  |     0.3330 |    98.93% | \n",
      " 24/50  |     0.3297 |    99.33% | \n",
      " 25/50  |     0.3278 |    99.47% | \n",
      " 26/50  |     0.3283 |    99.47% | \n",
      " 27/50  |     0.3322 |    98.93% | \n",
      " 28/50  |     0.3285 |    99.33% | \n",
      " 29/50  |     0.3257 |    99.47% | \n",
      " 30/50  |     0.3340 |    98.54% | \n",
      " 31/50  |     0.3267 |    99.47% | \n",
      " 32/50  |     0.3279 |    99.33% | \n",
      " 33/50  |     0.3253 |    99.47% | \n",
      " 34/50  |     0.3275 |    98.93% | \n",
      " 35/50  |     0.3260 |    98.93% | \n",
      " 36/50  |     0.3241 |    99.60% | ✓\n",
      " 37/50  |     0.3247 |    99.33% | \n",
      " 38/50  |     0.3234 |    99.47% | \n",
      " 39/50  |     0.3228 |    99.47% | \n",
      " 40/50  |     0.3198 |    99.73% | ✓\n",
      " 41/50  |     0.3239 |    99.47% | \n",
      " 42/50  |     0.3219 |    99.60% | \n",
      " 43/50  |     0.3237 |    99.20% | \n",
      " 44/50  |     0.3227 |    99.33% | \n",
      " 45/50  |     0.3218 |    99.47% | \n",
      " 46/50  |     0.3195 |    99.60% | \n",
      " 47/50  |     0.3190 |    99.87% | ✓\n",
      " 48/50  |     0.3215 |    99.33% | \n",
      " 49/50  |     0.3341 |    98.00% | \n",
      " 50/50  |     0.3239 |    99.33% | \n",
      "\n",
      "Training complete! Best accuracy: 99.87%\n"
     ]
    }
   ],
   "execution_count": 55
  },
  {
   "metadata": {
    "ExecuteTime": {
     "end_time": "2025-05-12T11:18:31.242Z",
     "start_time": "2025-05-12T11:18:31.004429Z"
    }
   },
   "cell_type": "code",
   "source": "plot_training_history(lstm_history)",
   "id": "351c3be9d8b59bcc",
   "outputs": [
    {
     "data": {
      "text/plain": [
       "<Figure size 1200x400 with 2 Axes>"
      ],
      "image/png": "[encoded data removed]"
     },
     "metadata": {},
     "output_type": "display_data"
    }
   ],
   "execution_count": 56
  },
  {
   "metadata": {
    "ExecuteTime": {
     "end_time": "2025-05-12T11:18:40.700401Z",
     "start_time": "2025-05-12T11:18:40.201179Z"
    }
   },
   "cell_type": "code",
   "source": "lstm_metrics = evaluate_model(lstm_model, test_loader, device, class_names)",
   "id": "74197696520bce60",
   "outputs": [
    {
     "name": "stdout",
     "output_type": "stream",
     "text": [
      "\n",
      "============= Test Results =============\n",
      "Overall Accuracy: 97.87%\n",
      "\n",
      "Classification Report:\n",
      "              precision    recall  f1-score   support\n",
      "\n",
      "           0     0.9973    0.9606    0.9786       381\n",
      "           1     0.9609    0.9973    0.9788       370\n",
      "\n",
      "    accuracy                         0.9787       751\n",
      "   macro avg     0.9791    0.9790    0.9787       751\n",
      "weighted avg     0.9794    0.9787    0.9787       751\n",
      "\n"
     ]
    },
    {
     "data": {
      "text/plain": [
       "<Figure size 1000x800 with 1 Axes>"
      ],
      "image/png": "[encoded data removed]"
     },
     "metadata": {},
     "output_type": "display_data"
    }
   ],
   "execution_count": 57
  },
  {
   "metadata": {},
   "cell_type": "markdown",
   "source": "### Biderectional LSTM",
   "id": "7b44f73b177db082"
  },
  {
   "metadata": {
    "ExecuteTime": {
     "end_time": "2025-05-12T11:18:58.688187Z",
     "start_time": "2025-05-12T11:18:58.681066Z"
    }
   },
   "cell_type": "code",
   "source": [
    "class BidirectionalLSTMModel(nn.Module):\n",
    "    def __init__(self, input_size=1, hidden_size=256, num_layers=2, num_classes=2, dropout=0.3):\n",
    "        super(BidirectionalLSTMModel, self).__init__()\n",
    "\n",
    "        # Save parameters as instance attributes\n",
    "        self.hidden_size = hidden_size\n",
    "        self.num_layers = num_layers\n",
    "\n",
    "        # 1. CNN Feature Extractor\n",
    "        self.cnn = nn.Sequential(\n",
    "            nn.Conv1d(input_size, 64, kernel_size=7, padding=3),\n",
    "            nn.BatchNorm1d(64),\n",
    "            nn.ReLU(),\n",
    "            nn.MaxPool1d(2),\n",
    "\n",
    "            nn.Conv1d(64, 128, kernel_size=5, padding=2),\n",
    "            nn.BatchNorm1d(128),\n",
    "            nn.ReLU(),\n",
    "            nn.MaxPool1d(2),\n",
    "\n",
    "            nn.Conv1d(128, hidden_size, kernel_size=3, padding=1),\n",
    "            nn.BatchNorm1d(hidden_size),\n",
    "            nn.ReLU(),\n",
    "            nn.AdaptiveAvgPool1d(1)\n",
    "        )\n",
    "\n",
    "        # 2. Bidirectional LSTM Processor\n",
    "        self.lstm = nn.LSTM(\n",
    "            input_size=hidden_size,\n",
    "            hidden_size=hidden_size,\n",
    "            num_layers=num_layers,\n",
    "            batch_first=True,\n",
    "            dropout=dropout if num_layers > 1 else 0,\n",
    "            bidirectional=True\n",
    "        )\n",
    "\n",
    "        # 3. Enhanced Classifier with ReLU and Sigmoid\n",
    "        self.classifier = nn.Sequential(\n",
    "            nn.Dropout(dropout),\n",
    "            nn.Linear(hidden_size * 2, hidden_size // 2),  # Multiply by 2 for bidirectional\n",
    "            nn.BatchNorm1d(hidden_size // 2),\n",
    "            nn.ReLU(),\n",
    "            nn.Linear(hidden_size // 2, num_classes),\n",
    "            nn.Sigmoid()  # Added Sigmoid activation like other models\n",
    "        )\n",
    "\n",
    "    def forward(self, x):\n",
    "        # 1. CNN Feature Extraction\n",
    "        cnn_features = self.cnn(x)\n",
    "        cnn_features = cnn_features.squeeze(-1)  # Remove length dimension\n",
    "\n",
    "        # 2. Prepare for LSTM (add sequence dimension back)\n",
    "        lstm_input = cnn_features.unsqueeze(1)  # [batch, 1, hidden_size]\n",
    "\n",
    "        # 3. LSTM Processing\n",
    "        h0 = torch.zeros(self.num_layers * 2, x.size(0), self.hidden_size).to(x.device)\n",
    "        c0 = torch.zeros(self.num_layers * 2, x.size(0), self.hidden_size).to(x.device)\n",
    "        lstm_out, _ = self.lstm(lstm_input, (h0, c0))\n",
    "        lstm_out = lstm_out[:, -1, :]  # Last timestep\n",
    "\n",
    "        # 4. Classification\n",
    "        logits = self.classifier(lstm_out)\n",
    "        return logits"
   ],
   "id": "41ace1e85c1563fb",
   "outputs": [],
   "execution_count": 58
  },
  {
   "metadata": {
    "ExecuteTime": {
     "end_time": "2025-05-12T11:18:59.046635Z",
     "start_time": "2025-05-12T11:18:58.698747Z"
    }
   },
   "cell_type": "code",
   "source": [
    "model = BidirectionalLSTMModel(input_size, hidden_size, num_layers, num_classes, dropout).to(device)\n",
    "torchinfo.summary(model, input_size=(batch_size, input_size, X_train.shape[1]),\n",
    "                  col_names=[\"input_size\", \"output_size\", \"num_params\"])"
   ],
   "id": "258bd80281628ed7",
   "outputs": [
    {
     "data": {
      "text/plain": [
       "===================================================================================================================\n",
       "Layer (type:depth-idx)                   Input Shape               Output Shape              Param #\n",
       "===================================================================================================================\n",
       "BidirectionalLSTMModel                   [64, 1, 4201]             [64, 2]                   --\n",
       "├─Sequential: 1-1                        [64, 1, 4201]             [64, 64, 1]               --\n",
       "│    └─Conv1d: 2-1                       [64, 1, 4201]             [64, 64, 4201]            512\n",
       "│    └─BatchNorm1d: 2-2                  [64, 64, 4201]            [64, 64, 4201]            128\n",
       "│    └─ReLU: 2-3                         [64, 64, 4201]            [64, 64, 4201]            --\n",
       "│    └─MaxPool1d: 2-4                    [64, 64, 4201]            [64, 64, 2100]            --\n",
       "│    └─Conv1d: 2-5                       [64, 64, 2100]            [64, 128, 2100]           41,088\n",
       "│    └─BatchNorm1d: 2-6                  [64, 128, 2100]           [64, 128, 2100]           256\n",
       "│    └─ReLU: 2-7                         [64, 128, 2100]           [64, 128, 2100]           --\n",
       "│    └─MaxPool1d: 2-8                    [64, 128, 2100]           [64, 128, 1050]           --\n",
       "│    └─Conv1d: 2-9                       [64, 128, 1050]           [64, 64, 1050]            24,640\n",
       "│    └─BatchNorm1d: 2-10                 [64, 64, 1050]            [64, 64, 1050]            128\n",
       "│    └─ReLU: 2-11                        [64, 64, 1050]            [64, 64, 1050]            --\n",
       "│    └─AdaptiveAvgPool1d: 2-12           [64, 64, 1050]            [64, 64, 1]               --\n",
       "├─LSTM: 1-2                              [64, 1, 64]               [64, 1, 128]              265,216\n",
       "├─Sequential: 1-3                        [64, 128]                 [64, 2]                   --\n",
       "│    └─Dropout: 2-13                     [64, 128]                 [64, 128]                 --\n",
       "│    └─Linear: 2-14                      [64, 128]                 [64, 32]                  4,128\n",
       "│    └─BatchNorm1d: 2-15                 [64, 32]                  [64, 32]                  64\n",
       "│    └─ReLU: 2-16                        [64, 32]                  [64, 32]                  --\n",
       "│    └─Linear: 2-17                      [64, 32]                  [64, 2]                   66\n",
       "│    └─Sigmoid: 2-18                     [64, 2]                   [64, 2]                   --\n",
       "===================================================================================================================\n",
       "Total params: 336,226\n",
       "Trainable params: 336,226\n",
       "Non-trainable params: 0\n",
       "Total mult-adds (Units.GIGABYTES): 7.33\n",
       "===================================================================================================================\n",
       "Input size (MB): 1.08\n",
       "Forward/backward pass size (MB): 619.48\n",
       "Params size (MB): 1.34\n",
       "Estimated Total Size (MB): 621.90\n",
       "==================================================================================================================="
      ]
     },
     "execution_count": 59,
     "metadata": {},
     "output_type": "execute_result"
    }
   ],
   "execution_count": 59
  },
  {
   "metadata": {
    "ExecuteTime": {
     "end_time": "2025-05-12T11:19:16.648817Z",
     "start_time": "2025-05-12T11:19:16.643176Z"
    }
   },
   "cell_type": "code",
   "source": [
    "criterion = nn.CrossEntropyLoss()\n",
    "optimizer = torch.optim.Adam(model.parameters(), lr=learning_rate)"
   ],
   "id": "78033d1a8b91a2d4",
   "outputs": [],
   "execution_count": 60
  },
  {
   "metadata": {
    "ExecuteTime": {
     "end_time": "2025-05-12T11:19:36.360545Z",
     "start_time": "2025-05-12T11:19:16.655895Z"
    }
   },
   "cell_type": "code",
   "source": [
    "bidirectional_lstm_model, bidirectional_lstm_history = train_model(model, train_loader, criterion, optimizer,\n",
    "                                                                   num_epochs, device)"
   ],
   "id": "dd10afeae9951d65",
   "outputs": [
    {
     "name": "stdout",
     "output_type": "stream",
     "text": [
      "Epoch   | Train Loss   | Train Acc  | Improvement\n",
      "--------------------------------------------------\n",
      "  1/50  |     0.6771 |    63.65% | ✓\n",
      "  2/50  |     0.5851 |    90.81% | ✓\n",
      "  3/50  |     0.5133 |    96.67% | ✓\n",
      "  4/50  |     0.4704 |    97.87% | ✓\n",
      "  5/50  |     0.4408 |    98.40% | ✓\n",
      "  6/50  |     0.4152 |    98.67% | ✓\n",
      "  7/50  |     0.3985 |    98.93% | ✓\n",
      "  8/50  |     0.3888 |    98.14% | \n",
      "  9/50  |     0.3775 |    98.54% | \n",
      " 10/50  |     0.3686 |    98.67% | \n",
      " 11/50  |     0.3616 |    98.54% | \n",
      " 12/50  |     0.3562 |    98.80% | \n",
      " 13/50  |     0.3500 |    98.93% | \n",
      " 14/50  |     0.3515 |    98.40% | \n",
      " 15/50  |     0.3483 |    98.27% | \n",
      " 16/50  |     0.3408 |    99.33% | ✓\n",
      " 17/50  |     0.3403 |    98.80% | \n",
      " 18/50  |     0.3419 |    98.93% | \n",
      " 19/50  |     0.3406 |    98.67% | \n",
      " 20/50  |     0.3394 |    98.67% | \n",
      " 21/50  |     0.3356 |    98.80% | \n",
      " 22/50  |     0.3324 |    99.20% | \n",
      " 23/50  |     0.3339 |    98.80% | \n",
      " 24/50  |     0.3326 |    98.93% | \n",
      " 25/50  |     0.3316 |    99.07% | \n",
      " 26/50  |     0.3263 |    99.47% | ✓\n",
      " 27/50  |     0.3258 |    99.60% | ✓\n",
      " 28/50  |     0.3315 |    98.80% | \n",
      " 29/50  |     0.3278 |    99.33% | \n",
      " 30/50  |     0.3319 |    98.80% | \n",
      " 31/50  |     0.3285 |    99.07% | \n",
      " 32/50  |     0.3330 |    98.54% | \n",
      " 33/50  |     0.3283 |    98.93% | \n",
      " 34/50  |     0.3272 |    98.80% | \n",
      " 35/50  |     0.3236 |    99.33% | \n",
      " 36/50  |     0.3299 |    98.54% | \n",
      " 37/50  |     0.3264 |    98.93% | \n",
      " 38/50  |     0.3235 |    99.33% | \n",
      " 39/50  |     0.3315 |    98.40% | \n",
      " 40/50  |     0.3262 |    98.93% | \n",
      " 41/50  |     0.3258 |    98.93% | \n",
      " 42/50  |     0.3235 |    99.20% | \n",
      " 43/50  |     0.3243 |    98.93% | \n",
      " 44/50  |     0.3262 |    99.07% | \n",
      " 45/50  |     0.3259 |    98.93% | \n",
      " 46/50  |     0.3197 |    99.73% | ✓\n",
      " 47/50  |     0.3224 |    99.47% | \n",
      " 48/50  |     0.3220 |    99.47% | \n",
      " 49/50  |     0.3194 |    99.60% | \n",
      " 50/50  |     0.3285 |    98.67% | \n",
      "\n",
      "Training complete! Best accuracy: 99.73%\n"
     ]
    }
   ],
   "execution_count": 61
  },
  {
   "metadata": {
    "ExecuteTime": {
     "end_time": "2025-05-12T11:19:46.313454Z",
     "start_time": "2025-05-12T11:19:46.071936Z"
    }
   },
   "cell_type": "code",
   "source": "plot_training_history(bidirectional_lstm_history)",
   "id": "b5a09429b252983",
   "outputs": [
    {
     "data": {
      "text/plain": [
       "<Figure size 1200x400 with 2 Axes>"
      ],
      "image/png": "[encoded data removed]"
     },
     "metadata": {},
     "output_type": "display_data"
    }
   ],
   "execution_count": 62
  },
  {
   "metadata": {
    "ExecuteTime": {
     "end_time": "2025-05-12T11:19:55.934028Z",
     "start_time": "2025-05-12T11:19:55.415395Z"
    }
   },
   "cell_type": "code",
   "source": "bidirectional_lstm_metrics = evaluate_model(bidirectional_lstm_model, test_loader, device, class_names)",
   "id": "9e8c94b297fb16d6",
   "outputs": [
    {
     "name": "stdout",
     "output_type": "stream",
     "text": [
      "\n",
      "============= Test Results =============\n",
      "Overall Accuracy: 92.68%\n",
      "\n",
      "Classification Report:\n",
      "              precision    recall  f1-score   support\n",
      "\n",
      "           0     0.8739    1.0000    0.9327       381\n",
      "           1     1.0000    0.8514    0.9197       370\n",
      "\n",
      "    accuracy                         0.9268       751\n",
      "   macro avg     0.9369    0.9257    0.9262       751\n",
      "weighted avg     0.9360    0.9268    0.9263       751\n",
      "\n"
     ]
    },
    {
     "data": {
      "text/plain": [
       "<Figure size 1000x800 with 1 Axes>"
      ],
      "image/png": "[encoded data removed]"
     },
     "metadata": {},
     "output_type": "display_data"
    }
   ],
   "execution_count": 63
  },
  {
   "metadata": {},
   "cell_type": "markdown",
   "source": "### CNN",
   "id": "df6dda20737a8cce"
  },
  {
   "metadata": {
    "ExecuteTime": {
     "end_time": "2025-05-12T11:20:05.307903Z",
     "start_time": "2025-05-12T11:20:05.302760Z"
    }
   },
   "cell_type": "code",
   "source": [
    "class CNNModel(nn.Module):\n",
    "    def __init__(self, input_channels=1, num_classes=2):\n",
    "        super(CNNModel, self).__init__()\n",
    "\n",
    "        # Feature extraction with CNN blocks - reduced to 3 blocks\n",
    "        self.features = nn.Sequential(\n",
    "            # Block 1\n",
    "            nn.Conv1d(input_channels, 64, kernel_size=7, padding=3),\n",
    "            nn.BatchNorm1d(64),\n",
    "            nn.ReLU(),\n",
    "            nn.MaxPool1d(2),\n",
    "\n",
    "            # Block 2\n",
    "            nn.Conv1d(64, 128, kernel_size=5, padding=2),\n",
    "            nn.BatchNorm1d(128),\n",
    "            nn.ReLU(),\n",
    "            nn.MaxPool1d(2),\n",
    "\n",
    "            # Block 3\n",
    "            nn.Conv1d(128, 256, kernel_size=3, padding=1),\n",
    "            nn.BatchNorm1d(256),\n",
    "            nn.ReLU(),\n",
    "            nn.AdaptiveAvgPool1d(1)\n",
    "        )\n",
    "\n",
    "        # Classifier head\n",
    "        self.classifier = nn.Sequential(\n",
    "            nn.Dropout(0.5),\n",
    "            nn.Linear(256, 128),\n",
    "            nn.BatchNorm1d(128),\n",
    "            nn.ReLU(),\n",
    "            nn.Dropout(0.3),\n",
    "            nn.Linear(128, 64),\n",
    "            nn.ReLU(),\n",
    "            nn.Linear(64, num_classes),\n",
    "            nn.Sigmoid()\n",
    "        )\n",
    "\n",
    "    def forward(self, x):\n",
    "        # Feature extraction\n",
    "        x = self.features(x)\n",
    "\n",
    "        # Flatten\n",
    "        x = x.view(x.size(0), -1)\n",
    "\n",
    "        # Classification\n",
    "        x = self.classifier(x)\n",
    "        return x"
   ],
   "id": "41d9b04c1864e616",
   "outputs": [],
   "execution_count": 64
  },
  {
   "metadata": {
    "ExecuteTime": {
     "end_time": "2025-05-12T11:20:15.412585Z",
     "start_time": "2025-05-12T11:20:15.386556Z"
    }
   },
   "cell_type": "code",
   "source": [
    "model = CNNModel(input_size, num_classes).to(device)\n",
    "torchinfo.summary(model, input_size=(batch_size, input_size, X_train.shape[1]),\n",
    "                  col_names=[\"input_size\", \"output_size\", \"num_params\"])"
   ],
   "id": "e110521c0c4d9d21",
   "outputs": [
    {
     "data": {
      "text/plain": [
       "===================================================================================================================\n",
       "Layer (type:depth-idx)                   Input Shape               Output Shape              Param #\n",
       "===================================================================================================================\n",
       "CNNModel                                 [64, 1, 4201]             [64, 2]                   --\n",
       "├─Sequential: 1-1                        [64, 1, 4201]             [64, 256, 1]              --\n",
       "│    └─Conv1d: 2-1                       [64, 1, 4201]             [64, 64, 4201]            512\n",
       "│    └─BatchNorm1d: 2-2                  [64, 64, 4201]            [64, 64, 4201]            128\n",
       "│    └─ReLU: 2-3                         [64, 64, 4201]            [64, 64, 4201]            --\n",
       "│    └─MaxPool1d: 2-4                    [64, 64, 4201]            [64, 64, 2100]            --\n",
       "│    └─Conv1d: 2-5                       [64, 64, 2100]            [64, 128, 2100]           41,088\n",
       "│    └─BatchNorm1d: 2-6                  [64, 128, 2100]           [64, 128, 2100]           256\n",
       "│    └─ReLU: 2-7                         [64, 128, 2100]           [64, 128, 2100]           --\n",
       "│    └─MaxPool1d: 2-8                    [64, 128, 2100]           [64, 128, 1050]           --\n",
       "│    └─Conv1d: 2-9                       [64, 128, 1050]           [64, 256, 1050]           98,560\n",
       "│    └─BatchNorm1d: 2-10                 [64, 256, 1050]           [64, 256, 1050]           512\n",
       "│    └─ReLU: 2-11                        [64, 256, 1050]           [64, 256, 1050]           --\n",
       "│    └─AdaptiveAvgPool1d: 2-12           [64, 256, 1050]           [64, 256, 1]              --\n",
       "├─Sequential: 1-2                        [64, 256]                 [64, 2]                   --\n",
       "│    └─Dropout: 2-13                     [64, 256]                 [64, 256]                 --\n",
       "│    └─Linear: 2-14                      [64, 256]                 [64, 128]                 32,896\n",
       "│    └─BatchNorm1d: 2-15                 [64, 128]                 [64, 128]                 256\n",
       "│    └─ReLU: 2-16                        [64, 128]                 [64, 128]                 --\n",
       "│    └─Dropout: 2-17                     [64, 128]                 [64, 128]                 --\n",
       "│    └─Linear: 2-18                      [64, 128]                 [64, 64]                  8,256\n",
       "│    └─ReLU: 2-19                        [64, 64]                  [64, 64]                  --\n",
       "│    └─Linear: 2-20                      [64, 64]                  [64, 2]                   130\n",
       "│    └─Sigmoid: 2-21                     [64, 2]                   [64, 2]                   --\n",
       "===================================================================================================================\n",
       "Total params: 182,594\n",
       "Trainable params: 182,594\n",
       "Non-trainable params: 0\n",
       "Total mult-adds (Units.GIGABYTES): 12.29\n",
       "===================================================================================================================\n",
       "Input size (MB): 1.08\n",
       "Forward/backward pass size (MB): 825.98\n",
       "Params size (MB): 0.73\n",
       "Estimated Total Size (MB): 827.79\n",
       "==================================================================================================================="
      ]
     },
     "execution_count": 65,
     "metadata": {},
     "output_type": "execute_result"
    }
   ],
   "execution_count": 65
  },
  {
   "metadata": {
    "ExecuteTime": {
     "end_time": "2025-05-12T11:20:24.481050Z",
     "start_time": "2025-05-12T11:20:24.476822Z"
    }
   },
   "cell_type": "code",
   "source": [
    "criterion = nn.CrossEntropyLoss()\n",
    "optimizer = torch.optim.Adam(model.parameters(), lr=learning_rate)"
   ],
   "id": "27a00be868c63277",
   "outputs": [],
   "execution_count": 66
  },
  {
   "metadata": {
    "ExecuteTime": {
     "end_time": "2025-05-12T11:21:03.731215Z",
     "start_time": "2025-05-12T11:20:41.443415Z"
    }
   },
   "cell_type": "code",
   "source": "cnn_model, cnn_history = train_model(model, train_loader, criterion, optimizer, num_epochs, device)",
   "id": "8de22f99ee494290",
   "outputs": [
    {
     "name": "stdout",
     "output_type": "stream",
     "text": [
      "Epoch   | Train Loss   | Train Acc  | Improvement\n",
      "--------------------------------------------------\n",
      "  1/50  |     0.6047 |    89.61% | ✓\n",
      "  2/50  |     0.4494 |    96.14% | ✓\n",
      "  3/50  |     0.3755 |    96.67% | ✓\n",
      "  4/50  |     0.3539 |    97.07% | ✓\n",
      "  5/50  |     0.3451 |    97.60% | ✓\n",
      "  6/50  |     0.3361 |    98.27% | ✓\n",
      "  7/50  |     0.3354 |    98.40% | ✓\n",
      "  8/50  |     0.3359 |    98.27% | \n",
      "  9/50  |     0.3322 |    98.54% | ✓\n",
      " 10/50  |     0.3336 |    98.00% | \n",
      " 11/50  |     0.3310 |    98.40% | \n",
      " 12/50  |     0.3375 |    97.60% | \n",
      " 13/50  |     0.3348 |    98.27% | \n",
      " 14/50  |     0.3313 |    98.14% | \n",
      " 15/50  |     0.3314 |    98.14% | \n",
      " 16/50  |     0.3311 |    98.54% | \n",
      " 17/50  |     0.3289 |    98.67% | ✓\n",
      " 18/50  |     0.3362 |    98.00% | \n",
      " 19/50  |     0.3268 |    99.07% | ✓\n",
      " 20/50  |     0.3289 |    98.54% | \n",
      " 21/50  |     0.3251 |    99.20% | ✓\n",
      " 22/50  |     0.3264 |    98.80% | \n",
      " 23/50  |     0.3276 |    98.54% | \n",
      " 24/50  |     0.3272 |    98.67% | \n",
      " 25/50  |     0.3342 |    97.74% | \n",
      " 26/50  |     0.3309 |    98.27% | \n",
      " 27/50  |     0.3302 |    98.40% | \n",
      " 28/50  |     0.3273 |    98.67% | \n",
      " 29/50  |     0.3328 |    98.00% | \n",
      " 30/50  |     0.3256 |    98.93% | \n",
      " 31/50  |     0.3251 |    98.93% | \n",
      " 32/50  |     0.3275 |    98.54% | \n",
      " 33/50  |     0.3252 |    98.80% | \n",
      " 34/50  |     0.3291 |    98.40% | \n",
      " 35/50  |     0.3230 |    99.07% | \n",
      " 36/50  |     0.3235 |    98.93% | \n",
      " 37/50  |     0.3230 |    99.20% | \n",
      " 38/50  |     0.3302 |    98.27% | \n",
      " 39/50  |     0.3284 |    98.40% | \n",
      " 40/50  |     0.3281 |    98.80% | \n",
      " 41/50  |     0.3270 |    98.54% | \n",
      " 42/50  |     0.3266 |    98.67% | \n",
      " 43/50  |     0.3272 |    98.67% | \n",
      " 44/50  |     0.3251 |    99.07% | \n",
      " 45/50  |     0.3218 |    99.20% | \n",
      " 46/50  |     0.3257 |    98.93% | \n",
      " 47/50  |     0.3247 |    98.80% | \n",
      " 48/50  |     0.3252 |    98.80% | \n",
      " 49/50  |     0.3261 |    98.67% | \n",
      " 50/50  |     0.3225 |    98.93% | \n",
      "\n",
      "Training complete! Best accuracy: 99.20%\n"
     ]
    }
   ],
   "execution_count": 67
  },
  {
   "metadata": {
    "ExecuteTime": {
     "end_time": "2025-05-12T11:21:03.974049Z",
     "start_time": "2025-05-12T11:21:03.743814Z"
    }
   },
   "cell_type": "code",
   "source": "plot_training_history(cnn_history)",
   "id": "5a0e8f69d1f795dc",
   "outputs": [
    {
     "data": {
      "text/plain": [
       "<Figure size 1200x400 with 2 Axes>"
      ],
      "image/png": "[encoded data removed]"
     },
     "metadata": {},
     "output_type": "display_data"
    }
   ],
   "execution_count": 68
  },
  {
   "metadata": {
    "ExecuteTime": {
     "end_time": "2025-05-12T11:21:12.840971Z",
     "start_time": "2025-05-12T11:21:12.356860Z"
    }
   },
   "cell_type": "code",
   "source": "cnn_metrics = evaluate_model(cnn_model, test_loader, device, class_names)",
   "id": "15a94e74075ef10d",
   "outputs": [
    {
     "name": "stdout",
     "output_type": "stream",
     "text": [
      "\n",
      "============= Test Results =============\n",
      "Overall Accuracy: 98.27%\n",
      "\n",
      "Classification Report:\n",
      "              precision    recall  f1-score   support\n",
      "\n",
      "           0     0.9694    0.9974    0.9832       381\n",
      "           1     0.9972    0.9676    0.9822       370\n",
      "\n",
      "    accuracy                         0.9827       751\n",
      "   macro avg     0.9833    0.9825    0.9827       751\n",
      "weighted avg     0.9831    0.9827    0.9827       751\n",
      "\n"
     ]
    },
    {
     "data": {
      "text/plain": [
       "<Figure size 1000x800 with 1 Axes>"
      ],
      "image/png": "[encoded data removed]"
     },
     "metadata": {},
     "output_type": "display_data"
    }
   ],
   "execution_count": 69
  },
  {
   "metadata": {},
   "cell_type": "markdown",
   "source": "# Výsledky",
   "id": "85e08816659fc723"
  },
  {
   "metadata": {},
   "cell_type": "markdown",
   "source": "## Výsledky klasifikace pomocí strojového učení",
   "id": "63b7e8bd855622d3"
  },
  {
   "metadata": {
    "ExecuteTime": {
     "end_time": "2025-05-12T11:21:21.347248Z",
     "start_time": "2025-05-12T11:21:21.325972Z"
    }
   },
   "cell_type": "code",
   "source": [
    "classic_results = {\n",
    "    'Model': ['Decision Tree', 'Random Forest', 'Gradient Boosting'],\n",
    "    'Accuracy': [\n",
    "        classification_report(Y_test, y_test_predictions_dt, output_dict=True)['accuracy'],\n",
    "        classification_report(Y_test, y_test_predictions_rf, output_dict=True)['accuracy'],\n",
    "        classification_report(Y_test, y_test_predictions_gb, output_dict=True)['accuracy']\n",
    "    ]\n",
    "}\n",
    "\n",
    "results_classic = pd.DataFrame(classic_results)\n",
    "results_classic = results_classic.set_index('Model')\n",
    "results_classic = results_classic.sort_values(by='Accuracy', ascending=False)"
   ],
   "id": "def4a3dd54e12b49",
   "outputs": [],
   "execution_count": 70
  },
  {
   "metadata": {
    "ExecuteTime": {
     "end_time": "2025-05-12T11:21:30.027928Z",
     "start_time": "2025-05-12T11:21:30.020177Z"
    }
   },
   "cell_type": "code",
   "source": "results_classic",
   "id": "c2b418c598b58307",
   "outputs": [
    {
     "data": {
      "text/plain": [
       "                   Accuracy\n",
       "Model                      \n",
       "Gradient Boosting  0.924101\n",
       "Random Forest      0.914780\n",
       "Decision Tree      0.865513"
      ],
      "text/html": [
       "<div>\n",
       "<style scoped>\n",
       "    .dataframe tbody tr th:only-of-type {\n",
       "        vertical-align: middle;\n",
       "    }\n",
       "\n",
       "    .dataframe tbody tr th {\n",
       "        vertical-align: top;\n",
       "    }\n",
       "\n",
       "    .dataframe thead th {\n",
       "        text-align: right;\n",
       "    }\n",
       "</style>\n",
       "<table border=\"1\" class=\"dataframe\">\n",
       "  <thead>\n",
       "    <tr style=\"text-align: right;\">\n",
       "      <th></th>\n",
       "      <th>Accuracy</th>\n",
       "    </tr>\n",
       "    <tr>\n",
       "      <th>Model</th>\n",
       "      <th></th>\n",
       "    </tr>\n",
       "  </thead>\n",
       "  <tbody>\n",
       "    <tr>\n",
       "      <th>Gradient Boosting</th>\n",
       "      <td>0.924101</td>\n",
       "    </tr>\n",
       "    <tr>\n",
       "      <th>Random Forest</th>\n",
       "      <td>0.914780</td>\n",
       "    </tr>\n",
       "    <tr>\n",
       "      <th>Decision Tree</th>\n",
       "      <td>0.865513</td>\n",
       "    </tr>\n",
       "  </tbody>\n",
       "</table>\n",
       "</div>"
      ]
     },
     "execution_count": 71,
     "metadata": {},
     "output_type": "execute_result"
    }
   ],
   "execution_count": 71
  },
  {
   "metadata": {
    "ExecuteTime": {
     "end_time": "2025-05-12T11:21:38.716511Z",
     "start_time": "2025-05-12T11:21:38.591875Z"
    }
   },
   "cell_type": "code",
   "source": [
    "plt.figure(figsize=(10, 5))\n",
    "results_classic['Accuracy'].plot(kind='bar')\n",
    "plt.title('Classical Models Accuracy Comparison')\n",
    "plt.ylabel('Accuracy')\n",
    "plt.xticks(rotation=45)\n",
    "plt.tight_layout()\n",
    "plt.show()"
   ],
   "id": "cc028389d8f8ed42",
   "outputs": [
    {
     "data": {
      "text/plain": [
       "<Figure size 1000x500 with 1 Axes>"
      ],
      "image/png": "[encoded data removed]"
     },
     "metadata": {},
     "output_type": "display_data"
    }
   ],
   "execution_count": 72
  },
  {
   "metadata": {},
   "cell_type": "markdown",
   "source": "## Porovnání výsledků klasifikace pomocí neuronových sítí",
   "id": "ac15ff32e7455909"
  },
  {
   "metadata": {
    "ExecuteTime": {
     "end_time": "2025-05-12T11:21:47.691984Z",
     "start_time": "2025-05-12T11:21:47.687905Z"
    }
   },
   "cell_type": "code",
   "source": [
    "nn_results = {\n",
    "    'Model': ['RNN', 'GRU', 'LSTM', 'Bidirectional LSTM', 'CNN'],\n",
    "    'Accuracy': [\n",
    "        rnn_metrics['Accuracy'],\n",
    "        gru_metrics['Accuracy'],\n",
    "        lstm_metrics['Accuracy'],\n",
    "        bidirectional_lstm_metrics['Accuracy'],\n",
    "        cnn_metrics['Accuracy']\n",
    "    ],\n",
    "    'Precision': [\n",
    "        rnn_metrics['Precision'],\n",
    "        gru_metrics['Precision'],\n",
    "        lstm_metrics['Precision'],\n",
    "        bidirectional_lstm_metrics['Precision'],\n",
    "        cnn_metrics['Precision']\n",
    "    ],\n",
    "    'Recall': [\n",
    "        rnn_metrics['Recall'],\n",
    "        gru_metrics['Recall'],\n",
    "        lstm_metrics['Recall'],\n",
    "        bidirectional_lstm_metrics['Recall'],\n",
    "        cnn_metrics['Recall']\n",
    "    ],\n",
    "    'F1-score': [\n",
    "        rnn_metrics['F1-score'],\n",
    "        gru_metrics['F1-score'],\n",
    "        lstm_metrics['F1-score'],\n",
    "        bidirectional_lstm_metrics['F1-score'],\n",
    "        cnn_metrics['F1-score']\n",
    "    ]\n",
    "}"
   ],
   "id": "f5dd2ea8da3c76",
   "outputs": [],
   "execution_count": 74
  },
  {
   "metadata": {
    "ExecuteTime": {
     "end_time": "2025-05-12T11:22:12.871076Z",
     "start_time": "2025-05-12T11:22:12.867054Z"
    }
   },
   "cell_type": "code",
   "source": [
    "results_nn = pd.DataFrame(nn_results)\n",
    "results_nn = results_nn.set_index('Model')"
   ],
   "id": "958b7a2879226df",
   "outputs": [],
   "execution_count": 76
  },
  {
   "metadata": {
    "ExecuteTime": {
     "end_time": "2025-05-12T11:22:21.125378Z",
     "start_time": "2025-05-12T11:22:21.116990Z"
    }
   },
   "cell_type": "code",
   "source": [
    "results_nn_sorted = results_nn.sort_values(by='Accuracy', ascending=False)\n",
    "results_nn_sorted"
   ],
   "id": "a9118348a9d9027c",
   "outputs": [
    {
     "data": {
      "text/plain": [
       "                    Accuracy  Precision    Recall  F1-score\n",
       "Model                                                      \n",
       "RNN                 0.992011   0.992011  0.992011  0.992011\n",
       "GRU                 0.984021   0.984359  0.984021  0.984015\n",
       "CNN                 0.982690   0.983097  0.982690  0.982682\n",
       "LSTM                0.978695   0.979372  0.978695  0.978693\n",
       "Bidirectional LSTM  0.926764   0.936003  0.926764  0.926289"
      ],
      "text/html": [
       "<div>\n",
       "<style scoped>\n",
       "    .dataframe tbody tr th:only-of-type {\n",
       "        vertical-align: middle;\n",
       "    }\n",
       "\n",
       "    .dataframe tbody tr th {\n",
       "        vertical-align: top;\n",
       "    }\n",
       "\n",
       "    .dataframe thead th {\n",
       "        text-align: right;\n",
       "    }\n",
       "</style>\n",
       "<table border=\"1\" class=\"dataframe\">\n",
       "  <thead>\n",
       "    <tr style=\"text-align: right;\">\n",
       "      <th></th>\n",
       "      <th>Accuracy</th>\n",
       "      <th>Precision</th>\n",
       "      <th>Recall</th>\n",
       "      <th>F1-score</th>\n",
       "    </tr>\n",
       "    <tr>\n",
       "      <th>Model</th>\n",
       "      <th></th>\n",
       "      <th></th>\n",
       "      <th></th>\n",
       "      <th></th>\n",
       "    </tr>\n",
       "  </thead>\n",
       "  <tbody>\n",
       "    <tr>\n",
       "      <th>RNN</th>\n",
       "      <td>0.992011</td>\n",
       "      <td>0.992011</td>\n",
       "      <td>0.992011</td>\n",
       "      <td>0.992011</td>\n",
       "    </tr>\n",
       "    <tr>\n",
       "      <th>GRU</th>\n",
       "      <td>0.984021</td>\n",
       "      <td>0.984359</td>\n",
       "      <td>0.984021</td>\n",
       "      <td>0.984015</td>\n",
       "    </tr>\n",
       "    <tr>\n",
       "      <th>CNN</th>\n",
       "      <td>0.982690</td>\n",
       "      <td>0.983097</td>\n",
       "      <td>0.982690</td>\n",
       "      <td>0.982682</td>\n",
       "    </tr>\n",
       "    <tr>\n",
       "      <th>LSTM</th>\n",
       "      <td>0.978695</td>\n",
       "      <td>0.979372</td>\n",
       "      <td>0.978695</td>\n",
       "      <td>0.978693</td>\n",
       "    </tr>\n",
       "    <tr>\n",
       "      <th>Bidirectional LSTM</th>\n",
       "      <td>0.926764</td>\n",
       "      <td>0.936003</td>\n",
       "      <td>0.926764</td>\n",
       "      <td>0.926289</td>\n",
       "    </tr>\n",
       "  </tbody>\n",
       "</table>\n",
       "</div>"
      ]
     },
     "execution_count": 77,
     "metadata": {},
     "output_type": "execute_result"
    }
   ],
   "execution_count": 77
  },
  {
   "metadata": {
    "ExecuteTime": {
     "end_time": "2025-05-12T11:22:21.339451Z",
     "start_time": "2025-05-12T11:22:21.171117Z"
    }
   },
   "cell_type": "code",
   "source": [
    "plt.figure(figsize=(12, 6))\n",
    "results_nn_sorted.plot(kind='bar', width=0.8)\n",
    "plt.title('Neural Network Models Performance Comparison')\n",
    "plt.ylabel('Score')\n",
    "plt.ylim(0.9, 1.0)\n",
    "plt.xticks(rotation=45)\n",
    "plt.legend(bbox_to_anchor=(1.05, 1), loc='upper left')\n",
    "plt.tight_layout()\n",
    "plt.show()"
   ],
   "id": "ecc94e4c4a14e756",
   "outputs": [
    {
     "data": {
      "text/plain": [
       "<Figure size 1200x600 with 0 Axes>"
      ]
     },
     "metadata": {},
     "output_type": "display_data"
    },
    {
     "data": {
      "text/plain": [
       "<Figure size 640x480 with 1 Axes>"
      ],
      "image/png": "[encoded data removed]"
     },
     "metadata": {},
     "output_type": "display_data"
    }
   ],
   "execution_count": 78
  }
 ],
 "metadata": {
  "kernelspec": {
   "display_name": ".venv",
   "language": "python",
   "name": "python3"
  },
  "language_info": {
   "codemirror_mode": {
    "name": "ipython",
    "version": 3
   },
   "file_extension": ".py",
   "mimetype": "text/x-python",
   "name": "python",
   "nbconvert_exporter": "python",
   "pygments_lexer": "ipython3",
   "version": "3.13.2"
  }
 },
 "nbformat": 4,
 "nbformat_minor": 5
}
