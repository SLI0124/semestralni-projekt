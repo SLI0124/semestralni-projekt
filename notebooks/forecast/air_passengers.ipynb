{
 "cells": [
  {
   "cell_type": "markdown",
   "id": "1422412738fe39f1",
   "metadata": {},
   "source": [
    "# Úvod\n",
    "\n",
    "# Air Passengers\n",
    "\n",
    "Datová sada poskytuje měsíční celkové údaje o cestujících americké letecké společnosti od roku 1949 do roku 1960. Tato datová sada je převzata z vestavěné datové sady R s názvem AirPassengers.\n",
    "\n",
    "[Odkaz](https://www.kaggle.com/datasets/chirag19/air-passengers) na dataset dostupný na Kaggle."
   ]
  },
  {
   "cell_type": "markdown",
   "id": "2c0104b8ac1e96c3",
   "metadata": {},
   "source": [
    "# Načtení všech knihoven"
   ]
  },
  {
   "cell_type": "code",
   "execution_count": 19,
   "id": "initial_id",
   "metadata": {
    "ExecuteTime": {
     "end_time": "2025-03-12T23:25:10.839228Z",
     "start_time": "2025-03-12T23:25:10.835483Z"
    },
    "collapsed": true
   },
   "outputs": [],
   "source": [
    "import pandas as pd\n",
    "import matplotlib.pyplot as plt\n",
    "import numpy as np\n",
    "from sklearn.preprocessing import MinMaxScaler"
   ]
  },
  {
   "cell_type": "code",
   "execution_count": 21,
   "id": "37863ed69ecf3235",
   "metadata": {
    "ExecuteTime": {
     "end_time": "2025-03-12T23:26:58.852542Z",
     "start_time": "2025-03-12T23:26:58.844541Z"
    }
   },
   "outputs": [
    {
     "data": {
      "text/html": [
       "<div>\n",
       "<style scoped>\n",
       "    .dataframe tbody tr th:only-of-type {\n",
       "        vertical-align: middle;\n",
       "    }\n",
       "\n",
       "    .dataframe tbody tr th {\n",
       "        vertical-align: top;\n",
       "    }\n",
       "\n",
       "    .dataframe thead th {\n",
       "        text-align: right;\n",
       "    }\n",
       "</style>\n",
       "<table border=\"1\" class=\"dataframe\">\n",
       "  <thead>\n",
       "    <tr style=\"text-align: right;\">\n",
       "      <th></th>\n",
       "      <th>Month</th>\n",
       "      <th>#Passengers</th>\n",
       "    </tr>\n",
       "  </thead>\n",
       "  <tbody>\n",
       "    <tr>\n",
       "      <th>0</th>\n",
       "      <td>1949-01</td>\n",
       "      <td>112</td>\n",
       "    </tr>\n",
       "    <tr>\n",
       "      <th>1</th>\n",
       "      <td>1949-02</td>\n",
       "      <td>118</td>\n",
       "    </tr>\n",
       "    <tr>\n",
       "      <th>2</th>\n",
       "      <td>1949-03</td>\n",
       "      <td>132</td>\n",
       "    </tr>\n",
       "    <tr>\n",
       "      <th>3</th>\n",
       "      <td>1949-04</td>\n",
       "      <td>129</td>\n",
       "    </tr>\n",
       "    <tr>\n",
       "      <th>4</th>\n",
       "      <td>1949-05</td>\n",
       "      <td>121</td>\n",
       "    </tr>\n",
       "  </tbody>\n",
       "</table>\n",
       "</div>"
      ],
      "text/plain": [
       "     Month  #Passengers\n",
       "0  1949-01          112\n",
       "1  1949-02          118\n",
       "2  1949-03          132\n",
       "3  1949-04          129\n",
       "4  1949-05          121"
      ]
     },
     "execution_count": 21,
     "metadata": {},
     "output_type": "execute_result"
    }
   ],
   "source": [
    "file_path = \"datasets/AirPassengers.csv\"\n",
    "df = pd.read_csv(file_path)\n",
    "df.head()"
   ]
  },
  {
   "cell_type": "code",
   "execution_count": 3,
   "id": "edd80aa93770594d",
   "metadata": {
    "ExecuteTime": {
     "end_time": "2025-03-12T19:17:52.098087Z",
     "start_time": "2025-03-12T19:17:52.092388Z"
    }
   },
   "outputs": [],
   "source": [
    "df = df.rename(columns={\"#Passengers\": \"Passengers\"})"
   ]
  },
  {
   "cell_type": "code",
   "execution_count": 4,
   "id": "223db24b5fd6dbab",
   "metadata": {
    "ExecuteTime": {
     "end_time": "2025-03-12T19:17:52.142282Z",
     "start_time": "2025-03-12T19:17:52.138747Z"
    }
   },
   "outputs": [
    {
     "data": {
      "text/plain": [
       "(144, 2)"
      ]
     },
     "execution_count": 4,
     "metadata": {},
     "output_type": "execute_result"
    }
   ],
   "source": [
    "df.shape"
   ]
  },
  {
   "cell_type": "code",
   "execution_count": 5,
   "id": "a2e4e3c3ff5bf5c6",
   "metadata": {
    "ExecuteTime": {
     "end_time": "2025-03-12T19:17:52.262315Z",
     "start_time": "2025-03-12T19:17:52.255615Z"
    }
   },
   "outputs": [
    {
     "data": {
      "text/plain": [
       "Month         0\n",
       "Passengers    0\n",
       "dtype: int64"
      ]
     },
     "execution_count": 5,
     "metadata": {},
     "output_type": "execute_result"
    }
   ],
   "source": [
    "df.isnull().sum()"
   ]
  },
  {
   "cell_type": "code",
   "execution_count": 6,
   "id": "32bfb5b346532122",
   "metadata": {
    "ExecuteTime": {
     "end_time": "2025-03-12T19:17:52.325868Z",
     "start_time": "2025-03-12T19:17:52.314601Z"
    }
   },
   "outputs": [
    {
     "data": {
      "text/html": [
       "<div>\n",
       "<style scoped>\n",
       "    .dataframe tbody tr th:only-of-type {\n",
       "        vertical-align: middle;\n",
       "    }\n",
       "\n",
       "    .dataframe tbody tr th {\n",
       "        vertical-align: top;\n",
       "    }\n",
       "\n",
       "    .dataframe thead th {\n",
       "        text-align: right;\n",
       "    }\n",
       "</style>\n",
       "<table border=\"1\" class=\"dataframe\">\n",
       "  <thead>\n",
       "    <tr style=\"text-align: right;\">\n",
       "      <th></th>\n",
       "      <th>Passengers</th>\n",
       "    </tr>\n",
       "  </thead>\n",
       "  <tbody>\n",
       "    <tr>\n",
       "      <th>count</th>\n",
       "      <td>144.000000</td>\n",
       "    </tr>\n",
       "    <tr>\n",
       "      <th>mean</th>\n",
       "      <td>280.298611</td>\n",
       "    </tr>\n",
       "    <tr>\n",
       "      <th>std</th>\n",
       "      <td>119.966317</td>\n",
       "    </tr>\n",
       "    <tr>\n",
       "      <th>min</th>\n",
       "      <td>104.000000</td>\n",
       "    </tr>\n",
       "    <tr>\n",
       "      <th>25%</th>\n",
       "      <td>180.000000</td>\n",
       "    </tr>\n",
       "    <tr>\n",
       "      <th>50%</th>\n",
       "      <td>265.500000</td>\n",
       "    </tr>\n",
       "    <tr>\n",
       "      <th>75%</th>\n",
       "      <td>360.500000</td>\n",
       "    </tr>\n",
       "    <tr>\n",
       "      <th>max</th>\n",
       "      <td>622.000000</td>\n",
       "    </tr>\n",
       "  </tbody>\n",
       "</table>\n",
       "</div>"
      ],
      "text/plain": [
       "       Passengers\n",
       "count  144.000000\n",
       "mean   280.298611\n",
       "std    119.966317\n",
       "min    104.000000\n",
       "25%    180.000000\n",
       "50%    265.500000\n",
       "75%    360.500000\n",
       "max    622.000000"
      ]
     },
     "execution_count": 6,
     "metadata": {},
     "output_type": "execute_result"
    }
   ],
   "source": [
    "df.describe()"
   ]
  },
  {
   "cell_type": "code",
   "execution_count": 7,
   "id": "98911d976b9f8808",
   "metadata": {
    "ExecuteTime": {
     "end_time": "2025-03-12T19:17:52.396083Z",
     "start_time": "2025-03-12T19:17:52.390044Z"
    }
   },
   "outputs": [],
   "source": [
    "df[\"Month\"] = pd.to_datetime(df[\"Month\"])\n",
    "df.index = df[\"Month\"]\n",
    "df = df.drop(\"Month\", axis=1)"
   ]
  },
  {
   "cell_type": "code",
   "execution_count": 8,
   "id": "d2571d2d847f7a6",
   "metadata": {
    "ExecuteTime": {
     "end_time": "2025-03-12T19:17:52.555124Z",
     "start_time": "2025-03-12T19:17:52.552379Z"
    }
   },
   "outputs": [],
   "source": [
    "data = df[\"Passengers\"]\n",
    "data = data.astype(int)\n",
    "data = data.values.reshape(-1, 1)"
   ]
  },
  {
   "cell_type": "code",
   "execution_count": 9,
   "id": "dfbfff753a908200",
   "metadata": {
    "ExecuteTime": {
     "end_time": "2025-03-12T19:17:52.633111Z",
     "start_time": "2025-03-12T19:17:52.626897Z"
    }
   },
   "outputs": [
    {
     "data": {
      "text/plain": [
       "array([[112],\n",
       "       [118],\n",
       "       [132],\n",
       "       [129],\n",
       "       [121],\n",
       "       [135],\n",
       "       [148],\n",
       "       [148],\n",
       "       [136],\n",
       "       [119]])"
      ]
     },
     "execution_count": 9,
     "metadata": {},
     "output_type": "execute_result"
    }
   ],
   "source": [
    "data[:10]"
   ]
  },
  {
   "cell_type": "code",
   "execution_count": 10,
   "id": "73193bdfe086a231",
   "metadata": {
    "ExecuteTime": {
     "end_time": "2025-03-12T19:17:52.768702Z",
     "start_time": "2025-03-12T19:17:52.764291Z"
    }
   },
   "outputs": [
    {
     "data": {
      "text/plain": [
       "(144, 1)"
      ]
     },
     "execution_count": 10,
     "metadata": {},
     "output_type": "execute_result"
    }
   ],
   "source": [
    "data.shape"
   ]
  },
  {
   "cell_type": "code",
   "execution_count": 11,
   "id": "e4a663355691e0e0",
   "metadata": {
    "ExecuteTime": {
     "end_time": "2025-03-12T19:17:52.970801Z",
     "start_time": "2025-03-12T19:17:52.813216Z"
    }
   },
   "outputs": [
    {
     "data": {
      "image/png": "[encoded data removed]",
      "text/plain": [
       "<Figure size 1200x800 with 1 Axes>"
      ]
     },
     "metadata": {},
     "output_type": "display_data"
    }
   ],
   "source": [
    "plt.figure(figsize=(12, 8))\n",
    "plt.plot(df)\n",
    "plt.xlabel(\"Month\")\n",
    "plt.ylabel(\"Passengers\")\n",
    "plt.title(\"Air Passengers\")\n",
    "plt.show()"
   ]
  },
  {
   "cell_type": "markdown",
   "id": "19e9210ad60edc65",
   "metadata": {},
   "source": [
    "# RNN"
   ]
  },
  {
   "cell_type": "code",
   "execution_count": 12,
   "id": "af9f11153045b60c",
   "metadata": {
    "ExecuteTime": {
     "end_time": "2025-03-12T19:17:52.980476Z",
     "start_time": "2025-03-12T19:17:52.977379Z"
    }
   },
   "outputs": [],
   "source": [
    "split_ratio = 0.8\n",
    "split_index = int(split_ratio * len(data))\n",
    "train_data = data[:split_index]\n",
    "test_data = data[split_index:]"
   ]
  },
  {
   "cell_type": "code",
   "execution_count": 13,
   "id": "3e723cae55a4dfe5",
   "metadata": {
    "ExecuteTime": {
     "end_time": "2025-03-12T19:17:52.998222Z",
     "start_time": "2025-03-12T19:17:52.993387Z"
    }
   },
   "outputs": [
    {
     "name": "stdout",
     "output_type": "stream",
     "text": [
      "Train data shape: (115, 1)\n",
      "Test data shape: (29, 1)\n"
     ]
    }
   ],
   "source": [
    "print(f\"Train data shape: {train_data.shape}\\nTest data shape: {test_data.shape}\")"
   ]
  },
  {
   "cell_type": "markdown",
   "id": "374d4750de34c45e",
   "metadata": {},
   "source": [
    "## Encoder"
   ]
  },
  {
   "cell_type": "code",
   "execution_count": 14,
   "id": "ce84bcf92f9500f2",
   "metadata": {
    "ExecuteTime": {
     "end_time": "2025-03-12T19:17:53.014079Z",
     "start_time": "2025-03-12T19:17:53.009630Z"
    }
   },
   "outputs": [],
   "source": [
    "scaler = MinMaxScaler()\n",
    "train_data = scaler.fit_transform(train_data)\n",
    "test_data = scaler.transform(test_data)"
   ]
  },
  {
   "cell_type": "code",
   "execution_count": 15,
   "id": "8c8de63e5a8c0dc5",
   "metadata": {
    "ExecuteTime": {
     "end_time": "2025-03-12T19:17:53.034918Z",
     "start_time": "2025-03-12T19:17:53.027325Z"
    }
   },
   "outputs": [
    {
     "data": {
      "text/plain": [
       "array([[0.02067183],\n",
       "       [0.03617571],\n",
       "       [0.07235142],\n",
       "       [0.06459948],\n",
       "       [0.04392765],\n",
       "       [0.08010336],\n",
       "       [0.11369509],\n",
       "       [0.11369509],\n",
       "       [0.08268734],\n",
       "       [0.03875969]])"
      ]
     },
     "execution_count": 15,
     "metadata": {},
     "output_type": "execute_result"
    }
   ],
   "source": [
    "train_data[:10]"
   ]
  },
  {
   "cell_type": "markdown",
   "id": "e4295ab04c0a5171",
   "metadata": {},
   "source": [
    "## Create features"
   ]
  },
  {
   "cell_type": "code",
   "execution_count": 16,
   "id": "81df8be9d39a379c",
   "metadata": {
    "ExecuteTime": {
     "end_time": "2025-03-12T19:17:53.082049Z",
     "start_time": "2025-03-12T19:17:53.078006Z"
    }
   },
   "outputs": [],
   "source": [
    "X, Y = [], []\n",
    "for i in range(1, len(train_data)):\n",
    "    X.append(train_data[i - 1:i])\n",
    "    Y.append(train_data[i])\n",
    "X, Y = np.array(X), np.array(Y)"
   ]
  },
  {
   "cell_type": "code",
   "execution_count": 17,
   "id": "fad5f348f56b1c26",
   "metadata": {
    "ExecuteTime": {
     "end_time": "2025-03-12T19:18:25.342562Z",
     "start_time": "2025-03-12T19:18:25.338632Z"
    }
   },
   "outputs": [
    {
     "name": "stdout",
     "output_type": "stream",
     "text": [
      "X_train shape: (114, 1, 1)\n",
      "Y_train shape: (114, 1)\n",
      "X_test shape: (0, 1, 1)\n",
      "Y_test shape: (0, 1)\n"
     ]
    }
   ],
   "source": [
    "X_train = X[:split_index]\n",
    "Y_train = Y[:split_index]\n",
    "X_test = X[split_index:]\n",
    "Y_test = Y[split_index:]\n",
    "print(\n",
    "    f\"X_train shape: {X_train.shape}\\nY_train shape: {Y_train.shape}\\nX_test shape: {X_test.shape}\\nY_test shape: {Y_test.shape}\")"
   ]
  },
  {
   "cell_type": "markdown",
   "id": "66918aa2eb4d2d88",
   "metadata": {},
   "source": [
    "# LTSM"
   ]
  },
  {
   "cell_type": "markdown",
   "id": "10e83dc98a5f3b50",
   "metadata": {},
   "source": [
    "# ARIMA"
   ]
  }
 ],
 "metadata": {
  "kernelspec": {
   "display_name": ".venv",
   "language": "python",
   "name": "python3"
  },
  "language_info": {
   "codemirror_mode": {
    "name": "ipython",
    "version": 2
   },
   "file_extension": ".py",
   "mimetype": "text/x-python",
   "name": "python",
   "nbconvert_exporter": "python",
   "pygments_lexer": "ipython2",
   "version": "3.13.2"
  }
 },
 "nbformat": 4,
 "nbformat_minor": 5
}
